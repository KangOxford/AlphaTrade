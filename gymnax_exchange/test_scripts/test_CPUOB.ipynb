{
 "cells": [
  {
   "attachments": {},
   "cell_type": "markdown",
   "metadata": {},
   "source": [
    "#### This file will demonstrate, and visualise the key functionalities of the Jax order book implementation. Further, it will measure the walltime speeds for these basic operations."
   ]
  },
  {
   "cell_type": "code",
   "execution_count": 35,
   "metadata": {},
   "outputs": [
    {
     "name": "stdout",
     "output_type": "stream",
     "text": [
      "The autoreload extension is already loaded. To reload it, use:\n",
      "  %reload_ext autoreload\n"
     ]
    }
   ],
   "source": [
    "%load_ext autoreload\n",
    "%autoreload 2\n",
    "from gym_exchange.orderbook.orderbook import OrderBook\n",
    "import gym_exchange.orderbook.test.genOrders as gen\n",
    "import time\n",
    "import random"
   ]
  },
  {
   "cell_type": "code",
   "execution_count": 36,
   "metadata": {},
   "outputs": [],
   "source": [
    "def create_init_ob(eqsize=10):\n",
    "    nlim=eqsize//3\n",
    "    ob=OrderBook()\n",
    "    buys=[]\n",
    "    sells=[]\n",
    "    id_init=900000\n",
    "    time_init=34200.0\n",
    "    for i in range(nlim):\n",
    "        buys.append(gen.generate_new_buy(id_init,id_init,str(time_init)))\n",
    "        sells.append(gen.generate_new_sell(id_init+1,id_init+1,str(time_init+1)))\n",
    "        id_init+=2\n",
    "\n",
    "    for order in buys+sells:\n",
    "        ob.process_order(order,True,True)\n",
    "    return ob\n",
    "        \n"
   ]
  },
  {
   "attachments": {},
   "cell_type": "markdown",
   "metadata": {},
   "source": [
    "Measuring the time for the most basic operations: Adding and order and removing an order from a given side of the book."
   ]
  },
  {
   "attachments": {},
   "cell_type": "markdown",
   "metadata": {},
   "source": [
    "Matching a single order against an identified order from the other side of the book:"
   ]
  },
  {
   "attachments": {},
   "cell_type": "markdown",
   "metadata": {},
   "source": [
    "Match against an entire side, continuing until either the full incoming order is matched, the book is empty, or the best price is no longer acceptable to the lim-order."
   ]
  },
  {
   "attachments": {},
   "cell_type": "markdown",
   "metadata": {},
   "source": [
    "Matching is what takes the longest, and increases when the while loop needs to turn for longer. But even for a single iteration, it takes roughly 1.5 times the time than a simple add order.\n",
    "Next we consider the higher-level message types and include the branching logic required to direct orders across different types and sides of orders."
   ]
  },
  {
   "cell_type": "code",
   "execution_count": 37,
   "metadata": {},
   "outputs": [
    {
     "name": "stdout",
     "output_type": "stream",
     "text": [
      "7.060050964355468e-06\n"
     ]
    }
   ],
   "source": [
    "random.seed(0)\n",
    "n_books=1000\n",
    "obs=[create_init_ob(100) for i in range(n_books)]\n",
    "\n",
    "order=gen.generate_new_buy(8888,8888,'36000.124')\n",
    "s=time.time()\n",
    "for i,b in enumerate(obs):\n",
    "    b.process_order(order,True,True)\n",
    "en=time.time()\n",
    "print((en-s)/len(obs))\n"
   ]
  },
  {
   "cell_type": "code",
   "execution_count": 38,
   "metadata": {},
   "outputs": [
    {
     "name": "stdout",
     "output_type": "stream",
     "text": [
      "3.4096240997314453e-06\n"
     ]
    }
   ],
   "source": [
    "s=time.time()\n",
    "for i,b in enumerate(obs):\n",
    "    b.cancel_order('bid',8888,'37000.0')\n",
    "en=time.time()\n",
    "print((en-s)/len(obs))"
   ]
  },
  {
   "cell_type": "code",
   "execution_count": 39,
   "metadata": {},
   "outputs": [
    {
     "name": "stdout",
     "output_type": "stream",
     "text": [
      "7.573788404464722e-06\n"
     ]
    }
   ],
   "source": [
    "trials=1000\n",
    "rolling=0\n",
    "#random.seed(0)\n",
    "n_books=1000\n",
    "obs=[create_init_ob(100) for i in range(n_books)]\n",
    "\n",
    "\n",
    "for i in range(trials):\n",
    "    order=gen.generate_cross_buy(7777,7777,'39000.125')\n",
    "    #print(order)\n",
    "    s=time.time()\n",
    "    for i,b in enumerate(obs):\n",
    "        b.process_order(order,True,False)\n",
    "    en=time.time()\n",
    "    rolling+=(en-s)\n",
    "print((rolling)/len(obs)/trials)"
   ]
  },
  {
   "cell_type": "code",
   "execution_count": 40,
   "metadata": {},
   "outputs": [
    {
     "name": "stdout",
     "output_type": "stream",
     "text": [
      "1.899247646331787e-06\n"
     ]
    }
   ],
   "source": [
    "trials=1000\n",
    "rolling=0\n",
    "#random.seed(0)\n",
    "n_books=1000\n",
    "obs=[create_init_ob(100) for i in range(n_books)]\n",
    "\n",
    "for i in range(trials):\n",
    "    order=gen.generate_market_buy(6666,6666,'39500.125')\n",
    "    #print(order)\n",
    "    s=time.time()\n",
    "    for i,b in enumerate(obs):\n",
    "        b.process_order(order,True,False)\n",
    "    en=time.time()\n",
    "    rolling+=(en-s)\n",
    "print((rolling)/len(obs)/trials)"
   ]
  },
  {
   "cell_type": "code",
   "execution_count": null,
   "metadata": {},
   "outputs": [],
   "source": []
  },
  {
   "cell_type": "code",
   "execution_count": null,
   "metadata": {},
   "outputs": [],
   "source": []
  },
  {
   "cell_type": "code",
   "execution_count": null,
   "metadata": {},
   "outputs": [],
   "source": []
  },
  {
   "cell_type": "code",
   "execution_count": null,
   "metadata": {},
   "outputs": [],
   "source": []
  }
 ],
 "metadata": {
  "kernelspec": {
   "display_name": "alphatrade",
   "language": "python",
   "name": "python3"
  },
  "language_info": {
   "codemirror_mode": {
    "name": "ipython",
    "version": 3
   },
   "file_extension": ".py",
   "mimetype": "text/x-python",
   "name": "python",
   "nbconvert_exporter": "python",
   "pygments_lexer": "ipython3",
   "version": "3.10.11"
  },
  "orig_nbformat": 4
 },
 "nbformat": 4,
 "nbformat_minor": 2
}
