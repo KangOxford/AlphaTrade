{
 "cells": [
  {
   "attachments": {},
   "cell_type": "markdown",
   "metadata": {},
   "source": [
    "#### This file will demonstrate, and visualise the key functionalities of the Jax order book implementation. Further, it will measure the walltime speeds for these basic operations."
   ]
  },
  {
   "cell_type": "code",
   "execution_count": 1,
   "metadata": {},
   "outputs": [],
   "source": [
    "%load_ext autoreload\n",
    "%autoreload 2\n",
    "from functools import partial, partialmethod\n",
    "from typing import OrderedDict\n",
    "from jax import numpy as jnp\n",
    "import jax\n",
    "import numpy as np\n",
    "\n",
    "#jax.config.update('jax_platform_name', 'cpu')\n",
    "\n",
    "import gymnax_exchange.jaxob.JaxOrderBookArrays as job\n",
    "\n",
    "\n",
    "\n",
    "import random\n",
    "import time\n",
    "import timeit\n",
    "\n",
    "import sys\n",
    "sys.path.append('/Users/sasrey/AlphaTrade')\n",
    "import gymnax_exchange\n",
    "\n",
    "\n"
   ]
  },
  {
   "cell_type": "code",
   "execution_count": 2,
   "metadata": {},
   "outputs": [],
   "source": [
    "def create_init_book(booksize=10,tradessize=10,pricerange=[2190000,2200000,2210000],quantrange=[0,500],timeinit=[34200,0]):\n",
    "    qtofill=booksize//3 #fill one third of the available space\n",
    "    asks=[]\n",
    "    bids=[]\n",
    "    orderid=1000\n",
    "    traderid=1000\n",
    "    times=timeinit[0]\n",
    "    timens=timeinit[1]\n",
    "    for i in range(qtofill):\n",
    "        asks.append([random.randint(pricerange[1],pricerange[2]),random.randint(quantrange[0],quantrange[1]),orderid,traderid,times,timens])\n",
    "        times+=random.randint(0,1)\n",
    "        timens+=random.randint(0,10000)\n",
    "        bids.append([random.randint(pricerange[1],pricerange[2]),random.randint(quantrange[0],quantrange[1]),orderid+1,traderid+1,times,timens])\n",
    "        times+=random.randint(0,1)\n",
    "        timens+=random.randint(0,10000)\n",
    "        orderid+=2\n",
    "        traderid+=2\n",
    "    bids=jnp.concatenate((jnp.array(bids),jnp.ones((booksize-qtofill,6),dtype=jnp.int32)*-1),axis=0)\n",
    "    asks=jnp.concatenate((jnp.array(asks),jnp.ones((booksize-qtofill,6),dtype=jnp.int32)*-1),axis=0)\n",
    "    trades=jnp.ones((tradessize,6),dtype=jnp.int32)*-1\n",
    "    return asks,bids,trades\n",
    "\n",
    "def create_message(type='limit',side='bid',price=2200000,quant=10,times=36000,timens=0):\n",
    "    if type=='limit':\n",
    "        type_num=1\n",
    "    elif type =='cancel' or type == 'delete':\n",
    "        type_num=2\n",
    "    elif type =='market':\n",
    "        type_num=4\n",
    "    else:\n",
    "        raise ValueError('Type is none of: limit, cancel, delete or market')\n",
    "\n",
    "    if side=='bid':\n",
    "        side_num=1\n",
    "    elif side =='ask':\n",
    "        side_num=-1\n",
    "    else:\n",
    "        raise ValueError('Side is none of: bid or ask')\n",
    "    \n",
    "    dict_msg={\n",
    "    'side':side_num,\n",
    "    'type':type_num,\n",
    "    'price':price,\n",
    "    'quantity':quant,\n",
    "    'orderid':8888,\n",
    "    'traderid':8888,\n",
    "    'time':times,\n",
    "    'time_ns':timens}\n",
    "    array_msg=jnp.array([type_num,side_num,quant,price,8888,8888,times,timens])\n",
    "    return dict_msg,array_msg\n",
    "\n",
    "def create_message_forvmap(type='limit',side='bid',price=2200000,quant=10,times=36000,timens=0,nvmap=10):\n",
    "    if type=='limit':\n",
    "        type_num=1\n",
    "    elif type =='cancel' or type == 'delete':\n",
    "        type_num=2\n",
    "    elif type =='market':\n",
    "        type_num=4\n",
    "    else:\n",
    "        raise ValueError('Type is none of: limit, cancel, delete or market')\n",
    "\n",
    "    if side=='bid':\n",
    "        side_num=1\n",
    "    elif side =='ask':\n",
    "        side_num=-1\n",
    "    else:\n",
    "        raise ValueError('Side is none of: bid or ask')\n",
    "    \n",
    "    dict_msg={\n",
    "    'side':jnp.array([side_num]*nvmap),\n",
    "    'type':jnp.array([type_num]*nvmap),\n",
    "    'price':jnp.array([price]*nvmap),\n",
    "    'quantity':jnp.array([quant]*nvmap),\n",
    "    'orderid':jnp.array([8888]*nvmap),\n",
    "    'traderid':jnp.array([8888]*nvmap),\n",
    "    'time':jnp.array([times]*nvmap),\n",
    "    'time_ns':jnp.array([timens]*nvmap)}\n",
    "    array_msg=jnp.array([type_num,side_num,quant,price,8888,8888,times,timens]*nvmap)\n",
    "    return dict_msg,array_msg"
   ]
  },
  {
   "cell_type": "code",
   "execution_count": 3,
   "metadata": {},
   "outputs": [],
   "source": [
    "n_runs=1000\n",
    "n_repeats=10"
   ]
  },
  {
   "attachments": {},
   "cell_type": "markdown",
   "metadata": {},
   "source": [
    "Measuring the time for the most basic operations: Adding and order and removing an order from a given side of the book."
   ]
  },
  {
   "cell_type": "code",
   "execution_count": 4,
   "metadata": {},
   "outputs": [
    {
     "name": "stderr",
     "output_type": "stream",
     "text": [
      "WARNING: All log messages before absl::InitializeLog() is called are written to STDERR\n",
      "I0000 00:00:1697729713.564935 2255205 tfrt_cpu_pjrt_client.cc:349] TfrtCpuClient created.\n"
     ]
    },
    {
     "name": "stdout",
     "output_type": "stream",
     "text": [
      "Add time for orderbook of size 10 : 0.00011665769610553982 Stdev:  2.82336258091503e-06  Min:  0.00011339719220995903\n",
      "Add time for orderbook of size 100 : 0.00015359500423073766 Stdev:  2.388907738788754e-05  Min:  0.00013932540826499463\n",
      "Add time for orderbook of size 1000 : 0.00017484180349856615 Stdev:  3.544141469062844e-06  Min:  0.00017145046405494214\n",
      "[[2204242     494    1001    1001   34201     663]\n",
      " [2209558     456    1003    1003   34203   13163]\n",
      " [2204104     465    1005    1005   34203   22984]\n",
      " [2191200      77    8888    8888   36000       0]\n",
      " [     -1      -1      -1      -1      -1      -1]\n",
      " [     -1      -1      -1      -1      -1      -1]\n",
      " [     -1      -1      -1      -1      -1      -1]\n",
      " [     -1      -1      -1      -1      -1      -1]\n",
      " [     -1      -1      -1      -1      -1      -1]\n",
      " [     -1      -1      -1      -1      -1      -1]]\n",
      "VMAP add time for orderbook of size 10  \n",
      " various incoming order sizes: 0.0008546348931267858 Stdev:  1.6007305871247412e-05  Min:  0.0008292693085968495\n",
      "VMAP add time for orderbook of size 100  \n",
      " various incoming order sizes: 0.0009016733635216951 Stdev:  2.2985465702989943e-05  Min:  0.0008891125805675983\n",
      "VMAP add time for orderbook of size 1000  \n",
      " various incoming order sizes: 0.002836337496340275 Stdev:  0.00011503510941549756  Min:  0.0026922985911369325\n"
     ]
    }
   ],
   "source": [
    "## Add an order\n",
    "\n",
    "random.seed(0)\n",
    "addout=[]\n",
    "for i in [10,100,1000]:\n",
    "    asks,bids,trades=create_init_book(booksize=i)\n",
    "    mdict,marray=create_message(type='limit',side='bid',price=2191200,quant=77)\n",
    "    out=job.add_order(bids,mdict)\n",
    "    addout.append(out)\n",
    "    res=np.array(timeit.repeat('val=job.add_order(bids,mdict); jax.block_until_ready(val)',repeat=n_repeats,number=n_runs,globals=globals()))\n",
    "    mu=np.mean(res/n_runs)\n",
    "    sigma=np.std(res/n_runs)\n",
    "    mi=np.min(res/n_runs)\n",
    "    print(\"Add time for orderbook of size\",i,\":\",mu,\"Stdev: \", sigma,\" Min: \",mi)\n",
    "    \n",
    "print(addout[0])\n",
    "\n",
    "random.seed(0)\n",
    "#Now do it when vmapped\n",
    "nvmap=1000\n",
    "for i,s in enumerate([10,100,1000]):\n",
    "    asks,bids,trades=create_init_book(booksize=s)\n",
    "    vmdict,marray=create_message_forvmap(type='limit',side='bid',price=2191200,quant=77,nvmap=nvmap)\n",
    "\n",
    "    vbids=jnp.array([bids]*nvmap)\n",
    "\n",
    "    out=job.add_order(bids,mdict)\n",
    "    outv=jax.vmap(job.add_order,(0,{'orderid': 0, 'price': 0, 'quantity': 0, 'side': 0, 'time': 0, 'time_ns': 0, 'traderid': 0, 'type': 0}))(vbids,vmdict)\n",
    "    res=np.array(timeit.repeat(\"val=jax.vmap(job.add_order,(0,{'orderid': 0, 'price': 0, 'quantity': 0, 'side': 0, 'time': 0, 'time_ns': 0, 'traderid': 0, 'type': 0}))(vbids,vmdict); jax.block_until_ready(val)\",number=n_runs,repeat=n_repeats,globals=globals()))\n",
    "    mu=np.mean(res/n_runs)\n",
    "    sigma=np.std(res/n_runs)\n",
    "    mi=np.min(res/n_runs)\n",
    "    print(\"VMAP add time for orderbook of size\",s,\" \\n various incoming order sizes:\",mu,\"Stdev: \", sigma,\" Min: \",mi)\n",
    "\n",
    "\n",
    "\n",
    "\n"
   ]
  },
  {
   "cell_type": "code",
   "execution_count": 5,
   "metadata": {},
   "outputs": [
    {
     "name": "stdout",
     "output_type": "stream",
     "text": [
      "Cancel time for orderbook of size 10 : 8.66373972967267e-05 Stdev:  5.483749225949132e-06\n",
      "Cancel time for orderbook of size 100 : 0.00012360328752547504 Stdev:  5.272897726920175e-06\n",
      "Cancel time for orderbook of size 1000 : 0.00013759225104004145 Stdev:  5.456113120927571e-07\n"
     ]
    },
    {
     "data": {
      "text/plain": [
       "Array([[2204242,     494,    1001,    1001,   34201,     663],\n",
       "       [2209558,     456,    1003,    1003,   34203,   13163],\n",
       "       [2204104,     465,    1005,    1005,   34203,   22984],\n",
       "       [     -1,      -1,      -1,      -1,      -1,      -1],\n",
       "       [     -1,      -1,      -1,      -1,      -1,      -1],\n",
       "       [     -1,      -1,      -1,      -1,      -1,      -1],\n",
       "       [     -1,      -1,      -1,      -1,      -1,      -1],\n",
       "       [     -1,      -1,      -1,      -1,      -1,      -1],\n",
       "       [     -1,      -1,      -1,      -1,      -1,      -1],\n",
       "       [     -1,      -1,      -1,      -1,      -1,      -1]],      dtype=int32)"
      ]
     },
     "execution_count": 5,
     "metadata": {},
     "output_type": "execute_result"
    }
   ],
   "source": [
    "## Cancel an order\n",
    "n_runs=1000\n",
    "random.seed(0)\n",
    "cancelout=[]\n",
    "for i,s in enumerate([10,100,1000]):\n",
    "    bids=addout[i]\n",
    "    mdict,marray=create_message(type='cancel',side='bid',price=2191200,quant=77)\n",
    "    out=job.cancel_order(bids,mdict)\n",
    "    cancelout.append(out)\n",
    "    res=np.array(timeit.repeat('val=job.cancel_order(bids,mdict); jax.block_until_ready(val)',number=n_runs,repeat=n_repeats,globals=globals()))\n",
    "    mu=np.mean(res/n_runs)\n",
    "    sigma=np.std(res/n_runs)\n",
    "    print(\"Cancel time for orderbook of size\",s,\":\",mu,\"Stdev: \", sigma)\n",
    "cancelout[0]"
   ]
  },
  {
   "attachments": {},
   "cell_type": "markdown",
   "metadata": {},
   "source": [
    "Matching a single order against an identified order from the other side of the book:"
   ]
  },
  {
   "cell_type": "code",
   "execution_count": 15,
   "metadata": {},
   "outputs": [
    {
     "name": "stdout",
     "output_type": "stream",
     "text": [
      "Time to get top bid order for order book of size  10 : 4.2800363153219224e-05\n",
      "Match time for orderbook of size 10 : 0.00017796710841357712 Stdev:  3.5799693920809505e-06\n",
      "Time to get top bid order for order book of size  100 : 8.830972760915756e-05\n",
      "Match time for orderbook of size 100 : 0.0001710767026990652 Stdev:  3.729168730023052e-06\n",
      "Time to get top bid order for order book of size  1000 : 9.932580031454563e-05\n",
      "Match time for orderbook of size 1000 : 0.00016701713688671587 Stdev:  6.257017796367845e-07\n"
     ]
    },
    {
     "data": {
      "text/plain": [
       "(Array([[2204242,     494,    1001,    1001,   34201,     663],\n",
       "        [     -1,      -1,      -1,      -1,      -1,      -1],\n",
       "        [2204104,     465,    1005,    1005,   34203,   22984],\n",
       "        [     -1,      -1,      -1,      -1,      -1,      -1],\n",
       "        [     -1,      -1,      -1,      -1,      -1,      -1],\n",
       "        [     -1,      -1,      -1,      -1,      -1,      -1],\n",
       "        [     -1,      -1,      -1,      -1,      -1,      -1],\n",
       "        [     -1,      -1,      -1,      -1,      -1,      -1],\n",
       "        [     -1,      -1,      -1,      -1,      -1,      -1],\n",
       "        [     -1,      -1,      -1,      -1,      -1,      -1]],      dtype=int32),\n",
       " Array(544, dtype=int32),\n",
       " Array([[2209558,     456,    1003,    9999,   36000,       1],\n",
       "        [     -1,      -1,      -1,      -1,      -1,      -1],\n",
       "        [     -1,      -1,      -1,      -1,      -1,      -1],\n",
       "        [     -1,      -1,      -1,      -1,      -1,      -1],\n",
       "        [     -1,      -1,      -1,      -1,      -1,      -1],\n",
       "        [     -1,      -1,      -1,      -1,      -1,      -1],\n",
       "        [     -1,      -1,      -1,      -1,      -1,      -1],\n",
       "        [     -1,      -1,      -1,      -1,      -1,      -1],\n",
       "        [     -1,      -1,      -1,      -1,      -1,      -1],\n",
       "        [     -1,      -1,      -1,      -1,      -1,      -1]],      dtype=int32))"
      ]
     },
     "execution_count": 15,
     "metadata": {},
     "output_type": "execute_result"
    }
   ],
   "source": [
    "matchout=[]\n",
    "\n",
    "for i,s in enumerate([10,100,1000]):\n",
    "    _,_,trades=create_init_book(booksize=s)\n",
    "\n",
    "    bids=cancelout[i]\n",
    "    idx=job.__get_top_bid_order_idx(bids)\n",
    "    print(\"Time to get top bid order for order book of size \",s,\":\",timeit.timeit('val=job.__get_top_bid_order_idx(bids); jax.block_until_ready(val)',number=n_runs,globals=globals())/n_runs)\n",
    "\n",
    "    matchtuple=(idx,bids,1000,0,trades,9999,36000,1)\n",
    "    \n",
    "    bids,qtm,price,trades,agrid,times,timens=job.match_order(matchtuple)\n",
    "    \n",
    "    matchout.append((bids,qtm,trades))\n",
    "    res=np.array(timeit.repeat('val=job.match_order(matchtuple); jax.block_until_ready(val)',number=n_runs,repeat=n_repeats,globals=globals()))\n",
    "    mu=np.mean(res/n_runs)\n",
    "    sigma=np.std(res/n_runs)\n",
    "    print(\"Match time for orderbook of size\",s,\":\",mu,\"Stdev: \", sigma)\n",
    "matchout[0]"
   ]
  },
  {
   "attachments": {},
   "cell_type": "markdown",
   "metadata": {},
   "source": [
    "Match against an entire side, continuing until either the full incoming order is matched, the book is empty, or the best price is no longer acceptable to the lim-order."
   ]
  },
  {
   "cell_type": "code",
   "execution_count": 16,
   "metadata": {},
   "outputs": [
    {
     "name": "stdout",
     "output_type": "stream",
     "text": [
      "Match time for orderbook of size 10  \n",
      " with an incoming order of size 0 : 0.0001599755199626088 Stdev:  1.4136404594710928e-05\n",
      "Match time for orderbook of size 10  \n",
      " with an incoming order of size 10 : 0.00023149909507483242 Stdev:  8.236890279002566e-07\n",
      "Match time for orderbook of size 10  \n",
      " with an incoming order of size 500 : 0.00023494059592485433 Stdev:  3.7953098015473232e-06\n",
      "Match time for orderbook of size 10  \n",
      " with an incoming order of size 1000 : 0.00024334206711500885 Stdev:  1.356343510487945e-05\n",
      "Match time for orderbook of size 10  \n",
      " with an incoming order of size 10000 : 0.00025096572581678625 Stdev:  1.0152672097264163e-05\n",
      "Match time for orderbook of size 100  \n",
      " with an incoming order of size 0 : 0.0002072071246802807 Stdev:  2.8212552781626246e-06\n",
      "Match time for orderbook of size 100  \n",
      " with an incoming order of size 10 : 0.0003378016976639629 Stdev:  1.546980475443614e-06\n",
      "Match time for orderbook of size 100  \n",
      " with an incoming order of size 500 : 0.0003339696293696761 Stdev:  3.1045314183483956e-06\n",
      "Match time for orderbook of size 100  \n",
      " with an incoming order of size 1000 : 0.00032755224313586945 Stdev:  6.04304530384254e-06\n",
      "Match time for orderbook of size 100  \n",
      " with an incoming order of size 10000 : 0.00032075443882495166 Stdev:  2.177133521570959e-06\n",
      "Match time for orderbook of size 1000  \n",
      " with an incoming order of size 0 : 0.0002139644030481577 Stdev:  4.033541317671287e-06\n",
      "Match time for orderbook of size 1000  \n",
      " with an incoming order of size 10 : 0.000367504182830453 Stdev:  6.401657606181451e-06\n",
      "Match time for orderbook of size 1000  \n",
      " with an incoming order of size 500 : 0.0003663584988564253 Stdev:  9.029467830065629e-06\n",
      "Match time for orderbook of size 1000  \n",
      " with an incoming order of size 1000 : 0.00037229597978293894 Stdev:  2.7522411236680734e-06\n",
      "Match time for orderbook of size 1000  \n",
      " with an incoming order of size 10000 : 0.0003571486249566078 Stdev:  7.658858698006405e-06\n",
      "VMAP Match time for orderbook of size 10  \n",
      " various incoming order sizes: 0.0010312881331890822 Stdev:  3.4954602000200114e-06\n",
      "VMAP Match time for orderbook of size 100  \n",
      " various incoming order sizes: 0.0013144908590242267 Stdev:  3.924396864875308e-06\n",
      "VMAP Match time for orderbook of size 1000  \n",
      " various incoming order sizes: 0.0032311226407065992 Stdev:  1.6105959153931846e-05\n"
     ]
    }
   ],
   "source": [
    "matchout=[]\n",
    "\n",
    "for i,s in enumerate([10,100,1000]):\n",
    "    for j,q in enumerate([0,10,500,1000,10000]):\n",
    "        _,_,trades=create_init_book(booksize=s,tradessize=s)\n",
    "\n",
    "        bids=cancelout[i]\n",
    "\n",
    "        matchtuple=(bids,q,0,trades,9999,36000,1)\n",
    "        bids,qtm,price,trades=job._match_against_bid_orders(*matchtuple)\n",
    "        \n",
    "        matchout.append((bids,qtm,trades))\n",
    "        res=np.array(timeit.repeat('val=job._match_against_bid_orders(*matchtuple); jax.block_until_ready(val)',number=n_runs,repeat=n_repeats,globals=globals()))\n",
    "        mu=np.mean(res/n_runs)\n",
    "        sigma=np.std(res/n_runs)\n",
    "        print(\"Match time for orderbook of size\",s,\" \\n with an incoming order of size\",q,\":\",mu,\"Stdev: \", sigma)\n",
    "\n",
    "\n",
    "#Now do it when vmapped (i.e. this skips the cond)\n",
    "nvmap=1000\n",
    "for i,s in enumerate([10,100,1000]):\n",
    "    _,_,trades=create_init_book(booksize=s,tradessize=s)\n",
    "    bids=cancelout[i]\n",
    "\n",
    "    vbids=jnp.array([bids]*nvmap)\n",
    "    vtrades=jnp.array([trades]*nvmap)\n",
    "    vq=jnp.array([100,100,100,100,100]*(nvmap//5))\n",
    "\n",
    "    matchtuple=(vbids,vq,0,vtrades,9999,36000,1)\n",
    "    jax.vmap(job._match_against_bid_orders,((0,0,None,0,None,None,None)))(*matchtuple)\n",
    "    \n",
    "    matchout.append((bids,qtm,trades))\n",
    "    res=np.array(timeit.repeat('val=jax.vmap(job._match_against_bid_orders,((0,0,None,0,None,None,None)))(*matchtuple); jax.block_until_ready(val)',number=n_runs,repeat=n_repeats,globals=globals()))\n",
    "    mu=np.mean(res/n_runs)\n",
    "    sigma=np.std(res/n_runs)\n",
    "    \n",
    "    print(\"VMAP Match time for orderbook of size\",s,\" \\n various incoming order sizes:\",mu,\"Stdev: \", sigma)\n",
    "\n",
    "\n"
   ]
  },
  {
   "attachments": {},
   "cell_type": "markdown",
   "metadata": {},
   "source": [
    "Matching is what takes the longest, and increases when the while loop needs to turn for longer. But even for a single iteration, it takes roughly 1.5 times the time than a simple add order.\n",
    "Next we consider the higher-level message types and include the branching logic required to direct orders across different types and sides of orders."
   ]
  },
  {
   "cell_type": "code",
   "execution_count": 7,
   "metadata": {},
   "outputs": [
    {
     "name": "stdout",
     "output_type": "stream",
     "text": [
      "Limit order for book of size  1000 : 0.0002546505982056259 Stdev:  1.0699935274656523e-05\n",
      "Cancel order for book of size  1000 : 0.00017423695195466278 Stdev:  5.416616068377795e-07\n",
      "Matched limit order for book of size  1000 : 0.00037279701139777895 Stdev:  8.050058718516285e-06\n",
      "VMAP limit order for book of size  1000 : 0.010609133225679399 Stdev:  5.5580927006953906e-05\n",
      "VMAP cancel order for book of size  1000 : 0.010422131344489754 Stdev:  7.548130142640579e-05\n",
      "VMAP matched limit order for book of size  1000 : 0.010352472906559705 Stdev:  5.344761249890838e-05\n"
     ]
    }
   ],
   "source": [
    "random.seed(0)\n",
    "nvmap=1000\n",
    "outs=[]\n",
    "for i in [1000]:\n",
    "    asks,bids,trades=create_init_book(booksize=i,tradessize=i)\n",
    "    _,limitmsg=create_message(type='limit',side='bid',price=2191200,quant=77)\n",
    "    _,cancelmsg=create_message(type='cancel',side='bid',price=2191200,quant=77)\n",
    "    _,matchmsg=create_message(type='limit',side='ask',price=2191200,quant=100)\n",
    "\n",
    "    out,_=job.cond_type_side((asks,bids,trades),limitmsg)\n",
    "    res=np.array(timeit.repeat('val=job.cond_type_side((asks,bids,trades),limitmsg); jax.block_until_ready(val)',number=n_runs,repeat=n_repeats,globals=globals()))\n",
    "    mu=np.mean(res/n_runs)\n",
    "    sigma=np.std(res/n_runs)\n",
    "    print(\"Limit order for book of size \",i,\":\",mu,\"Stdev: \", sigma)\n",
    "    out,_=job.cond_type_side(out,cancelmsg)\n",
    "    res=np.array(timeit.repeat('val=job.cond_type_side(out,cancelmsg); jax.block_until_ready(val)',number=n_runs,repeat=n_repeats,globals=globals()))\n",
    "    mu=np.mean(res/n_runs)\n",
    "    sigma=np.std(res/n_runs)\n",
    "    print(\"Cancel order for book of size \",i,\":\",mu,\"Stdev: \", sigma)\n",
    "    out,_=job.cond_type_side(out,matchmsg)\n",
    "    res=np.array(timeit.repeat('val=job.cond_type_side(out,matchmsg); jax.block_until_ready(val)',number=n_runs,repeat=n_repeats,globals=globals()))\n",
    "    mu=np.mean(res/n_runs)\n",
    "    sigma=np.std(res/n_runs)\n",
    "    print(\"Matched limit order for book of size \",i,\":\",mu,\"Stdev: \", sigma)\n",
    "    outs.append(out)\n",
    "\n",
    "    vasks=jnp.array([asks]*nvmap)\n",
    "    vbids=jnp.array([bids]*nvmap)\n",
    "    vtrades=jnp.array([trades]*nvmap)\n",
    "    vlimitms=jnp.array([limitmsg]*nvmap)\n",
    "    vcancelms=jnp.array([cancelmsg]*nvmap)\n",
    "    vmatchms=jnp.array([matchmsg]*nvmap)\n",
    "\n",
    "    out,_=jax.vmap(job.cond_type_side,((0,0,0),0))((vasks,vbids,vtrades),vlimitms)\n",
    "    res=np.array(timeit.repeat('val=jax.vmap(job.cond_type_side,((0,0,0),0))((vasks,vbids,vtrades),vlimitms); jax.block_until_ready(val)',number=n_runs,repeat=n_repeats,globals=globals()))\n",
    "    mu=np.mean(res/n_runs)\n",
    "    sigma=np.std(res/n_runs)\n",
    "    print(\"VMAP limit order for book of size \",i,\":\",mu,\"Stdev: \", sigma)\n",
    "    out,_=jax.vmap(job.cond_type_side,((0,0,0),0))(out,vcancelms)\n",
    "    res=np.array(timeit.repeat('val=jax.vmap(job.cond_type_side,((0,0,0),0))(out,vcancelms); jax.block_until_ready(val)',number=n_runs,repeat=n_repeats,globals=globals()))\n",
    "    mu=np.mean(res/n_runs)\n",
    "    sigma=np.std(res/n_runs)\n",
    "    print(\"VMAP cancel order for book of size \",i,\":\",mu,\"Stdev: \", sigma)\n",
    "    out,_=jax.vmap(job.cond_type_side,((0,0,0),0))(out,vmatchms)\n",
    "    res=np.array(timeit.repeat('val=jax.vmap(job.cond_type_side,((0,0,0),0))(out,vmatchms); jax.block_until_ready(val)',number=n_runs,repeat=n_repeats,globals=globals()))\n",
    "    mu=np.mean(res/n_runs)\n",
    "    sigma=np.std(res/n_runs)\n",
    "    print(\"VMAP matched limit order for book of size \",i,\":\",mu,\"Stdev: \", sigma)\n",
    "\n",
    "\n",
    "    \n"
   ]
  },
  {
   "cell_type": "markdown",
   "metadata": {},
   "source": [
    "Limit order for book of size  10 : 0.00010684770345687866\n",
    "Cancel order for book of size  10 : 7.434402499347926e-05\n",
    "Matched limit order for book of size  10 : 0.00016043131798505782\n",
    "VMAP limit order for book of size  10 : 0.006443732594139874\n",
    "VMAP cancel order for book of size  10 : 0.0064374489830806856\n",
    "VMAP matched limit order for book of size  10 : 0.006422483234666288\n",
    "Limit order for book of size  100 : 0.00014240943174809216\n",
    "Cancel order for book of size  100 : 8.986285887658596e-05\n",
    "Matched limit order for book of size  100 : 0.0002076397556811571\n",
    "VMAP limit order for book of size  100 : 0.05448427036125213\n",
    "VMAP cancel order for book of size  100 : 0.05465182608179748\n",
    "VMAP matched limit order for book of size  100 : 0.05493127669394016"
   ]
  },
  {
   "cell_type": "code",
   "execution_count": null,
   "metadata": {},
   "outputs": [],
   "source": []
  }
 ],
 "metadata": {
  "kernelspec": {
   "display_name": "alphatrade",
   "language": "python",
   "name": "python3"
  },
  "language_info": {
   "codemirror_mode": {
    "name": "ipython",
    "version": 3
   },
   "file_extension": ".py",
   "mimetype": "text/x-python",
   "name": "python",
   "nbconvert_exporter": "python",
   "pygments_lexer": "ipython3",
   "version": "3.10.13"
  },
  "orig_nbformat": 4
 },
 "nbformat": 4,
 "nbformat_minor": 2
}
