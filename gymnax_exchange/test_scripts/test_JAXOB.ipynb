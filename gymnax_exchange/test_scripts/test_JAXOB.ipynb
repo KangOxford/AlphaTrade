{
 "cells": [
  {
   "attachments": {},
   "cell_type": "markdown",
   "metadata": {},
   "source": [
    "#### This file will demonstrate, and visualise the key functionalities of the Jax order book implementation. Further, it will measure the walltime speeds for these basic operations."
   ]
  },
  {
   "cell_type": "code",
   "execution_count": 1,
   "metadata": {},
   "outputs": [],
   "source": [
    "%load_ext autoreload\n",
    "%autoreload 2\n",
    "from functools import partial, partialmethod\n",
    "from typing import OrderedDict\n",
    "from jax import numpy as jnp\n",
    "import jax\n",
    "\n",
    "#jax.config.update('jax_platform_name', 'cpu')\n",
    "\n",
    "import gymnax_exchange.jaxes.jaxob_new.JaxOrderBookArrays as job\n",
    "\n",
    "\n",
    "\n",
    "import random\n",
    "import time\n",
    "import timeit\n",
    "\n",
    "import sys\n",
    "sys.path.append('/Users/sasrey/AlphaTrade')\n",
    "import gymnax_exchange\n",
    "\n",
    "\n"
   ]
  },
  {
   "cell_type": "code",
   "execution_count": 2,
   "metadata": {},
   "outputs": [],
   "source": [
    "def create_init_book(booksize=10,tradessize=10,pricerange=[2190000,2200000,2210000],quantrange=[0,500],timeinit=[34200,0]):\n",
    "    qtofill=booksize//3 #fill one third of the available space\n",
    "    asks=[]\n",
    "    bids=[]\n",
    "    orderid=1000\n",
    "    traderid=1000\n",
    "    times=timeinit[0]\n",
    "    timens=timeinit[1]\n",
    "    for i in range(qtofill):\n",
    "        asks.append([random.randint(pricerange[1],pricerange[2]),random.randint(quantrange[0],quantrange[1]),orderid,traderid,times,timens])\n",
    "        times+=random.randint(0,1)\n",
    "        timens+=random.randint(0,10000)\n",
    "        bids.append([random.randint(pricerange[1],pricerange[2]),random.randint(quantrange[0],quantrange[1]),orderid+1,traderid+1,times,timens])\n",
    "        times+=random.randint(0,1)\n",
    "        timens+=random.randint(0,10000)\n",
    "        orderid+=2\n",
    "        traderid+=2\n",
    "    bids=jnp.concatenate((jnp.array(bids),jnp.ones((booksize-qtofill,6),dtype=jnp.int32)*-1),axis=0)\n",
    "    asks=jnp.concatenate((jnp.array(asks),jnp.ones((booksize-qtofill,6),dtype=jnp.int32)*-1),axis=0)\n",
    "    trades=jnp.ones((tradessize,6),dtype=jnp.int32)*-1\n",
    "    return asks,bids,trades\n",
    "\n",
    "def create_message(type='limit',side='bid',price=2200000,quant=10,times=36000,timens=0):\n",
    "    if type=='limit':\n",
    "        type_num=1\n",
    "    elif type =='cancel' or type == 'delete':\n",
    "        type_num=2\n",
    "    elif type =='market':\n",
    "        type_num=4\n",
    "    else:\n",
    "        raise ValueError('Type is none of: limit, cancel, delete or market')\n",
    "\n",
    "    if side=='bid':\n",
    "        side_num=1\n",
    "    elif side =='ask':\n",
    "        side_num=-1\n",
    "    else:\n",
    "        raise ValueError('Side is none of: bid or ask')\n",
    "    \n",
    "    dict_msg={\n",
    "    'side':side_num,\n",
    "    'type':type_num,\n",
    "    'price':price,\n",
    "    'quantity':quant,\n",
    "    'orderid':8888,\n",
    "    'traderid':8888,\n",
    "    'time':times,\n",
    "    'time_ns':timens}\n",
    "    array_msg=jnp.array([type_num,side_num,quant,price,8888,8888,times,timens])\n",
    "    return dict_msg,array_msg\n",
    "\n",
    "def create_message_forvmap(type='limit',side='bid',price=2200000,quant=10,times=36000,timens=0,nvmap=10):\n",
    "    if type=='limit':\n",
    "        type_num=1\n",
    "    elif type =='cancel' or type == 'delete':\n",
    "        type_num=2\n",
    "    elif type =='market':\n",
    "        type_num=4\n",
    "    else:\n",
    "        raise ValueError('Type is none of: limit, cancel, delete or market')\n",
    "\n",
    "    if side=='bid':\n",
    "        side_num=1\n",
    "    elif side =='ask':\n",
    "        side_num=-1\n",
    "    else:\n",
    "        raise ValueError('Side is none of: bid or ask')\n",
    "    \n",
    "    dict_msg={\n",
    "    'side':jnp.array([side_num]*nvmap),\n",
    "    'type':jnp.array([type_num]*nvmap),\n",
    "    'price':jnp.array([price]*nvmap),\n",
    "    'quantity':jnp.array([quant]*nvmap),\n",
    "    'orderid':jnp.array([8888]*nvmap),\n",
    "    'traderid':jnp.array([8888]*nvmap),\n",
    "    'time':jnp.array([times]*nvmap),\n",
    "    'time_ns':jnp.array([timens]*nvmap)}\n",
    "    array_msg=jnp.array([type_num,side_num,quant,price,8888,8888,times,timens]*nvmap)\n",
    "    return dict_msg,array_msg"
   ]
  },
  {
   "attachments": {},
   "cell_type": "markdown",
   "metadata": {},
   "source": [
    "Measuring the time for the most basic operations: Adding and order and removing an order from a given side of the book."
   ]
  },
  {
   "cell_type": "code",
   "execution_count": 3,
   "metadata": {},
   "outputs": [
    {
     "name": "stdout",
     "output_type": "stream",
     "text": [
      "Add time for orderbook of size 10 : 0.00011504708090797067\n",
      "Add time for orderbook of size 100 : 0.00011782379518263042\n",
      "Add time for orderbook of size 1000 : 0.00016207307414151727\n",
      "[[2204242     494    1001    1001   34201     663]\n",
      " [2209558     456    1003    1003   34203   13163]\n",
      " [2204104     465    1005    1005   34203   22984]\n",
      " [2191200      77    8888    8888   36000       0]\n",
      " [     -1      -1      -1      -1      -1      -1]\n",
      " [     -1      -1      -1      -1      -1      -1]\n",
      " [     -1      -1      -1      -1      -1      -1]\n",
      " [     -1      -1      -1      -1      -1      -1]\n",
      " [     -1      -1      -1      -1      -1      -1]\n",
      " [     -1      -1      -1      -1      -1      -1]]\n",
      "VMAP add time for orderbook of size 10  \n",
      " various incoming order sizes: 0.0007808422988746315\n",
      "VMAP add time for orderbook of size 100  \n",
      " various incoming order sizes: 0.0010003842131700367\n",
      "VMAP add time for orderbook of size 1000  \n",
      " various incoming order sizes: 0.002885156926000491\n"
     ]
    }
   ],
   "source": [
    "## Add an order\n",
    "n_runs=1000\n",
    "random.seed(0)\n",
    "addout=[]\n",
    "for i in [10,100,1000]:\n",
    "    asks,bids,trades=create_init_book(booksize=i)\n",
    "    mdict,marray=create_message(type='limit',side='bid',price=2191200,quant=77)\n",
    "    out=job.add_order(bids,mdict)\n",
    "    addout.append(out)\n",
    "    print(\"Add time for orderbook of size\",i,\":\",timeit.timeit('val=job.add_order(bids,mdict); jax.block_until_ready(val)',number=n_runs,globals=globals())/n_runs)\n",
    "    \n",
    "print(addout[0])\n",
    "\n",
    "random.seed(0)\n",
    "#Now do it when vmapped\n",
    "nvmap=1000\n",
    "for i,s in enumerate([10,100,1000]):\n",
    "    asks,bids,trades=create_init_book(booksize=s)\n",
    "    vmdict,marray=create_message_forvmap(type='limit',side='bid',price=2191200,quant=77,nvmap=nvmap)\n",
    "\n",
    "    vbids=jnp.array([bids]*nvmap)\n",
    "\n",
    "    out=job.add_order(bids,mdict)\n",
    "    outv=jax.vmap(job.add_order,(0,{'orderid': 0, 'price': 0, 'quantity': 0, 'side': 0, 'time': 0, 'time_ns': 0, 'traderid': 0, 'type': 0}))(vbids,vmdict)\n",
    "    \n",
    "    print(\"VMAP add time for orderbook of size\",s,\" \\n various incoming order sizes:\",timeit.timeit(\"val=jax.vmap(job.add_order,(0,{'orderid': 0, 'price': 0, 'quantity': 0, 'side': 0, 'time': 0, 'time_ns': 0, 'traderid': 0, 'type': 0}))(vbids,vmdict); jax.block_until_ready(val)\",number=n_runs,globals=globals())/n_runs)\n",
    "\n",
    "\n",
    "\n",
    "\n",
    "\n"
   ]
  },
  {
   "cell_type": "code",
   "execution_count": 4,
   "metadata": {},
   "outputs": [
    {
     "name": "stdout",
     "output_type": "stream",
     "text": [
      "Cancel time for orderbook of size 10 : 8.145303488709032e-05\n",
      "Cancel time for orderbook of size 100 : 9.522487688809634e-05\n",
      "Cancel time for orderbook of size 1000 : 9.36314610298723e-05\n"
     ]
    },
    {
     "data": {
      "text/plain": [
       "Array([[2204242,     494,    1001,    1001,   34201,     663],\n",
       "       [2209558,     456,    1003,    1003,   34203,   13163],\n",
       "       [2204104,     465,    1005,    1005,   34203,   22984],\n",
       "       [     -1,      -1,      -1,      -1,      -1,      -1],\n",
       "       [     -1,      -1,      -1,      -1,      -1,      -1],\n",
       "       [     -1,      -1,      -1,      -1,      -1,      -1],\n",
       "       [     -1,      -1,      -1,      -1,      -1,      -1],\n",
       "       [     -1,      -1,      -1,      -1,      -1,      -1],\n",
       "       [     -1,      -1,      -1,      -1,      -1,      -1],\n",
       "       [     -1,      -1,      -1,      -1,      -1,      -1]],      dtype=int32)"
      ]
     },
     "execution_count": 4,
     "metadata": {},
     "output_type": "execute_result"
    }
   ],
   "source": [
    "## Cancel an order\n",
    "n_runs=1000\n",
    "random.seed(0)\n",
    "cancelout=[]\n",
    "for i,s in enumerate([10,100,1000]):\n",
    "    bids=addout[i]\n",
    "    mdict,marray=create_message(type='cancel',side='bid',price=2191200,quant=77)\n",
    "    out=job.cancel_order(bids,mdict)\n",
    "    cancelout.append(out)\n",
    "    print(\"Cancel time for orderbook of size\",s,\":\",timeit.timeit('val=job.cancel_order(bids,mdict); jax.block_until_ready(val)',number=n_runs,globals=globals())/n_runs)\n",
    "cancelout[0]"
   ]
  },
  {
   "attachments": {},
   "cell_type": "markdown",
   "metadata": {},
   "source": [
    "Matching a single order against an identified order from the other side of the book:"
   ]
  },
  {
   "cell_type": "code",
   "execution_count": 91,
   "metadata": {},
   "outputs": [
    {
     "name": "stdout",
     "output_type": "stream",
     "text": [
      "Time to get top bid order for order book of size  10 : 3.596899705007672e-05\n",
      "Match time for orderbook of size 10 : 0.00014379851496778428\n",
      "Time to get top bid order for order book of size  100 : 5.205514398403466e-05\n",
      "Match time for orderbook of size 100 : 0.00016255285777151584\n",
      "Time to get top bid order for order book of size  1000 : 5.956477206200361e-05\n",
      "Match time for orderbook of size 1000 : 0.0001610878980718553\n"
     ]
    },
    {
     "data": {
      "text/plain": [
       "(Array([[2204242,     494,    1001,    1001,   34201,     663],\n",
       "        [     -1,      -1,      -1,      -1,      -1,      -1],\n",
       "        [2204104,     465,    1005,    1005,   34203,   22984],\n",
       "        [     -1,      -1,      -1,      -1,      -1,      -1],\n",
       "        [     -1,      -1,      -1,      -1,      -1,      -1],\n",
       "        [     -1,      -1,      -1,      -1,      -1,      -1],\n",
       "        [     -1,      -1,      -1,      -1,      -1,      -1],\n",
       "        [     -1,      -1,      -1,      -1,      -1,      -1],\n",
       "        [     -1,      -1,      -1,      -1,      -1,      -1],\n",
       "        [     -1,      -1,      -1,      -1,      -1,      -1]],      dtype=int32),\n",
       " Array(544, dtype=int32),\n",
       " Array([[2209558,     456,    1003,    9999,   36000,       1],\n",
       "        [     -1,      -1,      -1,      -1,      -1,      -1],\n",
       "        [     -1,      -1,      -1,      -1,      -1,      -1],\n",
       "        [     -1,      -1,      -1,      -1,      -1,      -1],\n",
       "        [     -1,      -1,      -1,      -1,      -1,      -1],\n",
       "        [     -1,      -1,      -1,      -1,      -1,      -1],\n",
       "        [     -1,      -1,      -1,      -1,      -1,      -1],\n",
       "        [     -1,      -1,      -1,      -1,      -1,      -1],\n",
       "        [     -1,      -1,      -1,      -1,      -1,      -1],\n",
       "        [     -1,      -1,      -1,      -1,      -1,      -1]],      dtype=int32))"
      ]
     },
     "execution_count": 91,
     "metadata": {},
     "output_type": "execute_result"
    }
   ],
   "source": [
    "matchout=[]\n",
    "\n",
    "for i,s in enumerate([10,100,1000]):\n",
    "    _,_,trades=create_init_book(booksize=s)\n",
    "\n",
    "    bids=cancelout[i]\n",
    "    idx=job.get_top_bid_order_idx(bids)\n",
    "    print(\"Time to get top bid order for order book of size \",s,\":\",timeit.timeit('val=job.get_top_bid_order_idx(bids); jax.block_until_ready(val)',number=n_runs,globals=globals())/n_runs)\n",
    "\n",
    "    matchtuple=(bids,1000,0,idx,trades,9999,36000,1)\n",
    "    bids,qtm,price,idx,trades,agrid,times,timens=job.match_order(matchtuple)\n",
    "    \n",
    "    matchout.append((bids,qtm,trades))\n",
    "    print(\"Match time for orderbook of size\",s,\":\",timeit.timeit('val=job.match_order(matchtuple); jax.block_until_ready(val)',number=n_runs,globals=globals())/n_runs)\n",
    "matchout[0]"
   ]
  },
  {
   "attachments": {},
   "cell_type": "markdown",
   "metadata": {},
   "source": [
    "Match against an entire side, continuing until either the full incoming order is matched, the book is empty, or the best price is no longer acceptable to the lim-order."
   ]
  },
  {
   "cell_type": "code",
   "execution_count": 6,
   "metadata": {},
   "outputs": [
    {
     "name": "stdout",
     "output_type": "stream",
     "text": [
      "Match time for orderbook of size 10  \n",
      " with an incoming order of size 0 : 0.0001248123359400779\n",
      "Match time for orderbook of size 10  \n",
      " with an incoming order of size 10 : 0.00017851380398496984\n",
      "Match time for orderbook of size 10  \n",
      " with an incoming order of size 500 : 0.00022662654402665793\n",
      "Match time for orderbook of size 10  \n",
      " with an incoming order of size 1000 : 0.0002486388268880546\n",
      "Match time for orderbook of size 10  \n",
      " with an incoming order of size 10000 : 0.00022945912810973823\n",
      "Match time for orderbook of size 100  \n",
      " with an incoming order of size 0 : 0.00013440861692652105\n",
      "Match time for orderbook of size 100  \n",
      " with an incoming order of size 10 : 0.0002003891379572451\n",
      "Match time for orderbook of size 100  \n",
      " with an incoming order of size 500 : 0.0002710026849526912\n",
      "Match time for orderbook of size 100  \n",
      " with an incoming order of size 1000 : 0.0003419375908561051\n",
      "Match time for orderbook of size 100  \n",
      " with an incoming order of size 10000 : 0.0024769475860521198\n",
      "Match time for orderbook of size 1000  \n",
      " with an incoming order of size 0 : 0.00015526692382991314\n",
      "Match time for orderbook of size 1000  \n",
      " with an incoming order of size 10 : 0.00025431905686855314\n",
      "Match time for orderbook of size 1000  \n",
      " with an incoming order of size 500 : 0.0003469439488835633\n",
      "Match time for orderbook of size 1000  \n",
      " with an incoming order of size 1000 : 0.00044293558900244533\n",
      "Match time for orderbook of size 1000  \n",
      " with an incoming order of size 10000 : 0.003991109658032656\n",
      "VMAP Match time for orderbook of size 10  \n",
      " various incoming order sizes: 0.0009427115018479526\n",
      "VMAP Match time for orderbook of size 100  \n",
      " various incoming order sizes: 0.0014172219440806656\n",
      "VMAP Match time for orderbook of size 1000  \n",
      " various incoming order sizes: 0.00293253473402001\n"
     ]
    }
   ],
   "source": [
    "matchout=[]\n",
    "\n",
    "for i,s in enumerate([10,100,1000]):\n",
    "    for j,q in enumerate([0,10,500,1000,10000]):\n",
    "        _,_,trades=create_init_book(booksize=s,tradessize=s)\n",
    "\n",
    "        bids=cancelout[i]\n",
    "\n",
    "        matchtuple=(bids,q,0,trades,9999,36000,1)\n",
    "        bids,qtm,price,trades=job.match_against_bid_orders(*matchtuple)\n",
    "        \n",
    "        matchout.append((bids,qtm,trades))\n",
    "        print(\"Match time for orderbook of size\",s,\" \\n with an incoming order of size\",q,\":\",timeit.timeit('val=job.match_against_bid_orders(*matchtuple); jax.block_until_ready(val)',number=n_runs,globals=globals())/n_runs)\n",
    "\n",
    "\n",
    "#Now do it when vmapped (i.e. this skips the cond)\n",
    "nvmap=1000\n",
    "for i,s in enumerate([10,100,1000]):\n",
    "    _,_,trades=create_init_book(booksize=s,tradessize=s)\n",
    "    bids=cancelout[i]\n",
    "\n",
    "    vbids=jnp.array([bids]*nvmap)\n",
    "    vtrades=jnp.array([trades]*nvmap)\n",
    "    vq=jnp.array([100,100,100,100,100]*(nvmap//5))\n",
    "\n",
    "    matchtuple=(vbids,vq,0,vtrades,9999,36000,1)\n",
    "    jax.vmap(job.match_against_bid_orders,((0,0,None,0,None,None,None)))(*matchtuple)\n",
    "    \n",
    "    matchout.append((bids,qtm,trades))\n",
    "    print(\"VMAP Match time for orderbook of size\",s,\" \\n various incoming order sizes:\",timeit.timeit('val=jax.vmap(job.match_against_bid_orders,((0,0,None,0,None,None,None)))(*matchtuple); jax.block_until_ready(val)',number=n_runs,globals=globals())/n_runs)\n",
    "\n",
    "\n"
   ]
  },
  {
   "attachments": {},
   "cell_type": "markdown",
   "metadata": {},
   "source": [
    "Matching is what takes the longest, and increases when the while loop needs to turn for longer. But even for a single iteration, it takes roughly 1.5 times the time than a simple add order.\n",
    "Next we consider the higher-level message types and include the branching logic required to direct orders across different types and sides of orders."
   ]
  },
  {
   "cell_type": "code",
   "execution_count": 5,
   "metadata": {},
   "outputs": [
    {
     "name": "stdout",
     "output_type": "stream",
     "text": [
      "Limit order for book of size  10 : 0.00011194318602792918\n",
      "Cancel order for book of size  10 : 7.982373679988086e-05\n",
      "Matched limit order for book of size  10 : 0.00016228027804754674\n",
      "VMAP limit order for book of size  10 : 0.0014024688568897545\n",
      "VMAP cancel order for book of size  10 : 0.00140687983809039\n",
      "VMAP matched limit order for book of size  10 : 0.0013927103450987488\n",
      "Limit order for book of size  100 : 0.00015688729705289008\n",
      "Cancel order for book of size  100 : 9.710983908735215e-05\n",
      "Matched limit order for book of size  100 : 0.00020307287015020848\n",
      "VMAP limit order for book of size  100 : 0.0026488057328388093\n",
      "VMAP cancel order for book of size  100 : 0.002613553388044238\n",
      "VMAP matched limit order for book of size  100 : 0.0026109530250541866\n",
      "Limit order for book of size  1000 : 0.00019547550892457365\n",
      "Cancel order for book of size  1000 : 9.46054148953408e-05\n",
      "Matched limit order for book of size  1000 : 0.00024657501303590836\n",
      "VMAP limit order for book of size  1000 : 0.011749650357989595\n",
      "VMAP cancel order for book of size  1000 : 0.011433410895057023\n",
      "VMAP matched limit order for book of size  1000 : 0.011465316652087495\n"
     ]
    }
   ],
   "source": [
    "random.seed(0)\n",
    "nvmap=1000\n",
    "outs=[]\n",
    "for i in [10,100,1000]:\n",
    "    asks,bids,trades=create_init_book(booksize=i,tradessize=i)\n",
    "    _,limitmsg=create_message(type='limit',side='bid',price=2191200,quant=77)\n",
    "    _,cancelmsg=create_message(type='cancel',side='bid',price=2191200,quant=77)\n",
    "    _,matchmsg=create_message(type='limit',side='ask',price=2191200,quant=100)\n",
    "\n",
    "    out,_=job.cond_type_side((asks,bids,trades),limitmsg)\n",
    "    print(\"Limit order for book of size \",i,\":\",timeit.timeit('val=job.cond_type_side((asks,bids,trades),limitmsg); jax.block_until_ready(val)',number=n_runs,globals=globals())/n_runs)\n",
    "    out,_=job.cond_type_side(out,cancelmsg)\n",
    "    print(\"Cancel order for book of size \",i,\":\",timeit.timeit('val=job.cond_type_side(out,cancelmsg); jax.block_until_ready(val)',number=n_runs,globals=globals())/n_runs)\n",
    "    out,_=job.cond_type_side(out,matchmsg)\n",
    "    print(\"Matched limit order for book of size \",i,\":\",timeit.timeit('val=job.cond_type_side(out,matchmsg); jax.block_until_ready(val)',number=n_runs,globals=globals())/n_runs)\n",
    "    outs.append(out)\n",
    "\n",
    "    vasks=jnp.array([asks]*nvmap)\n",
    "    vbids=jnp.array([bids]*nvmap)\n",
    "    vtrades=jnp.array([trades]*nvmap)\n",
    "    vlimitms=jnp.array([limitmsg]*nvmap)\n",
    "    vcancelms=jnp.array([cancelmsg]*nvmap)\n",
    "    vmatchms=jnp.array([matchmsg]*nvmap)\n",
    "\n",
    "    out,_=jax.vmap(job.cond_type_side,((0,0,0),0))((vasks,vbids,vtrades),vlimitms)\n",
    "    print(\"VMAP limit order for book of size \",i,\":\",timeit.timeit('val=jax.vmap(job.cond_type_side,((0,0,0),0))((vasks,vbids,vtrades),vlimitms); jax.block_until_ready(val)',number=n_runs,globals=globals())/n_runs)\n",
    "    out,_=jax.vmap(job.cond_type_side,((0,0,0),0))(out,vcancelms)\n",
    "    print(\"VMAP cancel order for book of size \",i,\":\",timeit.timeit('val=jax.vmap(job.cond_type_side,((0,0,0),0))(out,vcancelms); jax.block_until_ready(val)',number=n_runs,globals=globals())/n_runs)\n",
    "    out,_=jax.vmap(job.cond_type_side,((0,0,0),0))(out,vmatchms)\n",
    "    print(\"VMAP matched limit order for book of size \",i,\":\",timeit.timeit('val=jax.vmap(job.cond_type_side,((0,0,0),0))(out,vmatchms); jax.block_until_ready(val)',number=n_runs,globals=globals())/n_runs)\n",
    "\n",
    "\n",
    "    \n"
   ]
  },
  {
   "cell_type": "code",
   "execution_count": null,
   "metadata": {},
   "outputs": [],
   "source": []
  }
 ],
 "metadata": {
  "kernelspec": {
   "display_name": "alphatrade",
   "language": "python",
   "name": "python3"
  },
  "language_info": {
   "codemirror_mode": {
    "name": "ipython",
    "version": 3
   },
   "file_extension": ".py",
   "mimetype": "text/x-python",
   "name": "python",
   "nbconvert_exporter": "python",
   "pygments_lexer": "ipython3",
   "version": "3.10.11"
  },
  "orig_nbformat": 4
 },
 "nbformat": 4,
 "nbformat_minor": 2
}
