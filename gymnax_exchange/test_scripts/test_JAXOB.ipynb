{
 "cells": [
  {
   "attachments": {},
   "cell_type": "markdown",
   "metadata": {},
   "source": [
    "#### This file will demonstrate, and visualise the key functionalities of the Jax order book implementation. Further, it will measure the walltime speeds for these basic operations."
   ]
  },
  {
   "cell_type": "code",
   "execution_count": 7,
   "metadata": {},
   "outputs": [
    {
     "name": "stdout",
     "output_type": "stream",
     "text": [
      "The autoreload extension is already loaded. To reload it, use:\n",
      "  %reload_ext autoreload\n"
     ]
    }
   ],
   "source": [
    "%load_ext autoreload\n",
    "%autoreload 2\n",
    "from functools import partial, partialmethod\n",
    "from typing import OrderedDict\n",
    "from jax import numpy as jnp\n",
    "import jax\n",
    "\n",
    "#jax.config.update('jax_platform_name', 'cpu')\n",
    "\n",
    "import gymnax_exchange.jaxob.JaxOrderBookArrays as job\n",
    "\n",
    "\n",
    "\n",
    "import random\n",
    "import time\n",
    "import timeit\n",
    "\n",
    "import sys\n",
    "sys.path.append('/Users/sasrey/AlphaTrade')\n",
    "import gymnax_exchange\n",
    "\n",
    "\n"
   ]
  },
  {
   "cell_type": "code",
   "execution_count": 8,
   "metadata": {},
   "outputs": [],
   "source": [
    "def create_init_book(booksize=10,tradessize=10,pricerange=[2190000,2200000,2210000],quantrange=[0,500],timeinit=[34200,0]):\n",
    "    qtofill=booksize//3 #fill one third of the available space\n",
    "    asks=[]\n",
    "    bids=[]\n",
    "    orderid=1000\n",
    "    traderid=1000\n",
    "    times=timeinit[0]\n",
    "    timens=timeinit[1]\n",
    "    for i in range(qtofill):\n",
    "        asks.append([random.randint(pricerange[1],pricerange[2]),random.randint(quantrange[0],quantrange[1]),orderid,traderid,times,timens])\n",
    "        times+=random.randint(0,1)\n",
    "        timens+=random.randint(0,10000)\n",
    "        bids.append([random.randint(pricerange[1],pricerange[2]),random.randint(quantrange[0],quantrange[1]),orderid+1,traderid+1,times,timens])\n",
    "        times+=random.randint(0,1)\n",
    "        timens+=random.randint(0,10000)\n",
    "        orderid+=2\n",
    "        traderid+=2\n",
    "    bids=jnp.concatenate((jnp.array(bids),jnp.ones((booksize-qtofill,6),dtype=jnp.int32)*-1),axis=0)\n",
    "    asks=jnp.concatenate((jnp.array(asks),jnp.ones((booksize-qtofill,6),dtype=jnp.int32)*-1),axis=0)\n",
    "    trades=jnp.ones((tradessize,6),dtype=jnp.int32)*-1\n",
    "    return asks,bids,trades\n",
    "\n",
    "def create_message(type='limit',side='bid',price=2200000,quant=10,times=36000,timens=0):\n",
    "    if type=='limit':\n",
    "        type_num=1\n",
    "    elif type =='cancel' or type == 'delete':\n",
    "        type_num=2\n",
    "    elif type =='market':\n",
    "        type_num=4\n",
    "    else:\n",
    "        raise ValueError('Type is none of: limit, cancel, delete or market')\n",
    "\n",
    "    if side=='bid':\n",
    "        side_num=1\n",
    "    elif side =='ask':\n",
    "        side_num=-1\n",
    "    else:\n",
    "        raise ValueError('Side is none of: bid or ask')\n",
    "    \n",
    "    dict_msg={\n",
    "    'side':side_num,\n",
    "    'type':type_num,\n",
    "    'price':price,\n",
    "    'quantity':quant,\n",
    "    'orderid':8888,\n",
    "    'traderid':8888,\n",
    "    'time':times,\n",
    "    'time_ns':timens}\n",
    "    array_msg=jnp.array([type_num,side_num,quant,price,8888,8888,times,timens])\n",
    "    return dict_msg,array_msg\n",
    "\n",
    "def create_message_forvmap(type='limit',side='bid',price=2200000,quant=10,times=36000,timens=0,nvmap=10):\n",
    "    if type=='limit':\n",
    "        type_num=1\n",
    "    elif type =='cancel' or type == 'delete':\n",
    "        type_num=2\n",
    "    elif type =='market':\n",
    "        type_num=4\n",
    "    else:\n",
    "        raise ValueError('Type is none of: limit, cancel, delete or market')\n",
    "\n",
    "    if side=='bid':\n",
    "        side_num=1\n",
    "    elif side =='ask':\n",
    "        side_num=-1\n",
    "    else:\n",
    "        raise ValueError('Side is none of: bid or ask')\n",
    "    \n",
    "    dict_msg={\n",
    "    'side':jnp.array([side_num]*nvmap),\n",
    "    'type':jnp.array([type_num]*nvmap),\n",
    "    'price':jnp.array([price]*nvmap),\n",
    "    'quantity':jnp.array([quant]*nvmap),\n",
    "    'orderid':jnp.array([8888]*nvmap),\n",
    "    'traderid':jnp.array([8888]*nvmap),\n",
    "    'time':jnp.array([times]*nvmap),\n",
    "    'time_ns':jnp.array([timens]*nvmap)}\n",
    "    array_msg=jnp.array([type_num,side_num,quant,price,8888,8888,times,timens]*nvmap)\n",
    "    return dict_msg,array_msg"
   ]
  },
  {
   "attachments": {},
   "cell_type": "markdown",
   "metadata": {},
   "source": [
    "Measuring the time for the most basic operations: Adding and order and removing an order from a given side of the book."
   ]
  },
  {
   "cell_type": "code",
   "execution_count": 9,
   "metadata": {},
   "outputs": [
    {
     "name": "stdout",
     "output_type": "stream",
     "text": [
      "Add time for orderbook of size 10 : 0.00011739313136786222\n",
      "Add time for orderbook of size 100 : 0.00012509498186409474\n",
      "Add time for orderbook of size 1000 : 0.0001583757381886244\n",
      "[[2204242     494    1001    1001   34201     663]\n",
      " [2209558     456    1003    1003   34203   13163]\n",
      " [2204104     465    1005    1005   34203   22984]\n",
      " [2191200      77    8888    8888   36000       0]\n",
      " [     -1      -1      -1      -1      -1      -1]\n",
      " [     -1      -1      -1      -1      -1      -1]\n",
      " [     -1      -1      -1      -1      -1      -1]\n",
      " [     -1      -1      -1      -1      -1      -1]\n",
      " [     -1      -1      -1      -1      -1      -1]\n",
      " [     -1      -1      -1      -1      -1      -1]]\n",
      "VMAP add time for orderbook of size 10  \n",
      " various incoming order sizes: 0.0008051935564726591\n",
      "VMAP add time for orderbook of size 100  \n",
      " various incoming order sizes: 0.001080912041477859\n",
      "VMAP add time for orderbook of size 1000  \n",
      " various incoming order sizes: 0.0029087183782830835\n"
     ]
    }
   ],
   "source": [
    "## Add an order\n",
    "n_runs=1000\n",
    "random.seed(0)\n",
    "addout=[]\n",
    "for i in [10,100,1000]:\n",
    "    asks,bids,trades=create_init_book(booksize=i)\n",
    "    mdict,marray=create_message(type='limit',side='bid',price=2191200,quant=77)\n",
    "    out=job.add_order(bids,mdict)\n",
    "    addout.append(out)\n",
    "    print(\"Add time for orderbook of size\",i,\":\",timeit.timeit('val=job.add_order(bids,mdict); jax.block_until_ready(val)',number=n_runs,globals=globals())/n_runs)\n",
    "    \n",
    "print(addout[0])\n",
    "\n",
    "random.seed(0)\n",
    "#Now do it when vmapped\n",
    "nvmap=1000\n",
    "for i,s in enumerate([10,100,1000]):\n",
    "    asks,bids,trades=create_init_book(booksize=s)\n",
    "    vmdict,marray=create_message_forvmap(type='limit',side='bid',price=2191200,quant=77,nvmap=nvmap)\n",
    "\n",
    "    vbids=jnp.array([bids]*nvmap)\n",
    "\n",
    "    out=job.add_order(bids,mdict)\n",
    "    outv=jax.vmap(job.add_order,(0,{'orderid': 0, 'price': 0, 'quantity': 0, 'side': 0, 'time': 0, 'time_ns': 0, 'traderid': 0, 'type': 0}))(vbids,vmdict)\n",
    "    \n",
    "    print(\"VMAP add time for orderbook of size\",s,\" \\n various incoming order sizes:\",timeit.timeit(\"val=jax.vmap(job.add_order,(0,{'orderid': 0, 'price': 0, 'quantity': 0, 'side': 0, 'time': 0, 'time_ns': 0, 'traderid': 0, 'type': 0}))(vbids,vmdict); jax.block_until_ready(val)\",number=n_runs,globals=globals())/n_runs)\n",
    "\n",
    "\n",
    "\n",
    "\n"
   ]
  },
  {
   "cell_type": "code",
   "execution_count": 11,
   "metadata": {},
   "outputs": [
    {
     "data": {
      "text/plain": [
       "Array([[2204242,     494,    1001,    1001,   34201,     663],\n",
       "       [2209558,     456,    1003,    1003,   34203,   13163],\n",
       "       [2204104,     465,    1005,    1005,   34203,   22984],\n",
       "       [     -1,      -1,      -1,      -1,      -1,      -1],\n",
       "       [     -1,      -1,      -1,      -1,      -1,      -1],\n",
       "       [     -1,      -1,      -1,      -1,      -1,      -1],\n",
       "       [     -1,      -1,      -1,      -1,      -1,      -1],\n",
       "       [     -1,      -1,      -1,      -1,      -1,      -1],\n",
       "       [     -1,      -1,      -1,      -1,      -1,      -1],\n",
       "       [     -1,      -1,      -1,      -1,      -1,      -1]],      dtype=int32)"
      ]
     },
     "execution_count": 11,
     "metadata": {},
     "output_type": "execute_result"
    }
   ],
   "source": [
    "## Cancel an order\n",
    "n_runs=1000\n",
    "random.seed(0)\n",
    "cancelout=[]\n",
    "for i,s in enumerate([10,100,1000]):\n",
    "    bids=addout[i]\n",
    "    mdict,marray=create_message(type='cancel',side='bid',price=2191200,quant=77)\n",
    "    out=job.cancel_order(bids,mdict)\n",
    "    cancelout.append(out)\n",
    "    #print(\"Cancel time for orderbook of size\",s,\":\",timeit.timeit('val=job.cancel_order(bids,mdict); jax.block_until_ready(val)',number=n_runs,globals=globals())/n_runs)\n",
    "cancelout[0]"
   ]
  },
  {
   "attachments": {},
   "cell_type": "markdown",
   "metadata": {},
   "source": [
    "Matching a single order against an identified order from the other side of the book:"
   ]
  },
  {
   "cell_type": "code",
   "execution_count": 15,
   "metadata": {},
   "outputs": [
    {
     "name": "stdout",
     "output_type": "stream",
     "text": [
      "Time to get top bid order for order book of size  10 : 3.4653008915483953e-05\n",
      "Match time for orderbook of size 10 : 0.00015308117121458052\n",
      "Time to get top bid order for order book of size  100 : 5.946329701691866e-05\n",
      "Match time for orderbook of size 100 : 0.00017315107956528665\n",
      "Time to get top bid order for order book of size  1000 : 6.784107070416212e-05\n",
      "Match time for orderbook of size 1000 : 0.00017404398135840892\n"
     ]
    },
    {
     "data": {
      "text/plain": [
       "(Array([[2204242,     494,    1001,    1001,   34201,     663],\n",
       "        [     -1,      -1,      -1,      -1,      -1,      -1],\n",
       "        [2204104,     465,    1005,    1005,   34203,   22984],\n",
       "        [     -1,      -1,      -1,      -1,      -1,      -1],\n",
       "        [     -1,      -1,      -1,      -1,      -1,      -1],\n",
       "        [     -1,      -1,      -1,      -1,      -1,      -1],\n",
       "        [     -1,      -1,      -1,      -1,      -1,      -1],\n",
       "        [     -1,      -1,      -1,      -1,      -1,      -1],\n",
       "        [     -1,      -1,      -1,      -1,      -1,      -1],\n",
       "        [     -1,      -1,      -1,      -1,      -1,      -1]],      dtype=int32),\n",
       " Array(544, dtype=int32),\n",
       " Array([[2209558,     456,    1003,    9999,   36000,       1],\n",
       "        [     -1,      -1,      -1,      -1,      -1,      -1],\n",
       "        [     -1,      -1,      -1,      -1,      -1,      -1],\n",
       "        [     -1,      -1,      -1,      -1,      -1,      -1],\n",
       "        [     -1,      -1,      -1,      -1,      -1,      -1],\n",
       "        [     -1,      -1,      -1,      -1,      -1,      -1],\n",
       "        [     -1,      -1,      -1,      -1,      -1,      -1],\n",
       "        [     -1,      -1,      -1,      -1,      -1,      -1],\n",
       "        [     -1,      -1,      -1,      -1,      -1,      -1],\n",
       "        [     -1,      -1,      -1,      -1,      -1,      -1]],      dtype=int32))"
      ]
     },
     "execution_count": 15,
     "metadata": {},
     "output_type": "execute_result"
    }
   ],
   "source": [
    "matchout=[]\n",
    "\n",
    "for i,s in enumerate([10,100,1000]):\n",
    "    _,_,trades=create_init_book(booksize=s)\n",
    "\n",
    "    bids=cancelout[i]\n",
    "    idx=job.__get_top_bid_order_idx(bids)\n",
    "    print(\"Time to get top bid order for order book of size \",s,\":\",timeit.timeit('val=job.__get_top_bid_order_idx(bids); jax.block_until_ready(val)',number=n_runs,globals=globals())/n_runs)\n",
    "\n",
    "    matchtuple=(bids,1000,0,idx,trades,9999,36000,1)\n",
    "    bids,qtm,price,idx,trades,agrid,times,timens=job.match_order(matchtuple)\n",
    "    \n",
    "    matchout.append((bids,qtm,trades))\n",
    "    print(\"Match time for orderbook of size\",s,\":\",timeit.timeit('val=job.match_order(matchtuple); jax.block_until_ready(val)',number=n_runs,globals=globals())/n_runs)\n",
    "matchout[0]"
   ]
  },
  {
   "attachments": {},
   "cell_type": "markdown",
   "metadata": {},
   "source": [
    "Match against an entire side, continuing until either the full incoming order is matched, the book is empty, or the best price is no longer acceptable to the lim-order."
   ]
  },
  {
   "cell_type": "code",
   "execution_count": 18,
   "metadata": {},
   "outputs": [
    {
     "name": "stdout",
     "output_type": "stream",
     "text": [
      "Match time for orderbook of size 10  \n",
      " with an incoming order of size 0 : 0.0001262570545077324\n",
      "Match time for orderbook of size 10  \n",
      " with an incoming order of size 10 : 0.00017675312049686908\n",
      "Match time for orderbook of size 10  \n",
      " with an incoming order of size 500 : 0.00022672410402446984\n",
      "Match time for orderbook of size 10  \n",
      " with an incoming order of size 1000 : 0.00026019463501870634\n",
      "Match time for orderbook of size 10  \n",
      " with an incoming order of size 10000 : 0.00023590232711285353\n",
      "Match time for orderbook of size 100  \n",
      " with an incoming order of size 0 : 0.00013847594801336526\n",
      "Match time for orderbook of size 100  \n",
      " with an incoming order of size 10 : 0.0002104347599670291\n",
      "Match time for orderbook of size 100  \n",
      " with an incoming order of size 500 : 0.00027771639358252286\n",
      "Match time for orderbook of size 100  \n",
      " with an incoming order of size 1000 : 0.000345339123159647\n",
      "Match time for orderbook of size 100  \n",
      " with an incoming order of size 10000 : 0.0024842490274459123\n",
      "Match time for orderbook of size 1000  \n",
      " with an incoming order of size 0 : 0.00014949011243879794\n",
      "Match time for orderbook of size 1000  \n",
      " with an incoming order of size 10 : 0.0002505272217094898\n",
      "Match time for orderbook of size 1000  \n",
      " with an incoming order of size 500 : 0.00034601240605115893\n",
      "Match time for orderbook of size 1000  \n",
      " with an incoming order of size 1000 : 0.00044073222018778326\n",
      "Match time for orderbook of size 1000  \n",
      " with an incoming order of size 10000 : 0.004025280648842454\n",
      "VMAP Match time for orderbook of size 10  \n",
      " various incoming order sizes: 0.0010022984743118285\n",
      "VMAP Match time for orderbook of size 100  \n",
      " various incoming order sizes: 0.0014181501902639866\n",
      "VMAP Match time for orderbook of size 1000  \n",
      " various incoming order sizes: 0.002915420544333756\n"
     ]
    }
   ],
   "source": [
    "matchout=[]\n",
    "\n",
    "for i,s in enumerate([10,100,1000]):\n",
    "    for j,q in enumerate([0,10,500,1000,10000]):\n",
    "        _,_,trades=create_init_book(booksize=s,tradessize=s)\n",
    "\n",
    "        bids=cancelout[i]\n",
    "\n",
    "        matchtuple=(bids,q,0,trades,9999,36000,1)\n",
    "        bids,qtm,price,trades=job._match_against_bid_orders(*matchtuple)\n",
    "        \n",
    "        matchout.append((bids,qtm,trades))\n",
    "        print(\"Match time for orderbook of size\",s,\" \\n with an incoming order of size\",q,\":\",timeit.timeit('val=job._match_against_bid_orders(*matchtuple); jax.block_until_ready(val)',number=n_runs,globals=globals())/n_runs)\n",
    "\n",
    "\n",
    "#Now do it when vmapped (i.e. this skips the cond)\n",
    "nvmap=1000\n",
    "for i,s in enumerate([10,100,1000]):\n",
    "    _,_,trades=create_init_book(booksize=s,tradessize=s)\n",
    "    bids=cancelout[i]\n",
    "\n",
    "    vbids=jnp.array([bids]*nvmap)\n",
    "    vtrades=jnp.array([trades]*nvmap)\n",
    "    vq=jnp.array([100,100,100,100,100]*(nvmap//5))\n",
    "\n",
    "    matchtuple=(vbids,vq,0,vtrades,9999,36000,1)\n",
    "    jax.vmap(job._match_against_bid_orders,((0,0,None,0,None,None,None)))(*matchtuple)\n",
    "    \n",
    "    matchout.append((bids,qtm,trades))\n",
    "    print(\"VMAP Match time for orderbook of size\",s,\" \\n various incoming order sizes:\",timeit.timeit('val=jax.vmap(job._match_against_bid_orders,((0,0,None,0,None,None,None)))(*matchtuple); jax.block_until_ready(val)',number=n_runs,globals=globals())/n_runs)\n",
    "\n",
    "\n"
   ]
  },
  {
   "attachments": {},
   "cell_type": "markdown",
   "metadata": {},
   "source": [
    "Matching is what takes the longest, and increases when the while loop needs to turn for longer. But even for a single iteration, it takes roughly 1.5 times the time than a simple add order.\n",
    "Next we consider the higher-level message types and include the branching logic required to direct orders across different types and sides of orders."
   ]
  },
  {
   "cell_type": "code",
   "execution_count": 23,
   "metadata": {},
   "outputs": [
    {
     "name": "stdout",
     "output_type": "stream",
     "text": [
      "Limit order for book of size  10 : 0.00010361719969660044\n",
      "Cancel order for book of size  10 : 7.207674439996481e-05\n",
      "Matched limit order for book of size  10 : 0.00015664966218173503\n",
      "VMAP limit order for book of size  10 : 0.05721427537128329\n"
     ]
    },
    {
     "ename": "KeyboardInterrupt",
     "evalue": "",
     "output_type": "error",
     "traceback": [
      "\u001b[0;31m---------------------------------------------------------------------------\u001b[0m",
      "\u001b[0;31mKeyboardInterrupt\u001b[0m                         Traceback (most recent call last)",
      "Cell \u001b[0;32mIn[23], line 28\u001b[0m\n\u001b[1;32m     26\u001b[0m \u001b[39mprint\u001b[39m(\u001b[39m\"\u001b[39m\u001b[39mVMAP limit order for book of size \u001b[39m\u001b[39m\"\u001b[39m,i,\u001b[39m\"\u001b[39m\u001b[39m:\u001b[39m\u001b[39m\"\u001b[39m,timeit\u001b[39m.\u001b[39mtimeit(\u001b[39m'\u001b[39m\u001b[39mval=jax.vmap(job.cond_type_side,((0,0,0),0))((vasks,vbids,vtrades),vlimitms); jax.block_until_ready(val)\u001b[39m\u001b[39m'\u001b[39m,number\u001b[39m=\u001b[39mn_runs,\u001b[39mglobals\u001b[39m\u001b[39m=\u001b[39m\u001b[39mglobals\u001b[39m())\u001b[39m/\u001b[39mn_runs)\n\u001b[1;32m     27\u001b[0m out,_\u001b[39m=\u001b[39mjax\u001b[39m.\u001b[39mvmap(job\u001b[39m.\u001b[39mcond_type_side,((\u001b[39m0\u001b[39m,\u001b[39m0\u001b[39m,\u001b[39m0\u001b[39m),\u001b[39m0\u001b[39m))(out,vcancelms)\n\u001b[0;32m---> 28\u001b[0m \u001b[39mprint\u001b[39m(\u001b[39m\"\u001b[39m\u001b[39mVMAP cancel order for book of size \u001b[39m\u001b[39m\"\u001b[39m,i,\u001b[39m\"\u001b[39m\u001b[39m:\u001b[39m\u001b[39m\"\u001b[39m,timeit\u001b[39m.\u001b[39;49mtimeit(\u001b[39m'\u001b[39;49m\u001b[39mval=jax.vmap(job.cond_type_side,((0,0,0),0))(out,vcancelms); jax.block_until_ready(val)\u001b[39;49m\u001b[39m'\u001b[39;49m,number\u001b[39m=\u001b[39;49mn_runs,\u001b[39mglobals\u001b[39;49m\u001b[39m=\u001b[39;49m\u001b[39mglobals\u001b[39;49m())\u001b[39m/\u001b[39mn_runs)\n\u001b[1;32m     29\u001b[0m out,_\u001b[39m=\u001b[39mjax\u001b[39m.\u001b[39mvmap(job\u001b[39m.\u001b[39mcond_type_side,((\u001b[39m0\u001b[39m,\u001b[39m0\u001b[39m,\u001b[39m0\u001b[39m),\u001b[39m0\u001b[39m))(out,vmatchms)\n\u001b[1;32m     30\u001b[0m \u001b[39mprint\u001b[39m(\u001b[39m\"\u001b[39m\u001b[39mVMAP matched limit order for book of size \u001b[39m\u001b[39m\"\u001b[39m,i,\u001b[39m\"\u001b[39m\u001b[39m:\u001b[39m\u001b[39m\"\u001b[39m,timeit\u001b[39m.\u001b[39mtimeit(\u001b[39m'\u001b[39m\u001b[39mval=jax.vmap(job.cond_type_side,((0,0,0),0))(out,vmatchms); jax.block_until_ready(val)\u001b[39m\u001b[39m'\u001b[39m,number\u001b[39m=\u001b[39mn_runs,\u001b[39mglobals\u001b[39m\u001b[39m=\u001b[39m\u001b[39mglobals\u001b[39m())\u001b[39m/\u001b[39mn_runs)\n",
      "File \u001b[0;32m~/miniconda3/envs/alphatrade/lib/python3.10/timeit.py:234\u001b[0m, in \u001b[0;36mtimeit\u001b[0;34m(stmt, setup, timer, number, globals)\u001b[0m\n\u001b[1;32m    231\u001b[0m \u001b[39mdef\u001b[39;00m \u001b[39mtimeit\u001b[39m(stmt\u001b[39m=\u001b[39m\u001b[39m\"\u001b[39m\u001b[39mpass\u001b[39m\u001b[39m\"\u001b[39m, setup\u001b[39m=\u001b[39m\u001b[39m\"\u001b[39m\u001b[39mpass\u001b[39m\u001b[39m\"\u001b[39m, timer\u001b[39m=\u001b[39mdefault_timer,\n\u001b[1;32m    232\u001b[0m            number\u001b[39m=\u001b[39mdefault_number, \u001b[39mglobals\u001b[39m\u001b[39m=\u001b[39m\u001b[39mNone\u001b[39;00m):\n\u001b[1;32m    233\u001b[0m \u001b[39m    \u001b[39m\u001b[39m\"\"\"Convenience function to create Timer object and call timeit method.\"\"\"\u001b[39;00m\n\u001b[0;32m--> 234\u001b[0m     \u001b[39mreturn\u001b[39;00m Timer(stmt, setup, timer, \u001b[39mglobals\u001b[39;49m)\u001b[39m.\u001b[39;49mtimeit(number)\n",
      "File \u001b[0;32m~/miniconda3/envs/alphatrade/lib/python3.10/timeit.py:178\u001b[0m, in \u001b[0;36mTimer.timeit\u001b[0;34m(self, number)\u001b[0m\n\u001b[1;32m    176\u001b[0m gc\u001b[39m.\u001b[39mdisable()\n\u001b[1;32m    177\u001b[0m \u001b[39mtry\u001b[39;00m:\n\u001b[0;32m--> 178\u001b[0m     timing \u001b[39m=\u001b[39m \u001b[39mself\u001b[39;49m\u001b[39m.\u001b[39;49minner(it, \u001b[39mself\u001b[39;49m\u001b[39m.\u001b[39;49mtimer)\n\u001b[1;32m    179\u001b[0m \u001b[39mfinally\u001b[39;00m:\n\u001b[1;32m    180\u001b[0m     \u001b[39mif\u001b[39;00m gcold:\n",
      "File \u001b[0;32m<timeit-src>:6\u001b[0m, in \u001b[0;36minner\u001b[0;34m(_it, _timer)\u001b[0m\n",
      "File \u001b[0;32m~/miniconda3/envs/alphatrade/lib/python3.10/site-packages/jax/_src/api.py:2862\u001b[0m, in \u001b[0;36mblock_until_ready\u001b[0;34m(x)\u001b[0m\n\u001b[1;32m   2860\u001b[0m   \u001b[39mexcept\u001b[39;00m \u001b[39mAttributeError\u001b[39;00m:\n\u001b[1;32m   2861\u001b[0m     \u001b[39mreturn\u001b[39;00m x\n\u001b[0;32m-> 2862\u001b[0m \u001b[39mreturn\u001b[39;00m tree_map(try_to_block, x)\n",
      "File \u001b[0;32m~/miniconda3/envs/alphatrade/lib/python3.10/site-packages/jax/_src/tree_util.py:210\u001b[0m, in \u001b[0;36mtree_map\u001b[0;34m(f, tree, is_leaf, *rest)\u001b[0m\n\u001b[1;32m    208\u001b[0m leaves, treedef \u001b[39m=\u001b[39m tree_flatten(tree, is_leaf)\n\u001b[1;32m    209\u001b[0m all_leaves \u001b[39m=\u001b[39m [leaves] \u001b[39m+\u001b[39m [treedef\u001b[39m.\u001b[39mflatten_up_to(r) \u001b[39mfor\u001b[39;00m r \u001b[39min\u001b[39;00m rest]\n\u001b[0;32m--> 210\u001b[0m \u001b[39mreturn\u001b[39;00m treedef\u001b[39m.\u001b[39;49munflatten(f(\u001b[39m*\u001b[39;49mxs) \u001b[39mfor\u001b[39;49;00m xs \u001b[39min\u001b[39;49;00m \u001b[39mzip\u001b[39;49m(\u001b[39m*\u001b[39;49mall_leaves))\n",
      "File \u001b[0;32m~/miniconda3/envs/alphatrade/lib/python3.10/site-packages/jax/_src/tree_util.py:210\u001b[0m, in \u001b[0;36m<genexpr>\u001b[0;34m(.0)\u001b[0m\n\u001b[1;32m    208\u001b[0m leaves, treedef \u001b[39m=\u001b[39m tree_flatten(tree, is_leaf)\n\u001b[1;32m    209\u001b[0m all_leaves \u001b[39m=\u001b[39m [leaves] \u001b[39m+\u001b[39m [treedef\u001b[39m.\u001b[39mflatten_up_to(r) \u001b[39mfor\u001b[39;00m r \u001b[39min\u001b[39;00m rest]\n\u001b[0;32m--> 210\u001b[0m \u001b[39mreturn\u001b[39;00m treedef\u001b[39m.\u001b[39munflatten(f(\u001b[39m*\u001b[39;49mxs) \u001b[39mfor\u001b[39;00m xs \u001b[39min\u001b[39;00m \u001b[39mzip\u001b[39m(\u001b[39m*\u001b[39mall_leaves))\n",
      "File \u001b[0;32m~/miniconda3/envs/alphatrade/lib/python3.10/site-packages/jax/_src/api.py:2859\u001b[0m, in \u001b[0;36mblock_until_ready.<locals>.try_to_block\u001b[0;34m(x)\u001b[0m\n\u001b[1;32m   2857\u001b[0m \u001b[39mdef\u001b[39;00m \u001b[39mtry_to_block\u001b[39m(x):\n\u001b[1;32m   2858\u001b[0m   \u001b[39mtry\u001b[39;00m:\n\u001b[0;32m-> 2859\u001b[0m     \u001b[39mreturn\u001b[39;00m x\u001b[39m.\u001b[39;49mblock_until_ready()\n\u001b[1;32m   2860\u001b[0m   \u001b[39mexcept\u001b[39;00m \u001b[39mAttributeError\u001b[39;00m:\n\u001b[1;32m   2861\u001b[0m     \u001b[39mreturn\u001b[39;00m x\n",
      "\u001b[0;31mKeyboardInterrupt\u001b[0m: "
     ]
    }
   ],
   "source": [
    "random.seed(0)\n",
    "nvmap=1000000\n",
    "outs=[]\n",
    "for i in [10,100]:\n",
    "    asks,bids,trades=create_init_book(booksize=i,tradessize=i)\n",
    "    _,limitmsg=create_message(type='limit',side='bid',price=2191200,quant=77)\n",
    "    _,cancelmsg=create_message(type='cancel',side='bid',price=2191200,quant=77)\n",
    "    _,matchmsg=create_message(type='limit',side='ask',price=2191200,quant=100)\n",
    "\n",
    "    out,_=job.cond_type_side((asks,bids,trades),limitmsg)\n",
    "    print(\"Limit order for book of size \",i,\":\",timeit.timeit('val=job.cond_type_side((asks,bids,trades),limitmsg); jax.block_until_ready(val)',number=n_runs,globals=globals())/n_runs)\n",
    "    out,_=job.cond_type_side(out,cancelmsg)\n",
    "    print(\"Cancel order for book of size \",i,\":\",timeit.timeit('val=job.cond_type_side(out,cancelmsg); jax.block_until_ready(val)',number=n_runs,globals=globals())/n_runs)\n",
    "    out,_=job.cond_type_side(out,matchmsg)\n",
    "    print(\"Matched limit order for book of size \",i,\":\",timeit.timeit('val=job.cond_type_side(out,matchmsg); jax.block_until_ready(val)',number=n_runs,globals=globals())/n_runs)\n",
    "    outs.append(out)\n",
    "\n",
    "    vasks=jnp.array([asks]*nvmap)\n",
    "    vbids=jnp.array([bids]*nvmap)\n",
    "    vtrades=jnp.array([trades]*nvmap)\n",
    "    vlimitms=jnp.array([limitmsg]*nvmap)\n",
    "    vcancelms=jnp.array([cancelmsg]*nvmap)\n",
    "    vmatchms=jnp.array([matchmsg]*nvmap)\n",
    "\n",
    "    out,_=jax.vmap(job.cond_type_side,((0,0,0),0))((vasks,vbids,vtrades),vlimitms)\n",
    "    print(\"VMAP limit order for book of size \",i,\":\",timeit.timeit('val=jax.vmap(job.cond_type_side,((0,0,0),0))((vasks,vbids,vtrades),vlimitms); jax.block_until_ready(val)',number=n_runs,globals=globals())/n_runs)\n",
    "    out,_=jax.vmap(job.cond_type_side,((0,0,0),0))(out,vcancelms)\n",
    "    print(\"VMAP cancel order for book of size \",i,\":\",timeit.timeit('val=jax.vmap(job.cond_type_side,((0,0,0),0))(out,vcancelms); jax.block_until_ready(val)',number=n_runs,globals=globals())/n_runs)\n",
    "    out,_=jax.vmap(job.cond_type_side,((0,0,0),0))(out,vmatchms)\n",
    "    print(\"VMAP matched limit order for book of size \",i,\":\",timeit.timeit('val=jax.vmap(job.cond_type_side,((0,0,0),0))(out,vmatchms); jax.block_until_ready(val)',number=n_runs,globals=globals())/n_runs)\n",
    "\n",
    "\n",
    "    \n"
   ]
  },
  {
   "cell_type": "code",
   "execution_count": 20,
   "metadata": {},
   "outputs": [
    {
     "ename": "SyntaxError",
     "evalue": "invalid syntax (3056250722.py, line 1)",
     "output_type": "error",
     "traceback": [
      "\u001b[0;36m  Cell \u001b[0;32mIn[20], line 1\u001b[0;36m\u001b[0m\n\u001b[0;31m    Limit order for book of size  10 : 0.00010684770345687866\u001b[0m\n\u001b[0m          ^\u001b[0m\n\u001b[0;31mSyntaxError\u001b[0m\u001b[0;31m:\u001b[0m invalid syntax\n"
     ]
    }
   ],
   "source": []
  },
  {
   "cell_type": "markdown",
   "metadata": {},
   "source": [
    "Limit order for book of size  10 : 0.00010684770345687866\n",
    "Cancel order for book of size  10 : 7.434402499347926e-05\n",
    "Matched limit order for book of size  10 : 0.00016043131798505782\n",
    "VMAP limit order for book of size  10 : 0.006443732594139874\n",
    "VMAP cancel order for book of size  10 : 0.0064374489830806856\n",
    "VMAP matched limit order for book of size  10 : 0.006422483234666288\n",
    "Limit order for book of size  100 : 0.00014240943174809216\n",
    "Cancel order for book of size  100 : 8.986285887658596e-05\n",
    "Matched limit order for book of size  100 : 0.0002076397556811571\n",
    "VMAP limit order for book of size  100 : 0.05448427036125213\n",
    "VMAP cancel order for book of size  100 : 0.05465182608179748\n",
    "VMAP matched limit order for book of size  100 : 0.05493127669394016"
   ]
  },
  {
   "cell_type": "code",
   "execution_count": null,
   "metadata": {},
   "outputs": [],
   "source": []
  }
 ],
 "metadata": {
  "kernelspec": {
   "display_name": "alphatrade",
   "language": "python",
   "name": "python3"
  },
  "language_info": {
   "codemirror_mode": {
    "name": "ipython",
    "version": 3
   },
   "file_extension": ".py",
   "mimetype": "text/x-python",
   "name": "python",
   "nbconvert_exporter": "python",
   "pygments_lexer": "ipython3",
   "version": "3.10.11"
  },
  "orig_nbformat": 4
 },
 "nbformat": 4,
 "nbformat_minor": 2
}
