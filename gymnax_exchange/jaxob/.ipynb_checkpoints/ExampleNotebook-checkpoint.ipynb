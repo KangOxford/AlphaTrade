{
 "cells": [
  {
   "cell_type": "code",
   "execution_count": 1,
   "id": "d99bcef1",
   "metadata": {},
   "outputs": [],
   "source": [
    "#System and standard inputs\n",
    "import sys\n",
    "import importlib\n",
    "import timeit\n",
    "import collections\n",
    "\n",
    "#Adding correct paths to custom modules\n",
    "sys.path.append('/Users/sasrey/AlphaTrade/gym_exchange')\n",
    "sys.path.append('/Users/sasrey/AlphaTrade')\n",
    "sys.path.append('/Users/sasrey/AlphaTrade/gymnax_exchange')"
   ]
  },
  {
   "cell_type": "code",
   "execution_count": 2,
   "id": "3147fe9e",
   "metadata": {},
   "outputs": [],
   "source": [
    "#Relevant Jax Imports\n",
    "import jax.numpy as jnp\n",
    "from jax import lax\n",
    "import jax"
   ]
  },
  {
   "cell_type": "code",
   "execution_count": 1142,
   "id": "29a0a122",
   "metadata": {},
   "outputs": [],
   "source": [
    "#Direct Import of the Orderbook functions \n",
    "import jaxob.JaxOrderbook as job \n",
    "#OrderBook class import as written by Kang\n",
    "import orderbook.orderbook\n",
    "importlib.reload(orderbook.orderbook)\n",
    "from orderbook.orderbook import OrderBook as cpuOrderBook\n",
    "#Import (and reload for debugging) of the OrderBook class with jax backend (SF) should behave in the same way.\n",
    "import jorderbook\n",
    "importlib.reload(jorderbook)\n",
    "from jorderbook import OrderBook as JaxOrderBook\n",
    "\n",
    "#Import Data Mgt and Encoding/Decoding tools\n",
    "#(The aim of these is to adjust for the case where no message is received but data ends up in the L2 data)\n",
    "import gym_exchange.data_orderbook_adapter.data_pipeline as dpl\n",
    "from gym_exchange.data_orderbook_adapter.decoder import Decoder\n",
    "from gym_exchange.data_orderbook_adapter.encoder import Encoder"
   ]
  },
  {
   "cell_type": "code",
   "execution_count": 1131,
   "id": "c4ee145f",
   "metadata": {},
   "outputs": [
    {
     "ename": "FileNotFoundError",
     "evalue": "[Errno 2] No such file or directory: '/Users/kang/Data/TSLA_2015-01-02_34200000_57600000_orderbook_10.csv'",
     "output_type": "error",
     "traceback": [
      "\u001b[0;31m---------------------------------------------------------------------------\u001b[0m",
      "\u001b[0;31mFileNotFoundError\u001b[0m                         Traceback (most recent call last)",
      "\u001b[0;32m/var/folders/sp/5klxb3311218qqklkfj7y6nc0000gp/T/ipykernel_71851/4048843160.py\u001b[0m in \u001b[0;36m<cell line: 3>\u001b[0;34m()\u001b[0m\n\u001b[1;32m      1\u001b[0m \u001b[0;31m#Attempt at using the data pipeline tools and the encoder/decoder, doesn't really work well.\u001b[0m\u001b[0;34m\u001b[0m\u001b[0;34m\u001b[0m\u001b[0m\n\u001b[1;32m      2\u001b[0m \u001b[0;34m\u001b[0m\u001b[0m\n\u001b[0;32m----> 3\u001b[0;31m \u001b[0mdplOBJ\u001b[0m\u001b[0;34m=\u001b[0m\u001b[0mdpl\u001b[0m\u001b[0;34m.\u001b[0m\u001b[0mDataPipeline\u001b[0m\u001b[0;34m(\u001b[0m\u001b[0;34m)\u001b[0m\u001b[0;34m\u001b[0m\u001b[0;34m\u001b[0m\u001b[0m\n\u001b[0m\u001b[1;32m      4\u001b[0m \u001b[0mdecodeddata\u001b[0m\u001b[0;34m=\u001b[0m\u001b[0mDecoder\u001b[0m\u001b[0;34m(\u001b[0m\u001b[0;36m10\u001b[0m\u001b[0;34m,\u001b[0m\u001b[0;36m40\u001b[0m\u001b[0;34m,\u001b[0m\u001b[0mdplOBJ\u001b[0m\u001b[0;34m.\u001b[0m\u001b[0mhistorical_data\u001b[0m\u001b[0;34m,\u001b[0m\u001b[0mdplOBJ\u001b[0m\u001b[0;34m.\u001b[0m\u001b[0mdata_loader\u001b[0m\u001b[0;34m)\u001b[0m\u001b[0;34m\u001b[0m\u001b[0;34m\u001b[0m\u001b[0m\n\u001b[1;32m      5\u001b[0m \u001b[0;31m#Decoder Functionality: Takes the message data (dataloader) and the orderbook data (historical data).\u001b[0m\u001b[0;34m\u001b[0m\u001b[0;34m\u001b[0m\u001b[0m\n",
      "\u001b[0;32m~/AlphaTrade/gym_exchange/data_orderbook_adapter/data_pipeline.py\u001b[0m in \u001b[0;36m__init__\u001b[0;34m(self)\u001b[0m\n\u001b[1;32m     10\u001b[0m             \u001b[0msymbol\u001b[0m \u001b[0;34m=\u001b[0m \u001b[0;34m\"TSLA\"\u001b[0m\u001b[0;34m;\u001b[0m\u001b[0mdate\u001b[0m \u001b[0;34m=\u001b[0m \u001b[0;34m\"2015-01-02\"\u001b[0m\u001b[0;34m\u001b[0m\u001b[0;34m\u001b[0m\u001b[0m\n\u001b[1;32m     11\u001b[0m             \u001b[0;31m# symbol = \"AMZN\";date = \"2021-04-01\"\u001b[0m\u001b[0;34m\u001b[0m\u001b[0;34m\u001b[0m\u001b[0m\n\u001b[0;32m---> 12\u001b[0;31m             \u001b[0mself\u001b[0m\u001b[0;34m.\u001b[0m\u001b[0mhistorical_data\u001b[0m \u001b[0;34m=\u001b[0m \u001b[0mpd\u001b[0m\u001b[0;34m.\u001b[0m\u001b[0mread_csv\u001b[0m\u001b[0;34m(\u001b[0m\u001b[0;34m\"/Users/kang/Data/\"\u001b[0m\u001b[0;34m+\u001b[0m\u001b[0msymbol\u001b[0m\u001b[0;34m+\u001b[0m\u001b[0;34m\"_\"\u001b[0m\u001b[0;34m+\u001b[0m\u001b[0mdate\u001b[0m\u001b[0;34m+\u001b[0m\u001b[0;34m\"_34200000_57600000_orderbook_10.csv\"\u001b[0m\u001b[0;34m,\u001b[0m \u001b[0mheader\u001b[0m \u001b[0;34m=\u001b[0m \u001b[0;32mNone\u001b[0m\u001b[0;34m)\u001b[0m\u001b[0;34m\u001b[0m\u001b[0;34m\u001b[0m\u001b[0m\n\u001b[0m\u001b[1;32m     13\u001b[0m             \u001b[0mself\u001b[0m\u001b[0;34m.\u001b[0m\u001b[0mdata_loader\u001b[0m \u001b[0;34m=\u001b[0m \u001b[0mpd\u001b[0m\u001b[0;34m.\u001b[0m\u001b[0mread_csv\u001b[0m\u001b[0;34m(\u001b[0m\u001b[0;34m\"/Users/kang/Data/\"\u001b[0m\u001b[0;34m+\u001b[0m\u001b[0msymbol\u001b[0m\u001b[0;34m+\u001b[0m\u001b[0;34m\"_\"\u001b[0m\u001b[0;34m+\u001b[0m\u001b[0mdate\u001b[0m\u001b[0;34m+\u001b[0m\u001b[0;34m\"_34200000_57600000_message_10.csv\"\u001b[0m\u001b[0;34m,\u001b[0m \u001b[0mheader\u001b[0m\u001b[0;34m=\u001b[0m\u001b[0;32mNone\u001b[0m\u001b[0;34m)\u001b[0m\u001b[0;34m\u001b[0m\u001b[0;34m\u001b[0m\u001b[0m\n\u001b[1;32m     14\u001b[0m             \u001b[0;31m# self.historical_data = pd.read_csv(\"/Users/sasrey/project-RL4ABM/data_tqap/TSLA_2015-01-01_2015-01-31_10/TSLA_2015-01-02_34200000_57600000_orderbook_10.csv\", header = None)\u001b[0m\u001b[0;34m\u001b[0m\u001b[0;34m\u001b[0m\u001b[0m\n",
      "\u001b[0;32m/Library/Frameworks/Python.framework/Versions/3.10/lib/python3.10/site-packages/pandas/util/_decorators.py\u001b[0m in \u001b[0;36mwrapper\u001b[0;34m(*args, **kwargs)\u001b[0m\n\u001b[1;32m    309\u001b[0m                     \u001b[0mstacklevel\u001b[0m\u001b[0;34m=\u001b[0m\u001b[0mstacklevel\u001b[0m\u001b[0;34m,\u001b[0m\u001b[0;34m\u001b[0m\u001b[0;34m\u001b[0m\u001b[0m\n\u001b[1;32m    310\u001b[0m                 )\n\u001b[0;32m--> 311\u001b[0;31m             \u001b[0;32mreturn\u001b[0m \u001b[0mfunc\u001b[0m\u001b[0;34m(\u001b[0m\u001b[0;34m*\u001b[0m\u001b[0margs\u001b[0m\u001b[0;34m,\u001b[0m \u001b[0;34m**\u001b[0m\u001b[0mkwargs\u001b[0m\u001b[0;34m)\u001b[0m\u001b[0;34m\u001b[0m\u001b[0;34m\u001b[0m\u001b[0m\n\u001b[0m\u001b[1;32m    312\u001b[0m \u001b[0;34m\u001b[0m\u001b[0m\n\u001b[1;32m    313\u001b[0m         \u001b[0;32mreturn\u001b[0m \u001b[0mwrapper\u001b[0m\u001b[0;34m\u001b[0m\u001b[0;34m\u001b[0m\u001b[0m\n",
      "\u001b[0;32m/Library/Frameworks/Python.framework/Versions/3.10/lib/python3.10/site-packages/pandas/io/parsers/readers.py\u001b[0m in \u001b[0;36mread_csv\u001b[0;34m(filepath_or_buffer, sep, delimiter, header, names, index_col, usecols, squeeze, prefix, mangle_dupe_cols, dtype, engine, converters, true_values, false_values, skipinitialspace, skiprows, skipfooter, nrows, na_values, keep_default_na, na_filter, verbose, skip_blank_lines, parse_dates, infer_datetime_format, keep_date_col, date_parser, dayfirst, cache_dates, iterator, chunksize, compression, thousands, decimal, lineterminator, quotechar, quoting, doublequote, escapechar, comment, encoding, encoding_errors, dialect, error_bad_lines, warn_bad_lines, on_bad_lines, delim_whitespace, low_memory, memory_map, float_precision, storage_options)\u001b[0m\n\u001b[1;32m    678\u001b[0m     \u001b[0mkwds\u001b[0m\u001b[0;34m.\u001b[0m\u001b[0mupdate\u001b[0m\u001b[0;34m(\u001b[0m\u001b[0mkwds_defaults\u001b[0m\u001b[0;34m)\u001b[0m\u001b[0;34m\u001b[0m\u001b[0;34m\u001b[0m\u001b[0m\n\u001b[1;32m    679\u001b[0m \u001b[0;34m\u001b[0m\u001b[0m\n\u001b[0;32m--> 680\u001b[0;31m     \u001b[0;32mreturn\u001b[0m \u001b[0m_read\u001b[0m\u001b[0;34m(\u001b[0m\u001b[0mfilepath_or_buffer\u001b[0m\u001b[0;34m,\u001b[0m \u001b[0mkwds\u001b[0m\u001b[0;34m)\u001b[0m\u001b[0;34m\u001b[0m\u001b[0;34m\u001b[0m\u001b[0m\n\u001b[0m\u001b[1;32m    681\u001b[0m \u001b[0;34m\u001b[0m\u001b[0m\n\u001b[1;32m    682\u001b[0m \u001b[0;34m\u001b[0m\u001b[0m\n",
      "\u001b[0;32m/Library/Frameworks/Python.framework/Versions/3.10/lib/python3.10/site-packages/pandas/io/parsers/readers.py\u001b[0m in \u001b[0;36m_read\u001b[0;34m(filepath_or_buffer, kwds)\u001b[0m\n\u001b[1;32m    573\u001b[0m \u001b[0;34m\u001b[0m\u001b[0m\n\u001b[1;32m    574\u001b[0m     \u001b[0;31m# Create the parser.\u001b[0m\u001b[0;34m\u001b[0m\u001b[0;34m\u001b[0m\u001b[0m\n\u001b[0;32m--> 575\u001b[0;31m     \u001b[0mparser\u001b[0m \u001b[0;34m=\u001b[0m \u001b[0mTextFileReader\u001b[0m\u001b[0;34m(\u001b[0m\u001b[0mfilepath_or_buffer\u001b[0m\u001b[0;34m,\u001b[0m \u001b[0;34m**\u001b[0m\u001b[0mkwds\u001b[0m\u001b[0;34m)\u001b[0m\u001b[0;34m\u001b[0m\u001b[0;34m\u001b[0m\u001b[0m\n\u001b[0m\u001b[1;32m    576\u001b[0m \u001b[0;34m\u001b[0m\u001b[0m\n\u001b[1;32m    577\u001b[0m     \u001b[0;32mif\u001b[0m \u001b[0mchunksize\u001b[0m \u001b[0;32mor\u001b[0m \u001b[0miterator\u001b[0m\u001b[0;34m:\u001b[0m\u001b[0;34m\u001b[0m\u001b[0;34m\u001b[0m\u001b[0m\n",
      "\u001b[0;32m/Library/Frameworks/Python.framework/Versions/3.10/lib/python3.10/site-packages/pandas/io/parsers/readers.py\u001b[0m in \u001b[0;36m__init__\u001b[0;34m(self, f, engine, **kwds)\u001b[0m\n\u001b[1;32m    931\u001b[0m \u001b[0;34m\u001b[0m\u001b[0m\n\u001b[1;32m    932\u001b[0m         \u001b[0mself\u001b[0m\u001b[0;34m.\u001b[0m\u001b[0mhandles\u001b[0m\u001b[0;34m:\u001b[0m \u001b[0mIOHandles\u001b[0m \u001b[0;34m|\u001b[0m \u001b[0;32mNone\u001b[0m \u001b[0;34m=\u001b[0m \u001b[0;32mNone\u001b[0m\u001b[0;34m\u001b[0m\u001b[0;34m\u001b[0m\u001b[0m\n\u001b[0;32m--> 933\u001b[0;31m         \u001b[0mself\u001b[0m\u001b[0;34m.\u001b[0m\u001b[0m_engine\u001b[0m \u001b[0;34m=\u001b[0m \u001b[0mself\u001b[0m\u001b[0;34m.\u001b[0m\u001b[0m_make_engine\u001b[0m\u001b[0;34m(\u001b[0m\u001b[0mf\u001b[0m\u001b[0;34m,\u001b[0m \u001b[0mself\u001b[0m\u001b[0;34m.\u001b[0m\u001b[0mengine\u001b[0m\u001b[0;34m)\u001b[0m\u001b[0;34m\u001b[0m\u001b[0;34m\u001b[0m\u001b[0m\n\u001b[0m\u001b[1;32m    934\u001b[0m \u001b[0;34m\u001b[0m\u001b[0m\n\u001b[1;32m    935\u001b[0m     \u001b[0;32mdef\u001b[0m \u001b[0mclose\u001b[0m\u001b[0;34m(\u001b[0m\u001b[0mself\u001b[0m\u001b[0;34m)\u001b[0m\u001b[0;34m:\u001b[0m\u001b[0;34m\u001b[0m\u001b[0;34m\u001b[0m\u001b[0m\n",
      "\u001b[0;32m/Library/Frameworks/Python.framework/Versions/3.10/lib/python3.10/site-packages/pandas/io/parsers/readers.py\u001b[0m in \u001b[0;36m_make_engine\u001b[0;34m(self, f, engine)\u001b[0m\n\u001b[1;32m   1215\u001b[0m             \u001b[0;31m# \"Union[str, PathLike[str], ReadCsvBuffer[bytes], ReadCsvBuffer[str]]\"\u001b[0m\u001b[0;34m\u001b[0m\u001b[0;34m\u001b[0m\u001b[0m\n\u001b[1;32m   1216\u001b[0m             \u001b[0;31m# , \"str\", \"bool\", \"Any\", \"Any\", \"Any\", \"Any\", \"Any\"\u001b[0m\u001b[0;34m\u001b[0m\u001b[0;34m\u001b[0m\u001b[0m\n\u001b[0;32m-> 1217\u001b[0;31m             self.handles = get_handle(  # type: ignore[call-overload]\n\u001b[0m\u001b[1;32m   1218\u001b[0m                 \u001b[0mf\u001b[0m\u001b[0;34m,\u001b[0m\u001b[0;34m\u001b[0m\u001b[0;34m\u001b[0m\u001b[0m\n\u001b[1;32m   1219\u001b[0m                 \u001b[0mmode\u001b[0m\u001b[0;34m,\u001b[0m\u001b[0;34m\u001b[0m\u001b[0;34m\u001b[0m\u001b[0m\n",
      "\u001b[0;32m/Library/Frameworks/Python.framework/Versions/3.10/lib/python3.10/site-packages/pandas/io/common.py\u001b[0m in \u001b[0;36mget_handle\u001b[0;34m(path_or_buf, mode, encoding, compression, memory_map, is_text, errors, storage_options)\u001b[0m\n\u001b[1;32m    787\u001b[0m         \u001b[0;32mif\u001b[0m \u001b[0mioargs\u001b[0m\u001b[0;34m.\u001b[0m\u001b[0mencoding\u001b[0m \u001b[0;32mand\u001b[0m \u001b[0;34m\"b\"\u001b[0m \u001b[0;32mnot\u001b[0m \u001b[0;32min\u001b[0m \u001b[0mioargs\u001b[0m\u001b[0;34m.\u001b[0m\u001b[0mmode\u001b[0m\u001b[0;34m:\u001b[0m\u001b[0;34m\u001b[0m\u001b[0;34m\u001b[0m\u001b[0m\n\u001b[1;32m    788\u001b[0m             \u001b[0;31m# Encoding\u001b[0m\u001b[0;34m\u001b[0m\u001b[0;34m\u001b[0m\u001b[0m\n\u001b[0;32m--> 789\u001b[0;31m             handle = open(\n\u001b[0m\u001b[1;32m    790\u001b[0m                 \u001b[0mhandle\u001b[0m\u001b[0;34m,\u001b[0m\u001b[0;34m\u001b[0m\u001b[0;34m\u001b[0m\u001b[0m\n\u001b[1;32m    791\u001b[0m                 \u001b[0mioargs\u001b[0m\u001b[0;34m.\u001b[0m\u001b[0mmode\u001b[0m\u001b[0;34m,\u001b[0m\u001b[0;34m\u001b[0m\u001b[0;34m\u001b[0m\u001b[0m\n",
      "\u001b[0;31mFileNotFoundError\u001b[0m: [Errno 2] No such file or directory: '/Users/kang/Data/TSLA_2015-01-02_34200000_57600000_orderbook_10.csv'"
     ]
    }
   ],
   "source": [
    "#Attempt at using the data pipeline tools and the encoder/decoder, doesn't really work well. \n",
    "\n",
    "dplOBJ=dpl.DataPipeline()\n",
    "decodeddata=Decoder(10,40,dplOBJ.historical_data,dplOBJ.data_loader)\n",
    "#Decoder Functionality: Takes the message data (dataloader) and the orderbook data (historical data).\n",
    "#Creates and maintains an orderbook as implemented in the CPU version.\n",
    "#Creates and maintains a \"DataAdjuster\" object, which considers the historical data (orderbook) to be the \"true\" state\n",
    "#Inits the orderbook with the first state in the orderbook data (hist) gives imaginary list of IDs to the orders created:\n",
    "#            each entry in the orderbook is considered to be from a single order. \n",
    "output=decodeddata.process()\n",
    "#Process function for Decoder: goes through N (horizon) messages to ascertain whether there are adidtional messages to consider. \n",
    "\n",
    "enc=Encoder(decodeddata)\n",
    "#enc()"
   ]
  },
  {
   "cell_type": "code",
   "execution_count": 1132,
   "id": "b5cfed55",
   "metadata": {},
   "outputs": [],
   "source": [
    "import pandas as pd\n",
    "df_msg = pd.read_csv(\"/Users/sasrey/AlphaTrade/data/TSLA_2015-01-02_34200000_57600000_message_50.csv\", header=None)\n",
    "df_ob = pd.read_csv(\"/Users/sasrey/AlphaTrade/data/TSLA_2015-01-02_34200000_57600000_orderbook_50.csv\", header=None)\n",
    "orderbookLevels=50"
   ]
  },
  {
   "cell_type": "code",
   "execution_count": 1133,
   "id": "b27f08fd",
   "metadata": {},
   "outputs": [
    {
     "name": "stdout",
     "output_type": "stream",
     "text": [
      "(290737, 7)\n"
     ]
    }
   ],
   "source": [
    "data=jnp.array(df_ob.iloc[0,:]).reshape(int(orderbookLevels*2),2) ##Careful - converts to int32 in jnp array, meaning the filler values get truncated.\n",
    "newarr=jnp.zeros((int(orderbookLevels*2),7))\n",
    "initOB=newarr.at[:,3].set(data[:,0]).at[:,2].set(data[:,1]).at[:,0].set(1).at[0:orderbookLevels*4:2,1].set(-1).at[1:orderbookLevels*4:2,1].set(1).at[:,4].set(0).at[:,5].set(job.INITID).at[:,6].set(34200.00000000)\n",
    "\n",
    "\n",
    "df_orders=df_msg.rename(columns={1:'Type',5:'Side',3:'Quantity',4:'Price',2:'OrderID',0:'Time'})\n",
    "df_orders['TradeID']=0\n",
    "col_order=['Type','Side','Quantity','Price','TradeID','OrderID','Time']\n",
    "df_orders=df_orders[col_order]\n",
    "df_orders_simple=df_orders[(df_orders['Type']!=6)&(df_orders['Type']!=7)&(df_orders['Type']!=5)]\n",
    "\n",
    "ordersJNP=jnp.array(df_orders)\n",
    "print(ordersJNP.shape)"
   ]
  },
  {
   "cell_type": "code",
   "execution_count": 1143,
   "id": "6e3315e6",
   "metadata": {},
   "outputs": [],
   "source": [
    "horizon=91\n",
    "\n",
    "orderbook_1=JaxOrderBook(price_levels=50,orderQueueLen=50)\n",
    "trades_init=orderbook_1.process_orders_array(initOB)\n",
    "trades_msgs=orderbook_1.process_orders_array(ordersJNP[0:horizon])"
   ]
  },
  {
   "cell_type": "code",
   "execution_count": 1144,
   "id": "09bea80c",
   "metadata": {},
   "outputs": [
    {
     "name": "stdout",
     "output_type": "stream",
     "text": [
      "[[       0        0        0        0]\n",
      " [       0        0        0        0]\n",
      " [       0        0        0        0]\n",
      " [       0        0        0        0]\n",
      " [       0        0        0        0]\n",
      " [       0        0        0        0]\n",
      " [       0        0        0        0]\n",
      " [       0        0        0        0]\n",
      " [       0        0        0        0]\n",
      " [       0        0        0        0]\n",
      " [       0        0        0        0]\n",
      " [       0        0        0        0]\n",
      " [       0        0        0        0]\n",
      " [       0        0        0        0]\n",
      " [       0        0        0        0]\n",
      " [       0        0        0        0]\n",
      " [       0        0        0        0]\n",
      " [       0        0        0        0]\n",
      " [       0        0        0        0]\n",
      " [       0        0        0        0]\n",
      " [       0        0        0        0]\n",
      " [       0        0        0        0]\n",
      " [       0        0        0        0]\n",
      " [       0        0        0        0]\n",
      " [       0        0        0        0]\n",
      " [       0        0        0        0]\n",
      " [       0        0        0        0]\n",
      " [       0        0        0        0]\n",
      " [       0        0        0        0]\n",
      " [       0        0        0        0]\n",
      " [       0        0        0        0]\n",
      " [       0        0        0        0]\n",
      " [       0        0        0        0]\n",
      " [       0        0        0        0]\n",
      " [       0        0        0        0]\n",
      " [       0        0        0        0]\n",
      " [       0        0        0        0]\n",
      " [       0        0        0        0]\n",
      " [       0        0        0        0]\n",
      " [       0        0        0        0]\n",
      " [       0        0        0        0]\n",
      " [       0        0        0        0]\n",
      " [       0        0        0        0]\n",
      " [       0        0        0        0]\n",
      " [       0        0        0        0]\n",
      " [       0        0        0        0]\n",
      " [       0        0        0        0]\n",
      " [       0        0        0        0]\n",
      " [       0        0        0        0]\n",
      " [-2600001      -13 -1803301     -100]]\n"
     ]
    }
   ],
   "source": [
    "MINPRICE=-1.410065407e9\n",
    "myOB=orderbook_1.get_L2_state()\n",
    "L2OB=jnp.array(df_ob.iloc[horizon-1]).astype(float)\n",
    "L2OB=L2OB.at[L2OB==MINPRICE].set(-1)\n",
    "#print(L2OB.reshape(50,4))\n",
    "#print(myOB.reshape(50,4))\n",
    "print((myOB.reshape(50,4)-L2OB.reshape(50,4)).astype(int))#L2OB#-myOB"
   ]
  },
  {
   "cell_type": "code",
   "execution_count": 1145,
   "id": "5f75839d",
   "metadata": {},
   "outputs": [
    {
     "data": {
      "text/plain": [
       "Array([ 3.000000e+00, -1.000000e+00,  2.000000e+01,  2.257500e+06,\n",
       "        0.000000e+00,  5.097802e+06,  3.420050e+04], dtype=float32)"
      ]
     },
     "execution_count": 1145,
     "metadata": {},
     "output_type": "execute_result"
    }
   ],
   "source": [
    "ordersJNP[horizon-1]"
   ]
  },
  {
   "cell_type": "markdown",
   "id": "6c853561",
   "metadata": {},
   "source": [
    "## Load the original orderbook implementation on the CPU"
   ]
  },
  {
   "cell_type": "code",
   "execution_count": 1146,
   "id": "6bb3e1b2",
   "metadata": {},
   "outputs": [],
   "source": [
    "orderbook_2=cpuOrderBook()"
   ]
  },
  {
   "cell_type": "code",
   "execution_count": 1147,
   "id": "3c26f058",
   "metadata": {},
   "outputs": [],
   "source": [
    "limit_orders = []\n",
    "order_id_list = [orderbook.orderbook.INITID + i for i in range(100)]\n",
    "for i in range(50):\n",
    "    trade_id = 10086\n",
    "    # timestamp = datetime(34200.000000001)\n",
    "    timestamp = str(34200.000000001)\n",
    "    item = {'type' : 'limit', \n",
    "        'side' : 'ask', \n",
    "          'quantity' : df_ob.iloc[0,4* i + 1], \n",
    "          'price' : df_ob.iloc[0,4*i],\n",
    "          'trade_id' : trade_id,\n",
    "          'order_id' : order_id_list[i],#orderbook.orderbook.INITID,\n",
    "          \"timestamp\": timestamp}\n",
    "    if item['quantity']>0:\n",
    "        limit_orders.append(item)\n",
    "    \n",
    "for i in range(50):\n",
    "    trade_id = 10087\n",
    "    # timestamp = datetime(34200.000000001)\n",
    "    timestamp = str(34200.000000001)\n",
    "    item = {'type' : 'limit', \n",
    "        'side' : 'bid', \n",
    "          'quantity' : df_ob.iloc[0,4* i + 3], \n",
    "          'price' : df_ob.iloc[0,4*i+2],\n",
    "          'trade_id' : trade_id,\n",
    "          'order_id' : order_id_list[i],#orderbook.orderbook.INITID,\n",
    "          \"timestamp\": timestamp}\n",
    "    if item['quantity']>0:\n",
    "        limit_orders.append(item)\n",
    "    \n",
    "# Add init orders to order book\n",
    "for order in limit_orders:\n",
    "    # breakpoint()\n",
    "    trades, order_id = orderbook_2.process_order(order, True, False)  "
   ]
  },
  {
   "cell_type": "code",
   "execution_count": 1148,
   "id": "8ce20ed1",
   "metadata": {},
   "outputs": [
    {
     "name": "stdout",
     "output_type": "stream",
     "text": [
      "{'type': 'delete', 'side': 'ask', 'quantity': 20, 'price': 2257500, 'trade_id': 5097802, 'timestamp': '34200.501657651', 'order_id': 15000009}\n",
      "{'type': 'delete', 'side': 'ask', 'quantity': 20, 'price': 2257500, 'trade_id': 5097802, 'timestamp': '34200.501657651', 'order_id': 15000009}\n"
     ]
    }
   ],
   "source": [
    "##Taken largely from the Example.py file in the orderbook repository for the cpu\n",
    "for index in range(horizon):\n",
    "    l1 = df_msg.iloc[index,:]\n",
    "    ttype = l1[1] \n",
    "    side = 'bid' if l1[5] ==1 else 'ask'\n",
    "    quantity = l1[3]\n",
    "    price = l1[4]\n",
    "    trade_id = l1[2] # not sure, in the data it is order id\n",
    "    order_id = trade_id\n",
    "    timestamp = str(l1[0])\n",
    "    message = {'type': ttype,'side': side,'quantity': quantity,'price': price,'trade_id': trade_id, \"timestamp\":timestamp, 'order_id':order_id}\n",
    "    orderbook_2.processOrder(message,True,False)\n",
    "    \n",
    "        \n",
    "print(message)"
   ]
  },
  {
   "cell_type": "code",
   "execution_count": 1149,
   "id": "4d2d3f8a",
   "metadata": {},
   "outputs": [],
   "source": [
    "from itertools import zip_longest\n",
    "cpuOB=jnp.array(list(zip_longest(*orderbook_2.get_L2_state(), fillvalue=-1)))"
   ]
  },
  {
   "cell_type": "code",
   "execution_count": 1150,
   "id": "ac06b5a6",
   "metadata": {
    "scrolled": false
   },
   "outputs": [
    {
     "name": "stdout",
     "output_type": "stream",
     "text": [
      "[[2229100    1507 2226400     300]\n",
      " [2230000      26 2226000     200]\n",
      " [2233500      23 2225100      28]\n",
      " [2234000      50 2225000     979]\n",
      " [2235000     390 2224900       8]\n",
      " [2237200     300 2224500      17]\n",
      " [2237500     100 2224400       2]\n",
      " [2240000     250 2224100     265]\n",
      " [2241000     100 2224000      42]\n",
      " [2242500      20 2222200     201]\n",
      " [2247500      20 2222100      10]\n",
      " [2248100      50 2222000       6]\n",
      " [2249500     103 2221700      15]\n",
      " [2250000     824 2221500     200]\n",
      " [2251000     100 2221400      20]\n",
      " [2252400     400 2221000      14]\n",
      " [2252500      45 2220700     100]\n",
      " [2253900     100 2220000    1331]\n",
      " [2254500      10 2219800       3]\n",
      " [2255000      49 2218300      20]\n",
      " [2256000     100 2218000     202]\n",
      " [2256900     100 2216800       1]\n",
      " [2257500      20 2216300      85]\n",
      " [2257800     600 2210000     100]\n",
      " [2258800      10 2203200     100]\n",
      " [2262700       7 2200000      97]\n",
      " [2264900       1 2190000      50]\n",
      " [2270000       5 2185100       1]\n",
      " [2290000      70 2180000       4]\n",
      " [2299000     100 2153200     100]\n",
      " [2300000     139 2150700       1]\n",
      " [2301400     100 2133600     300]\n",
      " [2318300     100 2132600     100]\n",
      " [2318500     300 2100900      50]\n",
      " [2330000      50 2100000      50]\n",
      " [2340000      50 2096000      15]\n",
      " [2344300       5 2088200     100]\n",
      " [2362900     100 2078000     300]\n",
      " [2364200      60 2066900     100]\n",
      " [2374300     300 2050000      75]\n",
      " [2384900     100 2030000      10]\n",
      " [2400000     132 2000000     160]\n",
      " [2409000      10 1980000      25]\n",
      " [2450000       5 1930000      15]\n",
      " [2477700      17 1905000      50]\n",
      " [2500000     125 1901000       5]\n",
      " [2501700      25 1870200     200]\n",
      " [2580000     101 1838100     100]\n",
      " [2585700     200 1827900     100]\n",
      " [2600000      13 1803300     100]]\n",
      "[[ 2.2291e+06  1.5070e+03  2.2264e+06  3.0000e+02]\n",
      " [ 2.2300e+06  2.6000e+01  2.2260e+06  2.0000e+02]\n",
      " [ 2.2335e+06  2.3000e+01  2.2251e+06  2.8000e+01]\n",
      " [ 2.2340e+06  5.0000e+01  2.2250e+06  9.7900e+02]\n",
      " [ 2.2350e+06  3.9000e+02  2.2249e+06  8.0000e+00]\n",
      " [ 2.2372e+06  3.0000e+02  2.2245e+06  1.7000e+01]\n",
      " [ 2.2375e+06  1.0000e+02  2.2244e+06  2.0000e+00]\n",
      " [ 2.2400e+06  2.5000e+02  2.2241e+06  2.6500e+02]\n",
      " [ 2.2410e+06  1.0000e+02  2.2240e+06  4.2000e+01]\n",
      " [ 2.2425e+06  2.0000e+01  2.2222e+06  2.0100e+02]\n",
      " [ 2.2475e+06  2.0000e+01  2.2221e+06  1.0000e+01]\n",
      " [ 2.2481e+06  5.0000e+01  2.2220e+06  6.0000e+00]\n",
      " [ 2.2495e+06  1.0300e+02  2.2217e+06  1.5000e+01]\n",
      " [ 2.2500e+06  8.2400e+02  2.2215e+06  2.0000e+02]\n",
      " [ 2.2510e+06  1.0000e+02  2.2214e+06  2.0000e+01]\n",
      " [ 2.2524e+06  4.0000e+02  2.2210e+06  1.4000e+01]\n",
      " [ 2.2525e+06  4.5000e+01  2.2207e+06  1.0000e+02]\n",
      " [ 2.2539e+06  1.0000e+02  2.2200e+06  1.3310e+03]\n",
      " [ 2.2545e+06  1.0000e+01  2.2198e+06  3.0000e+00]\n",
      " [ 2.2550e+06  4.9000e+01  2.2183e+06  2.0000e+01]\n",
      " [ 2.2560e+06  1.0000e+02  2.2180e+06  2.0200e+02]\n",
      " [ 2.2569e+06  1.0000e+02  2.2168e+06  1.0000e+00]\n",
      " [ 2.2575e+06  2.0000e+01  2.2163e+06  8.5000e+01]\n",
      " [ 2.2578e+06  6.0000e+02  2.2100e+06  1.0000e+02]\n",
      " [ 2.2588e+06  1.0000e+01  2.2032e+06  1.0000e+02]\n",
      " [ 2.2627e+06  7.0000e+00  2.2000e+06  9.7000e+01]\n",
      " [ 2.2649e+06  1.0000e+00  2.1900e+06  5.0000e+01]\n",
      " [ 2.2700e+06  5.0000e+00  2.1851e+06  1.0000e+00]\n",
      " [ 2.2900e+06  7.0000e+01  2.1800e+06  4.0000e+00]\n",
      " [ 2.2990e+06  1.0000e+02  2.1532e+06  1.0000e+02]\n",
      " [ 2.3000e+06  1.3900e+02  2.1507e+06  1.0000e+00]\n",
      " [ 2.3014e+06  1.0000e+02  2.1336e+06  3.0000e+02]\n",
      " [ 2.3183e+06  1.0000e+02  2.1326e+06  1.0000e+02]\n",
      " [ 2.3185e+06  3.0000e+02  2.1009e+06  5.0000e+01]\n",
      " [ 2.3300e+06  5.0000e+01  2.1000e+06  5.0000e+01]\n",
      " [ 2.3400e+06  5.0000e+01  2.0960e+06  1.5000e+01]\n",
      " [ 2.3443e+06  5.0000e+00  2.0882e+06  1.0000e+02]\n",
      " [ 2.3629e+06  1.0000e+02  2.0780e+06  3.0000e+02]\n",
      " [ 2.3642e+06  6.0000e+01  2.0669e+06  1.0000e+02]\n",
      " [ 2.3743e+06  3.0000e+02  2.0500e+06  7.5000e+01]\n",
      " [ 2.3849e+06  1.0000e+02  2.0300e+06  1.0000e+01]\n",
      " [ 2.4000e+06  1.3200e+02  2.0000e+06  1.6000e+02]\n",
      " [ 2.4090e+06  1.0000e+01  1.9800e+06  2.5000e+01]\n",
      " [ 2.4500e+06  5.0000e+00  1.9300e+06  1.5000e+01]\n",
      " [ 2.4777e+06  1.7000e+01  1.9050e+06  5.0000e+01]\n",
      " [ 2.5000e+06  1.2500e+02  1.9010e+06  5.0000e+00]\n",
      " [ 2.5017e+06  2.5000e+01  1.8702e+06  2.0000e+02]\n",
      " [ 2.5800e+06  1.0100e+02  1.8381e+06  1.0000e+02]\n",
      " [ 2.5857e+06  2.0000e+02  1.8279e+06  1.0000e+02]\n",
      " [-1.0000e+00  0.0000e+00 -1.0000e+00  0.0000e+00]]\n",
      "[[      0       0       0       0]\n",
      " [      0       0       0       0]\n",
      " [      0       0       0       0]\n",
      " [      0       0       0       0]\n",
      " [      0       0       0       0]\n",
      " [      0       0       0       0]\n",
      " [      0       0       0       0]\n",
      " [      0       0       0       0]\n",
      " [      0       0       0       0]\n",
      " [      0       0       0       0]\n",
      " [      0       0       0       0]\n",
      " [      0       0       0       0]\n",
      " [      0       0       0       0]\n",
      " [      0       0       0       0]\n",
      " [      0       0       0       0]\n",
      " [      0       0       0       0]\n",
      " [      0       0       0       0]\n",
      " [      0       0       0       0]\n",
      " [      0       0       0       0]\n",
      " [      0       0       0       0]\n",
      " [      0       0       0       0]\n",
      " [      0       0       0       0]\n",
      " [      0       0       0       0]\n",
      " [      0       0       0       0]\n",
      " [      0       0       0       0]\n",
      " [      0       0       0       0]\n",
      " [      0       0       0       0]\n",
      " [      0       0       0       0]\n",
      " [      0       0       0       0]\n",
      " [      0       0       0       0]\n",
      " [      0       0       0       0]\n",
      " [      0       0       0       0]\n",
      " [      0       0       0       0]\n",
      " [      0       0       0       0]\n",
      " [      0       0       0       0]\n",
      " [      0       0       0       0]\n",
      " [      0       0       0       0]\n",
      " [      0       0       0       0]\n",
      " [      0       0       0       0]\n",
      " [      0       0       0       0]\n",
      " [      0       0       0       0]\n",
      " [      0       0       0       0]\n",
      " [      0       0       0       0]\n",
      " [      0       0       0       0]\n",
      " [      0       0       0       0]\n",
      " [      0       0       0       0]\n",
      " [      0       0       0       0]\n",
      " [      0       0       0       0]\n",
      " [      0       0       0       0]\n",
      " [2600001      13 1803301     100]]\n"
     ]
    }
   ],
   "source": [
    "print(cpuOB[:50,:])\n",
    "print(myOB.reshape(50,4))\n",
    "print((cpuOB[:50,:]-myOB.reshape(50,4).astype('int32')))"
   ]
  },
  {
   "cell_type": "code",
   "execution_count": null,
   "id": "fbada01e",
   "metadata": {},
   "outputs": [],
   "source": []
  },
  {
   "cell_type": "code",
   "execution_count": null,
   "id": "843b8792",
   "metadata": {},
   "outputs": [],
   "source": []
  },
  {
   "cell_type": "code",
   "execution_count": null,
   "id": "828218ed",
   "metadata": {},
   "outputs": [],
   "source": []
  }
 ],
 "metadata": {
  "kernelspec": {
   "display_name": "Python 3.10.5 64-bit ('project-RL4ABM': venv)",
   "language": "python",
   "name": "python3105jvsc74a57bd0fe8764737fd002e5c238d058ac040ae3d087631310ec561041f7cdd5a6f98401"
  },
  "language_info": {
   "codemirror_mode": {
    "name": "ipython",
    "version": 3
   },
   "file_extension": ".py",
   "mimetype": "text/x-python",
   "name": "python",
   "nbconvert_exporter": "python",
   "pygments_lexer": "ipython3",
   "version": "3.10.5"
  }
 },
 "nbformat": 4,
 "nbformat_minor": 5
}
