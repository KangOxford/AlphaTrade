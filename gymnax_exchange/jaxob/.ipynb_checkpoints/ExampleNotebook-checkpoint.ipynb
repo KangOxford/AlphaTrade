{
 "cells": [
  {
   "cell_type": "code",
   "execution_count": 1,
   "id": "d99bcef1",
   "metadata": {},
   "outputs": [],
   "source": [
    "#System and standard inputs\n",
    "import sys\n",
    "import importlib\n",
    "import timeit\n",
    "import collections\n",
    "\n",
    "#Adding correct paths to custom modules\n",
    "sys.path.append('/Users/sasrey/AlphaTrade/gym_exchange')\n",
    "sys.path.append('/Users/sasrey/AlphaTrade')\n",
    "sys.path.append('/Users/sasrey/AlphaTrade/gymnax_exchange')"
   ]
  },
  {
   "cell_type": "code",
   "execution_count": 2,
   "id": "3147fe9e",
   "metadata": {},
   "outputs": [],
   "source": [
    "#Relevant Jax Imports\n",
    "import jax.numpy as jnp\n",
    "from jax import lax\n",
    "import jax"
   ]
  },
  {
   "cell_type": "code",
   "execution_count": 369,
   "id": "29a0a122",
   "metadata": {},
   "outputs": [],
   "source": [
    "#Direct Import of the Orderbook functions \n",
    "import jaxob.JaxOrderbook as job \n",
    "#OrderBook class import as written by Kang\n",
    "import jorderbook\n",
    "importlib.reload(jorderbook)\n",
    "from orderbook import OrderBook as cpuOrderBook\n",
    "#Import (and reload for debugging) of the OrderBook class with jax backend (SF) should behave in the same way.\n",
    "import jorderbook\n",
    "importlib.reload(jorderbook)\n",
    "from jorderbook import OrderBook as JaxOrderBook\n",
    "\n",
    "#Import Data Mgt and Encoding/Decoding tools\n",
    "#(The aim of these is to adjust for the case where no message is received but data ends up in the L2 data)\n",
    "import gym_exchange.data_orderbook_adapter.data_pipeline as dpl\n",
    "from gym_exchange.data_orderbook_adapter.decoder import Decoder\n",
    "from gym_exchange.data_orderbook_adapter.encoder import Encoder"
   ]
  },
  {
   "cell_type": "code",
   "execution_count": null,
   "id": "c4ee145f",
   "metadata": {},
   "outputs": [],
   "source": [
    "#Attempt at using the data pipeline tools and the encoder/decoder, doesn't really work well. \n",
    "\n",
    "dplOBJ=dpl.DataPipeline()\n",
    "decodeddata=Decoder(10,40,dplOBJ.historical_data,dplOBJ.data_loader)\n",
    "#Decoder Functionality: Takes the message data (dataloader) and the orderbook data (historical data).\n",
    "#Creates and maintains an orderbook as implemented in the CPU version.\n",
    "#Creates and maintains a \"DataAdjuster\" object, which considers the historical data (orderbook) to be the \"true\" state\n",
    "#Inits the orderbook with the first state in the orderbook data (hist) gives imaginary list of IDs to the orders created:\n",
    "#            each entry in the orderbook is considered to be from a single order. \n",
    "output=decodeddata.process()\n",
    "#Process function for Decoder: goes through N (horizon) messages to ascertain whether there are adidtional messages to consider. \n",
    "\n",
    "enc=Encoder(decodeddata)\n",
    "#enc()"
   ]
  },
  {
   "cell_type": "code",
   "execution_count": 245,
   "id": "b5cfed55",
   "metadata": {},
   "outputs": [],
   "source": [
    "import pandas as pd\n",
    "df_msg = pd.read_csv(\"/Users/sasrey/AlphaTrade/data/TSLA_2015-01-02_34200000_57600000_message_50.csv\", header=None)\n",
    "df_ob = pd.read_csv(\"/Users/sasrey/AlphaTrade/data/TSLA_2015-01-02_34200000_57600000_orderbook_50.csv\", header=None)\n",
    "orderbookLevels=50"
   ]
  },
  {
   "cell_type": "code",
   "execution_count": 248,
   "id": "b27f08fd",
   "metadata": {},
   "outputs": [
    {
     "name": "stdout",
     "output_type": "stream",
     "text": [
      "(290737, 7)\n"
     ]
    }
   ],
   "source": [
    "\n",
    "\n",
    "data=jnp.array(df_ob.iloc[0,:]).reshape(int(orderbookLevels*2),2)\n",
    "newarr=jnp.zeros((int(orderbookLevels*2),7))\n",
    "initOB=newarr.at[:,3].set(data[:,0]).at[:,2].set(data[:,1]).at[:,0].set(1).at[0:orderbookLevels*4:2,1].set(-1).at[1:orderbookLevels*4:2,1].set(1).at[:,4].set(0).at[:,5].set(job.INITID).at[:,6].set(34200.00000000)\n",
    "\n",
    "\n",
    "df_orders=df_msg.rename(columns={1:'Type',5:'Side',3:'Quantity',4:'Price',2:'OrderID',0:'Time'})\n",
    "df_orders['TradeID']=0\n",
    "col_order=['Type','Side','Quantity','Price','TradeID','OrderID','Time']\n",
    "df_orders=df_orders[col_order]\n",
    "df_orders_simple=df_orders[(df_orders['Type']!=6)&(df_orders['Type']!=7)&(df_orders['Type']!=5)]\n",
    "\n",
    "ordersJNP=jnp.array(df_orders)\n",
    "print(ordersJNP.shape)"
   ]
  },
  {
   "cell_type": "code",
   "execution_count": 257,
   "id": "6e3315e6",
   "metadata": {},
   "outputs": [],
   "source": [
    "horizon=200\n",
    "\n",
    "orderbook=JaxOrderBook(price_levels=50)\n",
    "trades_init=orderbook.process_orders_array(initOB)\n",
    "trades_msgs=orderbook.process_orders_array(ordersJNP[0:horizon])"
   ]
  },
  {
   "cell_type": "code",
   "execution_count": 259,
   "id": "09bea80c",
   "metadata": {},
   "outputs": [
    {
     "data": {
      "text/plain": [
       "Array([ 0.000e+00,  0.000e+00,  0.000e+00,  0.000e+00,  0.000e+00,\n",
       "        0.000e+00,  0.000e+00,  0.000e+00,  0.000e+00,  0.000e+00,\n",
       "        0.000e+00,  0.000e+00,  0.000e+00,  0.000e+00,  0.000e+00,\n",
       "        0.000e+00,  0.000e+00,  0.000e+00,  0.000e+00,  0.000e+00,\n",
       "        0.000e+00,  0.000e+00,  0.000e+00,  0.000e+00,  0.000e+00,\n",
       "        0.000e+00,  0.000e+00,  0.000e+00,  0.000e+00,  0.000e+00,\n",
       "        0.000e+00,  0.000e+00,  0.000e+00,  0.000e+00,  0.000e+00,\n",
       "        0.000e+00,  0.000e+00,  0.000e+00,  0.000e+00,  0.000e+00,\n",
       "        0.000e+00,  0.000e+00,  0.000e+00,  0.000e+00,  0.000e+00,\n",
       "        0.000e+00,  0.000e+00,  0.000e+00,  0.000e+00,  0.000e+00,\n",
       "        0.000e+00,  0.000e+00,  0.000e+00,  2.480e+02,  0.000e+00,\n",
       "        0.000e+00,  0.000e+00,  0.000e+00,  0.000e+00,  0.000e+00,\n",
       "        0.000e+00,  0.000e+00,  0.000e+00,  0.000e+00,  0.000e+00,\n",
       "        0.000e+00,  0.000e+00,  0.000e+00,  0.000e+00,  0.000e+00,\n",
       "        0.000e+00,  6.200e+02,  0.000e+00,  0.000e+00,  0.000e+00,\n",
       "        0.000e+00,  0.000e+00,  0.000e+00,  0.000e+00,  0.000e+00,\n",
       "        0.000e+00,  0.000e+00,  0.000e+00,  0.000e+00,  0.000e+00,\n",
       "        0.000e+00,  0.000e+00,  0.000e+00, -3.000e+02, -5.800e+02,\n",
       "        0.000e+00,  0.000e+00, -1.000e+03,  5.280e+02,  0.000e+00,\n",
       "        0.000e+00, -1.000e+02, -1.280e+02,  0.000e+00,  0.000e+00,\n",
       "       -1.000e+02, -2.800e+02,  0.000e+00,  0.000e+00, -9.000e+02,\n",
       "        4.700e+02,  0.000e+00,  0.000e+00, -1.000e+02, -1.535e+03,\n",
       "        0.000e+00,  0.000e+00, -1.900e+03,  2.198e+03,  0.000e+00,\n",
       "        0.000e+00, -8.000e+02,  1.300e+01,  0.000e+00,  0.000e+00,\n",
       "       -2.200e+03,  6.000e+00,  0.000e+00,  0.000e+00, -4.000e+03,\n",
       "       -8.960e+02,  0.000e+00,  0.000e+00, -1.100e+03,  8.800e+02,\n",
       "        0.000e+00,  0.000e+00, -1.000e+04, -1.080e+02,  0.000e+00,\n",
       "        0.000e+00, -4.400e+03,  7.500e+01,  0.000e+00,  0.000e+00,\n",
       "       -1.800e+03,  4.900e+01,  0.000e+00,  0.000e+00, -3.800e+03,\n",
       "       -7.400e+01,  0.000e+00,  0.000e+00, -9.000e+03, -2.500e+01,\n",
       "        0.000e+00,  0.000e+00, -1.000e+03, -5.900e+01,  0.000e+00,\n",
       "        0.000e+00, -1.400e+03,  5.900e+01,  0.000e+00,  0.000e+00,\n",
       "       -6.300e+03,  9.000e+01,  0.000e+00,  0.000e+00, -2.300e+03,\n",
       "       -1.000e+02,  0.000e+00,  0.000e+00, -8.300e+03,  1.000e+01,\n",
       "        0.000e+00,  0.000e+00, -2.000e+02, -2.000e+02,  0.000e+00,\n",
       "        0.000e+00, -1.500e+03,  1.400e+02,  0.000e+00,  0.000e+00,\n",
       "       -1.100e+03,  1.590e+02,  0.000e+00,  0.000e+00, -8.900e+03,\n",
       "       -6.400e+01,  0.000e+00,  0.000e+00, -1.000e+04, -1.200e+01,\n",
       "        0.000e+00,  0.000e+00, -4.300e+03,  7.200e+01,  0.000e+00,\n",
       "        0.000e+00, -5.000e+02, -9.500e+01,  0.000e+00,  0.000e+00],      dtype=float32)"
      ]
     },
     "execution_count": 259,
     "metadata": {},
     "output_type": "execute_result"
    }
   ],
   "source": [
    "myOB=orderbook.get_L2_state()\n",
    "L2OB=jnp.array(df_ob.iloc[horizon-1]).astype(float)\n",
    "L2OB-myOB"
   ]
  },
  {
   "cell_type": "markdown",
   "id": "6c853561",
   "metadata": {},
   "source": [
    "## Load the original orderbook implementation on the CPU"
   ]
  },
  {
   "cell_type": "code",
   "execution_count": 370,
   "id": "6bb3e1b2",
   "metadata": {},
   "outputs": [],
   "source": [
    "orderbook_2=cpuOrderBook()"
   ]
  },
  {
   "cell_type": "code",
   "execution_count": 371,
   "id": "3c26f058",
   "metadata": {},
   "outputs": [],
   "source": [
    "limit_orders = []\n",
    "order_id_list = [15000000 + i for i in range(20)]\n",
    "for i in range(10):\n",
    "    trade_id = 10086\n",
    "    # timestamp = datetime(34200.000000001)\n",
    "    timestamp = str(34200.000000001)\n",
    "    item = {'type' : 'limit', \n",
    "        'side' : 'ask', \n",
    "          'quantity' : df_ob.iloc[0,4* i + 1], \n",
    "          'price' : df_ob.iloc[0,4*i],\n",
    "          'trade_id' : trade_id,\n",
    "          'order_id' : order_id_list[i],\n",
    "          \"timestamp\": timestamp}\n",
    "    limit_orders.append(item)\n",
    "    \n",
    "for i in range(10):\n",
    "    trade_id = 10087\n",
    "    # timestamp = datetime(34200.000000001)\n",
    "    timestamp = str(34200.000000001)\n",
    "    item = {'type' : 'limit', \n",
    "        'side' : 'bid', \n",
    "          'quantity' : df_ob.iloc[0,4* i + 3], \n",
    "          'price' : df_ob.iloc[0,4*i+2],\n",
    "          'trade_id' : trade_id,\n",
    "          'order_id' : order_id_list[i+10],\n",
    "          \"timestamp\": timestamp}\n",
    "    limit_orders.append(item)\n",
    "    \n",
    "# Add init orders to order book\n",
    "for order in limit_orders:\n",
    "    # breakpoint()\n",
    "    trades, order_id = orderbook_2.process_order(order, True, False)  "
   ]
  },
  {
   "cell_type": "code",
   "execution_count": 374,
   "id": "8ce20ed1",
   "metadata": {},
   "outputs": [
    {
     "name": "stdout",
     "output_type": "stream",
     "text": [
      "{'type': 5, 'side': 'bid', 'quantity': 13, 'price': 2228300, 'trade_id': 0, 'timestamp': '34200.00678936', 'order_id': 0}\n"
     ]
    }
   ],
   "source": [
    "##Taken largely from the Example.py file in the orderbook repository for the cpu\n",
    "\n",
    "horizon=1\n",
    "for index in range(horizon):\n",
    "    l1 = df_msg.iloc[index,:]\n",
    "    ttype = l1[1] \n",
    "    side = 'bid' if l1[5] ==1 else 'ask'\n",
    "    quantity = l1[3]\n",
    "    price = l1[4]\n",
    "    trade_id = l1[2] # not sure, in the data it is order id\n",
    "    order_id = trade_id\n",
    "    timestamp = str(l1[0])\n",
    "    message = {'type': ttype,'side': side,'quantity': quantity,'price': price,'trade_id': trade_id, \"timestamp\":timestamp, 'order_id':order_id}\n",
    "    \n",
    "    \n",
    "    print(message)\n",
    "    orderbook_2.p\n",
    "\n",
    "        \n",
    "    "
   ]
  },
  {
   "cell_type": "code",
   "execution_count": 375,
   "id": "aa676fd6",
   "metadata": {},
   "outputs": [
    {
     "name": "stdout",
     "output_type": "stream",
     "text": [
      "====================================== Asks ======================================\n",
      "Quantity    40  |  Price  2257500  |  Order_ID   15000009  |  Time 34200.000000001\n",
      "Quantity    20  |  Price  2252500  |  Order_ID   15000008  |  Time 34200.000000001\n",
      "Quantity   100  |  Price  2250000  |  Order_ID   15000007  |  Time 34200.000000001\n",
      "Quantity    20  |  Price  2247500  |  Order_ID   15000006  |  Time 34200.000000001\n",
      "Quantity    20  |  Price  2242500  |  Order_ID   15000005  |  Time 34200.000000001\n",
      "Quantity   200  |  Price  2240000  |  Order_ID   15000004  |  Time 34200.000000001\n",
      "Quantity   100  |  Price  2237500  |  Order_ID   15000003  |  Time 34200.000000001\n",
      "Quantity   300  |  Price  2237200  |  Order_ID   15000002  |  Time 34200.000000001\n",
      "Quantity    50  |  Price  2234000  |  Order_ID   15000001  |  Time 34200.000000001\n",
      "Quantity  1507  |  Price  2229100  |  Order_ID   15000000  |  Time 34200.000000001\n",
      "\n",
      "\n",
      "Quantity   300  |  Price  2226400  |  Order_ID   15000010  |  Time 34200.000000001\n",
      "Quantity   200  |  Price  2222200  |  Order_ID   15000011  |  Time 34200.000000001\n",
      "Quantity   100  |  Price  2221500  |  Order_ID   15000012  |  Time 34200.000000001\n",
      "Quantity    20  |  Price  2221400  |  Order_ID   15000013  |  Time 34200.000000001\n",
      "Quantity    14  |  Price  2221000  |  Order_ID   15000014  |  Time 34200.000000001\n",
      "Quantity    20  |  Price  2218300  |  Order_ID   15000015  |  Time 34200.000000001\n",
      "Quantity   100  |  Price  2210000  |  Order_ID   15000016  |  Time 34200.000000001\n",
      "Quantity   100  |  Price  2203200  |  Order_ID   15000017  |  Time 34200.000000001\n",
      "Quantity    97  |  Price  2200000  |  Order_ID   15000018  |  Time 34200.000000001\n",
      "Quantity    50  |  Price  2190000  |  Order_ID   15000019  |  Time 34200.000000001\n",
      "====================================== Bids ======================================\n",
      "\n",
      "\n"
     ]
    }
   ],
   "source": [
    "print(orderbook_2)"
   ]
  },
  {
   "cell_type": "code",
   "execution_count": null,
   "id": "6719bc9c",
   "metadata": {},
   "outputs": [],
   "source": []
  }
 ],
 "metadata": {
  "kernelspec": {
   "display_name": "Python 3.10.5 64-bit ('project-RL4ABM': venv)",
   "language": "python",
   "name": "python3105jvsc74a57bd0fe8764737fd002e5c238d058ac040ae3d087631310ec561041f7cdd5a6f98401"
  },
  "language_info": {
   "codemirror_mode": {
    "name": "ipython",
    "version": 3
   },
   "file_extension": ".py",
   "mimetype": "text/x-python",
   "name": "python",
   "nbconvert_exporter": "python",
   "pygments_lexer": "ipython3",
   "version": "3.10.5"
  }
 },
 "nbformat": 4,
 "nbformat_minor": 5
}
