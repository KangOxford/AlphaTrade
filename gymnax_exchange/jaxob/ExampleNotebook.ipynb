{
 "cells": [
  {
   "cell_type": "code",
   "execution_count": 1,
   "id": "d99bcef1",
   "metadata": {},
   "outputs": [],
   "source": [
    "#System and standard inputs\n",
    "import sys\n",
    "import importlib\n",
    "import timeit\n",
    "import collections\n",
    "\n",
    "#Adding correct paths to custom modules\n",
    "sys.path.append('/Users/sasrey/AlphaTrade/gym_exchange')\n",
    "sys.path.append('/Users/sasrey/AlphaTrade')\n",
    "sys.path.append('/Users/sasrey/AlphaTrade/gymnax_exchange')"
   ]
  },
  {
   "cell_type": "code",
   "execution_count": 2,
   "id": "3147fe9e",
   "metadata": {},
   "outputs": [],
   "source": [
    "#Relevant Jax Imports\n",
    "import jax.numpy as jnp\n",
    "from jax import lax\n",
    "import jax"
   ]
  },
  {
   "cell_type": "code",
   "execution_count": 134,
   "id": "29a0a122",
   "metadata": {},
   "outputs": [],
   "source": [
    "#Direct Import of the Orderbook functions \n",
    "import jaxob.JaxOrderbook as job \n",
    "#OrderBook class import as written by Kang\n",
    "from orderbook import OrderBook as cpuOrderBook\n",
    "#Import (and reload for debugging) of the OrderBook class with jax backend (SF) should behave in the same way.\n",
    "import jorderbook\n",
    "importlib.reload(jorderbook)\n",
    "from jorderbook import OrderBook as JaxOrderBook\n",
    "\n",
    "#Import Data Mgt and Encoding/Decoding tools\n",
    "#(The aim of these is to adjust for the case where no message is received but data ends up in the L2 data)\n",
    "import gym_exchange.data_orderbook_adapter.data_pipeline as dpl\n",
    "from gym_exchange.data_orderbook_adapter.decoder import Decoder\n",
    "from gym_exchange.data_orderbook_adapter.encoder import Encoder"
   ]
  },
  {
   "cell_type": "code",
   "execution_count": null,
   "id": "c4ee145f",
   "metadata": {},
   "outputs": [],
   "source": [
    "#Attempt at using the data pipeline tools and the encoder/decoder, doesn't really work well. \n",
    "\n",
    "dplOBJ=dpl.DataPipeline()\n",
    "decodeddata=Decoder(10,40,dplOBJ.historical_data,dplOBJ.data_loader)\n",
    "#Decoder Functionality: Takes the message data (dataloader) and the orderbook data (historical data).\n",
    "#Creates and maintains an orderbook as implemented in the CPU version.\n",
    "#Creates and maintains a \"DataAdjuster\" object, which considers the historical data (orderbook) to be the \"true\" state\n",
    "#Inits the orderbook with the first state in the orderbook data (hist) gives imaginary list of IDs to the orders created:\n",
    "#            each entry in the orderbook is considered to be from a single order. \n",
    "output=decodeddata.process()\n",
    "#Process function for Decoder: goes through N (horizon) messages to ascertain whether there are adidtional messages to consider. \n",
    "\n",
    "enc=Encoder(decodeddata)\n",
    "#enc()"
   ]
  },
  {
   "cell_type": "code",
   "execution_count": 245,
   "id": "b5cfed55",
   "metadata": {},
   "outputs": [],
   "source": [
    "import pandas as pd\n",
    "df_msg = pd.read_csv(\"/Users/sasrey/AlphaTrade/data/TSLA_2015-01-02_34200000_57600000_message_50.csv\", header=None)\n",
    "df_ob = pd.read_csv(\"/Users/sasrey/AlphaTrade/data/TSLA_2015-01-02_34200000_57600000_orderbook_50.csv\", header=None)\n",
    "orderbookLevels=50"
   ]
  },
  {
   "cell_type": "code",
   "execution_count": 248,
   "id": "b27f08fd",
   "metadata": {},
   "outputs": [
    {
     "name": "stdout",
     "output_type": "stream",
     "text": [
      "(290737, 7)\n"
     ]
    }
   ],
   "source": [
    "\n",
    "\n",
    "data=jnp.array(df_ob.iloc[0,:]).reshape(int(orderbookLevels*2),2)\n",
    "newarr=jnp.zeros((int(orderbookLevels*2),7))\n",
    "initOB=newarr.at[:,3].set(data[:,0]).at[:,2].set(data[:,1]).at[:,0].set(1).at[0:orderbookLevels*4:2,1].set(-1).at[1:orderbookLevels*4:2,1].set(1).at[:,4].set(0).at[:,5].set(job.INITID).at[:,6].set(34200.00000000)\n",
    "\n",
    "\n",
    "df_orders=df_msg.rename(columns={1:'Type',5:'Side',3:'Quantity',4:'Price',2:'OrderID',0:'Time'})\n",
    "df_orders['TradeID']=0\n",
    "col_order=['Type','Side','Quantity','Price','TradeID','OrderID','Time']\n",
    "df_orders=df_orders[col_order]\n",
    "df_orders_simple=df_orders[(df_orders['Type']!=6)&(df_orders['Type']!=7)&(df_orders['Type']!=5)]\n",
    "\n",
    "ordersJNP=jnp.array(df_orders)\n",
    "print(ordersJNP.shape)"
   ]
  },
  {
   "cell_type": "code",
   "execution_count": 253,
   "id": "6e3315e6",
   "metadata": {},
   "outputs": [],
   "source": [
    "orderbook=JaxOrderBook(price_levels=50)\n",
    "trades_init=orderbook.process_orders_array(initOB)\n",
    "trades_msgs=orderbook.process_orders_array(ordersJNP[0:200])"
   ]
  },
  {
   "cell_type": "code",
   "execution_count": 254,
   "id": "09bea80c",
   "metadata": {},
   "outputs": [
    {
     "data": {
      "text/plain": [
       "Array([2.2291e+06, 1.5070e+03, 2.2260e+06, 2.0000e+02, 2.2300e+06,\n",
       "       2.6000e+01, 2.2259e+06, 1.0000e+02, 2.2335e+06, 2.3000e+01,\n",
       "       2.2251e+06, 2.8000e+01, 2.2340e+06, 5.0000e+01, 2.2250e+06,\n",
       "       9.7900e+02, 2.2350e+06, 3.9000e+02, 2.2249e+06, 8.0000e+00,\n",
       "       2.2368e+06, 1.0000e+02, 2.2245e+06, 1.7000e+01, 2.2375e+06,\n",
       "       1.0000e+02, 2.2244e+06, 2.0000e+00, 2.2400e+06, 2.5000e+02,\n",
       "       2.2241e+06, 2.6500e+02, 2.2410e+06, 1.0000e+02, 2.2240e+06,\n",
       "       4.2000e+01, 2.2425e+06, 2.0000e+01, 2.2222e+06, 1.0000e+00,\n",
       "       2.2475e+06, 2.0000e+01, 2.2221e+06, 1.0000e+01, 2.2481e+06,\n",
       "       5.0000e+01, 2.2220e+06, 6.0000e+00, 2.2495e+06, 1.0300e+02,\n",
       "       2.2217e+06, 1.5000e+01, 2.2500e+06, 5.7600e+02, 2.2215e+06,\n",
       "       2.0000e+02, 2.2510e+06, 1.0000e+02, 2.2214e+06, 2.0000e+01,\n",
       "       2.2524e+06, 4.0000e+02, 2.2210e+06, 1.4000e+01, 2.2525e+06,\n",
       "       4.5000e+01, 2.2207e+06, 1.0000e+02, 2.2539e+06, 1.0000e+02,\n",
       "       2.2200e+06, 7.6100e+02, 2.2545e+06, 1.0000e+01, 2.2198e+06,\n",
       "       3.0000e+00, 2.2550e+06, 4.9000e+01, 2.2183e+06, 2.0000e+01,\n",
       "       2.2560e+06, 1.0000e+02, 2.2180e+06, 2.0200e+02, 2.2569e+06,\n",
       "       1.0000e+02, 2.2176e+06, 1.0000e+02, 2.2578e+06, 6.0000e+02,\n",
       "       2.2168e+06, 1.0000e+00, 2.2588e+06, 7.2000e+01, 2.2163e+06,\n",
       "       8.5000e+01, 2.2589e+06, 2.0000e+02, 2.2159e+06, 4.6000e+01,\n",
       "       2.2590e+06, 4.8000e+02, 2.2150e+06, 1.3100e+02, 2.2599e+06,\n",
       "       1.0000e+01, 2.2144e+06, 1.0000e+02, 2.2600e+06, 1.5450e+03,\n",
       "       2.2143e+06, 1.0000e+02, 2.2619e+06, 2.0000e+01, 2.2140e+06,\n",
       "       4.0000e+01, 2.2627e+06, 7.0000e+00, 2.2125e+06, 7.0000e+00,\n",
       "       2.2649e+06, 1.0000e+00, 2.2123e+06, 1.0000e+02, 2.2689e+06,\n",
       "       8.9700e+02, 2.2119e+06, 1.0000e+02, 2.2700e+06, 1.7000e+01,\n",
       "       2.2101e+06, 2.0000e+01, 2.2800e+06, 1.2500e+02, 2.2100e+06,\n",
       "       1.5000e+02, 2.2844e+06, 5.0000e+01, 2.2068e+06, 1.0000e+02,\n",
       "       2.2862e+06, 1.0000e+00, 2.2032e+06, 1.0000e+02, 2.2900e+06,\n",
       "       7.5000e+01, 2.2015e+06, 2.0000e+02, 2.2990e+06, 1.0000e+02,\n",
       "       2.2000e+06, 1.9700e+02, 2.3000e+06, 1.5900e+02, 2.1951e+06,\n",
       "       1.3500e+02, 2.3014e+06, 1.0000e+02, 2.1907e+06, 5.0000e+01,\n",
       "       2.3077e+06, 1.0000e+01, 2.1900e+06, 5.0000e+01, 2.3100e+06,\n",
       "       1.1000e+02, 2.1851e+06, 1.0000e+00, 2.3183e+06, 1.0000e+02,\n",
       "       2.1827e+06, 7.0000e+00, 2.3185e+06, 3.0000e+02, 2.1800e+06,\n",
       "       4.0000e+00, 2.3200e+06, 1.6000e+02, 2.1783e+06, 3.0000e+00,\n",
       "       2.3211e+06, 1.0000e+00, 2.1750e+06, 1.0000e+02, 2.3300e+06,\n",
       "       6.5000e+01, 2.1675e+06, 4.0000e+01, 2.3400e+06, 7.7000e+01,\n",
       "       2.1600e+06, 1.0000e+00, 2.3443e+06, 5.0000e+00, 2.1532e+06,\n",
       "       1.0000e+02, 2.3448e+06, 1.0000e+02, 2.1518e+06, 1.0000e+00],      dtype=float32)"
      ]
     },
     "execution_count": 254,
     "metadata": {},
     "output_type": "execute_result"
    }
   ],
   "source": [
    "myOB=orderbook.get_L2_state()\n",
    "myOB"
   ]
  },
  {
   "cell_type": "code",
   "execution_count": 255,
   "id": "65f74356",
   "metadata": {},
   "outputs": [
    {
     "data": {
      "text/plain": [
       "Array([2.2291e+06, 1.5070e+03, 2.2260e+06, 2.0000e+02, 2.2300e+06,\n",
       "       2.6000e+01, 2.2259e+06, 1.0000e+02, 2.2335e+06, 2.3000e+01,\n",
       "       2.2251e+06, 2.8000e+01, 2.2340e+06, 5.0000e+01, 2.2250e+06,\n",
       "       9.7900e+02, 2.2350e+06, 3.9000e+02, 2.2249e+06, 8.0000e+00,\n",
       "       2.2368e+06, 1.0000e+02, 2.2245e+06, 1.7000e+01, 2.2375e+06,\n",
       "       1.0000e+02, 2.2244e+06, 2.0000e+00, 2.2400e+06, 2.5000e+02,\n",
       "       2.2241e+06, 2.6500e+02, 2.2410e+06, 1.0000e+02, 2.2240e+06,\n",
       "       4.2000e+01, 2.2425e+06, 2.0000e+01, 2.2222e+06, 1.0000e+00,\n",
       "       2.2475e+06, 2.0000e+01, 2.2221e+06, 1.0000e+01, 2.2481e+06,\n",
       "       5.0000e+01, 2.2220e+06, 6.0000e+00, 2.2495e+06, 1.0300e+02,\n",
       "       2.2217e+06, 1.5000e+01, 2.2500e+06, 8.2400e+02, 2.2215e+06,\n",
       "       2.0000e+02, 2.2510e+06, 1.0000e+02, 2.2214e+06, 2.0000e+01,\n",
       "       2.2524e+06, 4.0000e+02, 2.2210e+06, 1.4000e+01, 2.2525e+06,\n",
       "       4.5000e+01, 2.2207e+06, 1.0000e+02, 2.2539e+06, 1.0000e+02,\n",
       "       2.2200e+06, 1.3810e+03, 2.2545e+06, 1.0000e+01, 2.2198e+06,\n",
       "       3.0000e+00, 2.2550e+06, 4.9000e+01, 2.2183e+06, 2.0000e+01,\n",
       "       2.2560e+06, 1.0000e+02, 2.2180e+06, 2.0200e+02, 2.2569e+06,\n",
       "       1.0000e+02, 2.2176e+06, 1.0000e+02, 2.2575e+06, 2.0000e+01,\n",
       "       2.2168e+06, 1.0000e+00, 2.2578e+06, 6.0000e+02, 2.2163e+06,\n",
       "       8.5000e+01, 2.2588e+06, 7.2000e+01, 2.2159e+06, 4.6000e+01,\n",
       "       2.2589e+06, 2.0000e+02, 2.2150e+06, 1.3100e+02, 2.2590e+06,\n",
       "       4.8000e+02, 2.2144e+06, 1.0000e+02, 2.2599e+06, 1.0000e+01,\n",
       "       2.2143e+06, 1.0000e+02, 2.2600e+06, 2.2180e+03, 2.2140e+06,\n",
       "       4.0000e+01, 2.2619e+06, 2.0000e+01, 2.2125e+06, 7.0000e+00,\n",
       "       2.2627e+06, 7.0000e+00, 2.2123e+06, 1.0000e+02, 2.2649e+06,\n",
       "       1.0000e+00, 2.2119e+06, 1.0000e+02, 2.2689e+06, 8.9700e+02,\n",
       "       2.2101e+06, 2.0000e+01, 2.2700e+06, 1.7000e+01, 2.2100e+06,\n",
       "       1.5000e+02, 2.2800e+06, 1.2500e+02, 2.2068e+06, 1.0000e+02,\n",
       "       2.2844e+06, 5.0000e+01, 2.2032e+06, 1.0000e+02, 2.2862e+06,\n",
       "       1.0000e+00, 2.2015e+06, 2.0000e+02, 2.2900e+06, 7.5000e+01,\n",
       "       2.2000e+06, 1.9700e+02, 2.2990e+06, 1.0000e+02, 2.1951e+06,\n",
       "       1.3500e+02, 2.3000e+06, 1.5900e+02, 2.1907e+06, 5.0000e+01,\n",
       "       2.3014e+06, 1.0000e+02, 2.1900e+06, 5.0000e+01, 2.3077e+06,\n",
       "       1.0000e+01, 2.1851e+06, 1.0000e+00, 2.3100e+06, 1.1000e+02,\n",
       "       2.1827e+06, 7.0000e+00, 2.3183e+06, 1.0000e+02, 2.1800e+06,\n",
       "       4.0000e+00, 2.3185e+06, 3.0000e+02, 2.1783e+06, 3.0000e+00,\n",
       "       2.3200e+06, 1.6000e+02, 2.1750e+06, 1.0000e+02, 2.3211e+06,\n",
       "       1.0000e+00, 2.1675e+06, 4.0000e+01, 2.3300e+06, 6.5000e+01,\n",
       "       2.1600e+06, 1.0000e+00, 2.3400e+06, 7.7000e+01, 2.1532e+06,\n",
       "       1.0000e+02, 2.3443e+06, 5.0000e+00, 2.1518e+06, 1.0000e+00],      dtype=float32)"
      ]
     },
     "execution_count": 255,
     "metadata": {},
     "output_type": "execute_result"
    }
   ],
   "source": [
    "L2OB=jnp.array(df_ob.iloc[199]).astype(float)\n",
    "L2OB"
   ]
  },
  {
   "cell_type": "code",
   "execution_count": 256,
   "id": "f7b0662b",
   "metadata": {},
   "outputs": [
    {
     "data": {
      "text/plain": [
       "Array([ 0.000e+00,  0.000e+00,  0.000e+00,  0.000e+00,  0.000e+00,\n",
       "        0.000e+00,  0.000e+00,  0.000e+00,  0.000e+00,  0.000e+00,\n",
       "        0.000e+00,  0.000e+00,  0.000e+00,  0.000e+00,  0.000e+00,\n",
       "        0.000e+00,  0.000e+00,  0.000e+00,  0.000e+00,  0.000e+00,\n",
       "        0.000e+00,  0.000e+00,  0.000e+00,  0.000e+00,  0.000e+00,\n",
       "        0.000e+00,  0.000e+00,  0.000e+00,  0.000e+00,  0.000e+00,\n",
       "        0.000e+00,  0.000e+00,  0.000e+00,  0.000e+00,  0.000e+00,\n",
       "        0.000e+00,  0.000e+00,  0.000e+00,  0.000e+00,  0.000e+00,\n",
       "        0.000e+00,  0.000e+00,  0.000e+00,  0.000e+00,  0.000e+00,\n",
       "        0.000e+00,  0.000e+00,  0.000e+00,  0.000e+00,  0.000e+00,\n",
       "        0.000e+00,  0.000e+00,  0.000e+00,  2.480e+02,  0.000e+00,\n",
       "        0.000e+00,  0.000e+00,  0.000e+00,  0.000e+00,  0.000e+00,\n",
       "        0.000e+00,  0.000e+00,  0.000e+00,  0.000e+00,  0.000e+00,\n",
       "        0.000e+00,  0.000e+00,  0.000e+00,  0.000e+00,  0.000e+00,\n",
       "        0.000e+00,  6.200e+02,  0.000e+00,  0.000e+00,  0.000e+00,\n",
       "        0.000e+00,  0.000e+00,  0.000e+00,  0.000e+00,  0.000e+00,\n",
       "        0.000e+00,  0.000e+00,  0.000e+00,  0.000e+00,  0.000e+00,\n",
       "        0.000e+00,  0.000e+00,  0.000e+00, -3.000e+02, -5.800e+02,\n",
       "        0.000e+00,  0.000e+00, -1.000e+03,  5.280e+02,  0.000e+00,\n",
       "        0.000e+00, -1.000e+02, -1.280e+02,  0.000e+00,  0.000e+00,\n",
       "       -1.000e+02, -2.800e+02,  0.000e+00,  0.000e+00, -9.000e+02,\n",
       "        4.700e+02,  0.000e+00,  0.000e+00, -1.000e+02, -1.535e+03,\n",
       "        0.000e+00,  0.000e+00, -1.900e+03,  2.198e+03,  0.000e+00,\n",
       "        0.000e+00, -8.000e+02,  1.300e+01,  0.000e+00,  0.000e+00,\n",
       "       -2.200e+03,  6.000e+00,  0.000e+00,  0.000e+00, -4.000e+03,\n",
       "       -8.960e+02,  0.000e+00,  0.000e+00, -1.100e+03,  8.800e+02,\n",
       "        0.000e+00,  0.000e+00, -1.000e+04, -1.080e+02,  0.000e+00,\n",
       "        0.000e+00, -4.400e+03,  7.500e+01,  0.000e+00,  0.000e+00,\n",
       "       -1.800e+03,  4.900e+01,  0.000e+00,  0.000e+00, -3.800e+03,\n",
       "       -7.400e+01,  0.000e+00,  0.000e+00, -9.000e+03, -2.500e+01,\n",
       "        0.000e+00,  0.000e+00, -1.000e+03, -5.900e+01,  0.000e+00,\n",
       "        0.000e+00, -1.400e+03,  5.900e+01,  0.000e+00,  0.000e+00,\n",
       "       -6.300e+03,  9.000e+01,  0.000e+00,  0.000e+00, -2.300e+03,\n",
       "       -1.000e+02,  0.000e+00,  0.000e+00, -8.300e+03,  1.000e+01,\n",
       "        0.000e+00,  0.000e+00, -2.000e+02, -2.000e+02,  0.000e+00,\n",
       "        0.000e+00, -1.500e+03,  1.400e+02,  0.000e+00,  0.000e+00,\n",
       "       -1.100e+03,  1.590e+02,  0.000e+00,  0.000e+00, -8.900e+03,\n",
       "       -6.400e+01,  0.000e+00,  0.000e+00, -1.000e+04, -1.200e+01,\n",
       "        0.000e+00,  0.000e+00, -4.300e+03,  7.200e+01,  0.000e+00,\n",
       "        0.000e+00, -5.000e+02, -9.500e+01,  0.000e+00,  0.000e+00],      dtype=float32)"
      ]
     },
     "execution_count": 256,
     "metadata": {},
     "output_type": "execute_result"
    }
   ],
   "source": [
    "L2OB-myOB"
   ]
  },
  {
   "cell_type": "code",
   "execution_count": null,
   "id": "9903b363",
   "metadata": {},
   "outputs": [],
   "source": []
  }
 ],
 "metadata": {
  "kernelspec": {
   "display_name": "Python 3.10.5 64-bit ('project-RL4ABM': venv)",
   "language": "python",
   "name": "python3105jvsc74a57bd0fe8764737fd002e5c238d058ac040ae3d087631310ec561041f7cdd5a6f98401"
  },
  "language_info": {
   "codemirror_mode": {
    "name": "ipython",
    "version": 3
   },
   "file_extension": ".py",
   "mimetype": "text/x-python",
   "name": "python",
   "nbconvert_exporter": "python",
   "pygments_lexer": "ipython3",
   "version": "3.10.5"
  }
 },
 "nbformat": 4,
 "nbformat_minor": 5
}
