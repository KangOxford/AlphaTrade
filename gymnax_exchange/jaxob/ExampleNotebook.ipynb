{
 "cells": [
  {
   "cell_type": "code",
   "execution_count": 1,
   "id": "d99bcef1",
   "metadata": {},
   "outputs": [],
   "source": [
    "#System and standard inputs\n",
    "import sys\n",
    "import importlib\n",
    "import timeit\n",
    "import time\n",
    "import collections\n",
    "\n",
    "#Adding correct paths to custom modules\n",
    "sys.path.append('/Users/sasrey/AlphaTrade/gym_exchange')\n",
    "sys.path.append('/Users/sasrey/AlphaTrade')\n",
    "sys.path.append('/Users/sasrey/AlphaTrade/gymnax_exchange')"
   ]
  },
  {
   "cell_type": "code",
   "execution_count": 2,
   "id": "3147fe9e",
   "metadata": {},
   "outputs": [],
   "source": [
    "#Relevant Jax Imports\n",
    "import jax.numpy as jnp\n",
    "from jax import lax\n",
    "import jax"
   ]
  },
  {
   "cell_type": "code",
   "execution_count": 3,
   "id": "29a0a122",
   "metadata": {},
   "outputs": [],
   "source": [
    "#Direct Import of the Orderbook functions \n",
    "import jaxob.JaxOrderbook as job \n",
    "job=importlib.reload(job)\n",
    "#OrderBook class import as written by Kang\n",
    "import orderbook.orderbook\n",
    "importlib.reload(orderbook.orderbook)\n",
    "from orderbook.orderbook import OrderBook as cpuOrderBook\n",
    "#Import (and reload for debugging) of the OrderBook class with jax backend (SF) should behave in the same way.\n",
    "import jorderbook\n",
    "importlib.reload(jorderbook)\n",
    "from jorderbook import OrderBook as JaxOrderBook\n",
    "\n",
    "#Import Data Mgt and Encoding/Decoding tools\n",
    "#(The aim of these is to adjust for the case where no message is received but data ends up in the L2 data)\n",
    "import gym_exchange.data_orderbook_adapter.data_pipeline as dpl\n",
    "from gym_exchange.data_orderbook_adapter.decoder import Decoder\n",
    "from gym_exchange.data_orderbook_adapter.encoder import Encoder"
   ]
  },
  {
   "cell_type": "markdown",
   "id": "784330bc",
   "metadata": {},
   "source": [
    "#Attempt at using the data pipeline tools and the encoder/decoder, doesn't really work well. \n",
    "\n",
    "dplOBJ=dpl.DataPipeline()\n",
    "decodeddata=Decoder(10,40,dplOBJ.historical_data,dplOBJ.data_loader)\n",
    "#Decoder Functionality: Takes the message data (dataloader) and the orderbook data (historical data).\n",
    "#Creates and maintains an orderbook as implemented in the CPU version.\n",
    "#Creates and maintains a \"DataAdjuster\" object, which considers the historical data (orderbook) to be the \"true\" state\n",
    "#Inits the orderbook with the first state in the orderbook data (hist) gives imaginary list of IDs to the orders created:\n",
    "#each entry in the orderbook is considered to be from a single order. \n",
    "output=decodeddata.process()\n",
    "#Process function for Decoder: goes through N (horizon) messages to ascertain whether there are adidtional messages to consider. \n",
    "\n",
    "enc=Encoder(decodeddata)\n",
    "#enc()"
   ]
  },
  {
   "cell_type": "code",
   "execution_count": 4,
   "id": "b5cfed55",
   "metadata": {},
   "outputs": [],
   "source": [
    "import pandas as pd\n",
    "df_msg = pd.read_csv(\"/Users/sasrey/AlphaTrade/data/TSLA_2015-01-02_34200000_57600000_message_50.csv\", header=None)\n",
    "df_ob = pd.read_csv(\"/Users/sasrey/AlphaTrade/data/TSLA_2015-01-02_34200000_57600000_orderbook_50.csv\", header=None)\n",
    "orderbookLevels=50\n",
    "df_orders=df_msg.rename(columns={1:'Type',5:'Side',3:'Quantity',4:'Price',2:'OrderID',0:'Time'})"
   ]
  },
  {
   "cell_type": "code",
   "execution_count": 5,
   "id": "b27f08fd",
   "metadata": {},
   "outputs": [],
   "source": [
    "data=jnp.array(df_ob.iloc[0,:]).reshape(int(orderbookLevels*2),2) ##Careful - converts to int32 in jnp array, meaning the filler values get truncated.\n",
    "newarr=jnp.zeros((int(orderbookLevels*2),8))\n",
    "initOB=newarr.at[:,3].set(data[:,0]).at[:,2].set(data[:,1]).at[:,0].set(1).at[0:orderbookLevels*4:2,1].set(-1).at[1:orderbookLevels*4:2,1].set(1).at[:,4].set(0).at[:,5].set(job.INITID).at[:,6].set(34200).at[:,7].set(0).astype('int32')\n",
    "\n",
    "\n",
    "df_orders=df_msg.rename(columns={1:'Type',5:'Side',3:'Quantity',4:'Price',2:'OrderID',0:'Time'})\n",
    "df_orders['TradeID']=0\n",
    "col_order=['Type','Side','Quantity','Price','TradeID','OrderID','Time']\n",
    "df_orders=df_orders[col_order]\n",
    "df_orders_simple=df_orders[(df_orders['Type']!=6)&(df_orders['Type']!=7)&(df_orders['Type']!=5)]\n"
   ]
  },
  {
   "cell_type": "code",
   "execution_count": 6,
   "id": "1a97ce0a",
   "metadata": {},
   "outputs": [
    {
     "name": "stdout",
     "output_type": "stream",
     "text": [
      "(290737, 8)\n"
     ]
    }
   ],
   "source": [
    "test=df_orders[\"Time\"].astype('string').str.split('.',expand=True)\n",
    "df_orders[[\"TimeWhole\",\"TimeDec\"]]=test.astype('int32')#.rename(['TimeWhole','TimeDec'])\n",
    "df_orders=df_orders.drop(\"Time\",axis=1)\n",
    "ordersJNP=jnp.array(df_orders)\n",
    "print(ordersJNP.shape)"
   ]
  },
  {
   "cell_type": "code",
   "execution_count": null,
   "id": "6e3315e6",
   "metadata": {},
   "outputs": [],
   "source": [
    "horizon=12390\n",
    "\n",
    "orderbook_1=JaxOrderBook(price_levels=100,orderQueueLen=100)\n",
    "trades_init=orderbook_1.process_orders_array(initOB)\n",
    "t1=time.time()\n",
    "trades_msgs=orderbook_1.process_orders_array(ordersJNP[0:horizon]).block_until_ready()\n",
    "t2=time.time()\n",
    "#trades_msgs=orderbook_1.process_orders_array(ordersJNP[horizon-1:horizon])\n",
    "print(t2-t1)"
   ]
  },
  {
   "cell_type": "code",
   "execution_count": null,
   "id": "09bea80c",
   "metadata": {
    "scrolled": true
   },
   "outputs": [],
   "source": [
    "MINPRICE=-1.410065407e9\n",
    "myOB=orderbook_1.get_L2_state()\n",
    "L2OB=jnp.array(df_ob.iloc[horizon-1])\n",
    "L2OB=L2OB.at[L2OB==MINPRICE].set(-1)\n",
    "\n",
    "print(ordersJNP[horizon-1])\n",
    "print('#'*30+'JAX - L2 DATA LOB Difference for Horizon: '+ str(horizon)+' '+'#'*30)\n",
    "print((myOB.reshape(100,4)[0:50,:]-L2OB.reshape(50,4)))#L2OB#-myOB\n",
    "print('#'*30+'L2 DATA LOB for Horizon: '+ str(horizon)+' '+'#'*30)\n",
    "print(L2OB.reshape(50,4))\n",
    "print('#'*30+'JAX LOB for Horizon: '+ str(horizon)+' '+'#'*30)\n",
    "print(myOB.reshape(100,4)[:,:])\n"
   ]
  },
  {
   "cell_type": "code",
   "execution_count": null,
   "id": "f60c8334",
   "metadata": {},
   "outputs": [],
   "source": [
    "#Price: 2180000  Order ID: 1176519  Quant: 100 Type: Cancel"
   ]
  },
  {
   "cell_type": "markdown",
   "id": "6c853561",
   "metadata": {},
   "source": [
    "## Load the original orderbook implementation on the CPU"
   ]
  },
  {
   "cell_type": "code",
   "execution_count": null,
   "id": "6bb3e1b2",
   "metadata": {},
   "outputs": [],
   "source": [
    "orderbook_2=cpuOrderBook()"
   ]
  },
  {
   "cell_type": "code",
   "execution_count": null,
   "id": "3c26f058",
   "metadata": {},
   "outputs": [],
   "source": [
    "limit_orders = []\n",
    "order_id_list = [orderbook.orderbook.INITID + i for i in range(100)]\n",
    "for i in range(50):\n",
    "    trade_id = 10086\n",
    "    # timestamp = datetime(34200.000000001)\n",
    "    timestamp = str(34200.000000001)\n",
    "    item = {'type' : 'limit', \n",
    "        'side' : 'ask', \n",
    "          'quantity' : df_ob.iloc[0,4* i + 1], \n",
    "          'price' : df_ob.iloc[0,4*i],\n",
    "          'trade_id' : trade_id,\n",
    "          'order_id' : order_id_list[i],#orderbook.orderbook.INITID,\n",
    "          \"timestamp\": timestamp}\n",
    "    if item['quantity']>0:\n",
    "        limit_orders.append(item)\n",
    "    \n",
    "for i in range(50):\n",
    "    trade_id = 10087\n",
    "    # timestamp = datetime(34200.000000001)\n",
    "    timestamp = str(34200.000000001)\n",
    "    item = {'type' : 'limit', \n",
    "        'side' : 'bid', \n",
    "          'quantity' : df_ob.iloc[0,4* i + 3], \n",
    "          'price' : df_ob.iloc[0,4*i+2],\n",
    "          'trade_id' : trade_id,\n",
    "          'order_id' : order_id_list[i],#orderbook.orderbook.INITID,\n",
    "          \"timestamp\": timestamp}\n",
    "    if item['quantity']>0:\n",
    "        limit_orders.append(item)\n",
    "    \n",
    "# Add init orders to order book\n",
    "for order in limit_orders:\n",
    "    # breakpoint()\n",
    "    trades, order_id = orderbook_2.process_order(order, True, False)  "
   ]
  },
  {
   "cell_type": "code",
   "execution_count": null,
   "id": "8ce20ed1",
   "metadata": {
    "scrolled": true
   },
   "outputs": [],
   "source": [
    "##Taken largely from the Example.py file in the orderbook repository for the cpu\n",
    "\n",
    "t1=time.time()\n",
    "for index in range(horizon):\n",
    "    l1 = df_msg.iloc[index,:]\n",
    "    ttype = l1[1] \n",
    "    side = 'bid' if l1[5] ==1 else 'ask'\n",
    "    quantity = l1[3]\n",
    "    price = l1[4]\n",
    "    trade_id = l1[2] # not sure, in the data it is order id\n",
    "    order_id = trade_id\n",
    "    timestamp = str(l1[0])\n",
    "    message = {'type': ttype,'side': side,'quantity': quantity,'price': price,'trade_id': trade_id, \"timestamp\":timestamp, 'order_id':order_id}\n",
    "    orderbook_2.processOrder(message,True,False)\n",
    "\n",
    "t2=time.time()\n",
    "        \n",
    "print(message)"
   ]
  },
  {
   "cell_type": "code",
   "execution_count": null,
   "id": "a403c4c8",
   "metadata": {},
   "outputs": [],
   "source": [
    "t2-t1"
   ]
  },
  {
   "cell_type": "code",
   "execution_count": null,
   "id": "e26c86a7",
   "metadata": {},
   "outputs": [],
   "source": [
    "from itertools import zip_longest\n",
    "cpuOB=jnp.array(list(zip_longest(*orderbook_2.get_L2_state(), fillvalue=-1)))"
   ]
  },
  {
   "cell_type": "code",
   "execution_count": null,
   "id": "ac6cdb60",
   "metadata": {
    "scrolled": false
   },
   "outputs": [],
   "source": [
    "print('#'*30+'CPU - JAX LOB Difference for Horizon: '+ str(horizon)+' '+'#'*30)\n",
    "print((cpuOB[:50,:]-myOB.reshape(100,4)[0:50,:].astype('int32')))\n",
    "print('#'*30+'CPU LOB for Horizon: '+ str(horizon)+' '+'#'*30)\n",
    "print(cpuOB[:50,:])\n",
    "print('#'*30+'JAX LOB for Horizon: '+ str(horizon)+' '+'#'*30)\n",
    "print(myOB.reshape(100,4)[0:50,:])\n"
   ]
  },
  {
   "cell_type": "code",
   "execution_count": null,
   "id": "82384520",
   "metadata": {},
   "outputs": [],
   "source": []
  },
  {
   "cell_type": "code",
   "execution_count": null,
   "id": "ac225717",
   "metadata": {},
   "outputs": [],
   "source": []
  },
  {
   "cell_type": "code",
   "execution_count": null,
   "id": "53ed3a18",
   "metadata": {},
   "outputs": [],
   "source": []
  },
  {
   "cell_type": "code",
   "execution_count": null,
   "id": "017308e4",
   "metadata": {},
   "outputs": [],
   "source": []
  }
 ],
 "metadata": {
  "kernelspec": {
   "display_name": "Python 3.10.5 64-bit ('project-RL4ABM': venv)",
   "language": "python",
   "name": "python3105jvsc74a57bd0fe8764737fd002e5c238d058ac040ae3d087631310ec561041f7cdd5a6f98401"
  },
  "language_info": {
   "codemirror_mode": {
    "name": "ipython",
    "version": 3
   },
   "file_extension": ".py",
   "mimetype": "text/x-python",
   "name": "python",
   "nbconvert_exporter": "python",
   "pygments_lexer": "ipython3",
   "version": "3.10.5"
  }
 },
 "nbformat": 4,
 "nbformat_minor": 5
}
