{
 "cells": [
  {
   "cell_type": "code",
   "execution_count": 3,
   "metadata": {},
   "outputs": [],
   "source": [
    "import pandas as pd\n",
    "import numpy as np\n",
    "import matplotlib.pyplot as plt\n",
    "import time\n",
    "Flow = pd.read_csv(r\"Data/AMZN_2021-04-01_34200000_57600000_message_10.csv\")\n",
    "Book = pd.read_csv(r\"Data/AMZN_2021-04-01_34200000_57600000_orderbook_10.csv\")"
   ]
  },
  {
   "cell_type": "code",
   "execution_count": null,
   "metadata": {},
   "outputs": [],
   "source": [
    "\n",
    "for index in range(Book.shape[0]):\n",
    "    price = Book.iloc[index,[i%2==0 for i in range(Book.shape[1])]]/10000.0\n",
    "    quantity = Book.iloc[index,[i%2==1 for i in range(Book.shape[1])]]\n",
    "    # plt.bar(price, quantity)\n",
    "    # plt.step(price, quantity)\n",
    "    plt.show()\n",
    "    time.sleep(0.05)"
   ]
  },
  {
   "cell_type": "code",
   "execution_count": 29,
   "metadata": {},
   "outputs": [
    {
     "data": {
      "image/png": "[encoded data removed]",
      "text/plain": [
       "<Figure size 432x288 with 1 Axes>"
      ]
     },
     "metadata": {
      "needs_background": "light"
     },
     "output_type": "display_data"
    }
   ],
   "source": [
    "index = 0\n",
    "price = Book.iloc[index,[i%2==0 for i in range(Book.shape[1])]]/10000.0\n",
    "quantity = Book.iloc[index,[i%2==1 for i in range(Book.shape[1])]]\n",
    "sc = pd.Series(quantity.tolist(), index = price.tolist())\n",
    "df = sc.sort_index()\n",
    "plt.step(df.index.tolist(), df.values.tolist())\n",
    "plt.hlines(0,min(df.index.tolist()),max(df.index.tolist()),color=\"red\")\n",
    "plt.show()"
   ]
  },
  {
   "cell_type": "code",
   "execution_count": null,
   "metadata": {},
   "outputs": [],
   "source": [
    "from Exchange import *"
   ]
  },
  {
   "cell_type": "code",
   "execution_count": null,
   "metadata": {},
   "outputs": [],
   "source": [
    "Book.describe()"
   ]
  },
  {
   "cell_type": "code",
   "execution_count": null,
   "metadata": {},
   "outputs": [],
   "source": [
    "Book.shape"
   ]
  },
  {
   "cell_type": "code",
   "execution_count": null,
   "metadata": {},
   "outputs": [],
   "source": [
    "# Interface\n",
    "import exchange\n",
    "env = exchange.make()\n",
    "observation, info =  env.reset(return_info = True)\n",
    "for _ in range(1000):\n",
    "    action = policy(observation)\n",
    "    observation, reward, done, info = env.step(action)\n",
    "    if done:\n",
    "        observation, info = env.reset(return_info = True)\n",
    "env.close()"
   ]
  }
 ],
 "metadata": {
  "kernelspec": {
   "display_name": "Python 3.9.7 ('base')",
   "language": "python",
   "name": "python3"
  },
  "language_info": {
   "codemirror_mode": {
    "name": "ipython",
    "version": 3
   },
   "file_extension": ".py",
   "mimetype": "text/x-python",
   "name": "python",
   "nbconvert_exporter": "python",
   "pygments_lexer": "ipython3",
   "version": "3.9.7"
  },
  "orig_nbformat": 4,
  "vscode": {
   "interpreter": {
    "hash": "82d4886fb6e59a395e372f5676d3557afabb2f31b19195290422cf477a06d47f"
   }
  }
 },
 "nbformat": 4,
 "nbformat_minor": 2
}
