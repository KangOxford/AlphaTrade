{
 "cells": [
  {
   "cell_type": "code",
   "execution_count": 31,
   "metadata": {},
   "outputs": [],
   "source": [
    "from Exchange import *"
   ]
  },
  {
   "cell_type": "code",
   "execution_count": null,
   "metadata": {},
   "outputs": [],
   "source": [
    "# Interface\n",
    "import exchange\n",
    "env = exchange.make()\n",
    "observation, info =  env.reset(return_info = True)\n",
    "for _ in range(1000):\n",
    "    action = policy(observation)\n",
    "    observation, reward, done, info = env.step(action)\n",
    "    if done:\n",
    "        observation, info = env.reset(return_info = True)\n",
    "env.close()"
   ]
  },
  {
   "cell_type": "code",
   "execution_count": null,
   "metadata": {},
   "outputs": [],
   "source": [
    "import pandas as pd\n",
    "import numpy as np\n",
    "import matplotlib.pyplot as plt\n",
    "import time\n",
    "from matplotlib.pyplot import figure\n",
    "Flow = pd.read_csv(r\"Data/AMZN_2021-04-01_34200000_57600000_message_10.csv\")\n",
    "Book = pd.read_csv(r\"Data/AMZN_2021-04-01_34200000_57600000_orderbook_10.csv\")"
   ]
  },
  {
   "cell_type": "code",
   "execution_count": null,
   "metadata": {},
   "outputs": [],
   "source": [
    "picture_play_rate = 0.05\n",
    "for index in range(Book.shape[0]):\n",
    "    figure(figsize=(8, 6), dpi=80)\n",
    "    price = Book.iloc[index,[i%2==0 for i in range(Book.shape[1])]]/10000.0\n",
    "    quantity = Book.iloc[index,[i%2==1 for i in range(Book.shape[1])]]\n",
    "    sc = pd.Series(quantity.tolist(), index = price.tolist())\n",
    "    df = sc.sort_index()\n",
    "    plt.step(df.index.tolist(), df.values.tolist())\n",
    "    plt.hlines(0,min(df.index.tolist()),max(df.index.tolist()),color=\"red\")\n",
    "    plt.show()\n",
    "    time.sleep(picture_play_rate)"
   ]
  },
  {
   "cell_type": "code",
   "execution_count": null,
   "metadata": {},
   "outputs": [],
   "source": [
    "initial_order = (0, 3117.8, \"AAPL\", 20)\n",
    "exchange = Exchange(*initial_order)\n",
    "def slice(x):\n",
    "    if x==1:\n",
    "        return 'bid' \n",
    "    elif x==-1:\n",
    "        return 'ask'\n",
    "\n",
    "for index in range(Flow.shape[0]):\n",
    "    List = Flow.iloc[index,:].tolist()\n",
    "    if List[1]==1 and List[3]<=100 and (List[5]==1 or List[5]==-1):\n",
    "        Tuple = tuple(\n",
    "            (\n",
    "            str(List[2]), # ticket id \n",
    "            '1', # order type, List[1]\n",
    "            slice(List[5]),\n",
    "            List[4]/10000.0, # price\n",
    "            List[3], # quantity\n",
    "            # List[0], # order time\n",
    "            str(List[2]), # number\n",
    "            \"AMZN\" # stock code\n",
    "            )\n",
    "            )\n",
    "        order1= Order(*Tuple)\n",
    "        Time = str(List[0])\n",
    "        # if Tuple[2] == \"ask\":\n",
    "        #     price = exchange.process_order_A(Time,order1)\n",
    "        #     print(\">>> Excuting ask order at time: \", Time)\n",
    "        # elif Tuple[2] == \"bid\":\n",
    "        price = exchange.process_order_B(Time,order1)\n",
    "        print(\">>> Excuting bid order at time: \", Time)\n",
    "        print(\"Price:\",price)\n",
    "\n",
    "        bids = exchange.return_info()[2]\n",
    "        asks = exchange.return_info()[3]\n",
    "        Bids = pd.DataFrame(bids,columns=[\"price\",\"quantity\"])\n",
    "        Asks = pd.DataFrame(asks,columns=[\"price\",\"quantity\"])\n",
    "        New = pd.concat([Bids,Asks])\n",
    "        New.set_index(\"price\",inplace = True)\n",
    "        plt.step(New.index.tolist(), New.values.tolist())\n",
    "        plt.hlines(0,min(New.index.tolist()),max(New.index.tolist()),color=\"red\")\n",
    "        plt.show()\n",
    "\n",
    "        time.sleep(0.05)"
   ]
  },
  {
   "cell_type": "markdown",
   "metadata": {},
   "source": [
    "### The error comes from the ignore of the type3 order, which is the withdraw type.\n",
    "As a result, we need to consider from the trader perspecitive."
   ]
  },
  {
   "cell_type": "markdown",
   "metadata": {},
   "source": [
    "### Pre-process the order flow to handle with the withdraw type order."
   ]
  },
  {
   "cell_type": "code",
   "execution_count": null,
   "metadata": {},
   "outputs": [],
   "source": [
    "del_list = []\n",
    "buffer_len = 5\n",
    "for index in range(Flow.shape[0]):\n",
    "# index = 15 \n",
    "    List = Flow.iloc[index,:].tolist()\n",
    "    if List[1]==3:\n",
    "        for i in range(1,min(buffer_len,index-1)):\n",
    "            # print(\">>>Flow.iloc[index - i,2]\",Flow.iloc[index - i,2])\n",
    "            # print(\"List[2]\",List[2])\n",
    "            if Flow.iloc[index - i,2] == List[2]:\n",
    "                del_list.append((index, index-i))\n",
    "        print(\">>>Index = {0}, del_list:{1}\".format(index,len(del_list)))\n"
   ]
  },
  {
   "cell_type": "code",
   "execution_count": null,
   "metadata": {},
   "outputs": [],
   "source": []
  }
 ],
 "metadata": {
  "kernelspec": {
   "display_name": "Python 3.9.7 ('base')",
   "language": "python",
   "name": "python3"
  },
  "language_info": {
   "codemirror_mode": {
    "name": "ipython",
    "version": 3
   },
   "file_extension": ".py",
   "mimetype": "text/x-python",
   "name": "python",
   "nbconvert_exporter": "python",
   "pygments_lexer": "ipython3",
   "version": "3.9.7"
  },
  "orig_nbformat": 4,
  "vscode": {
   "interpreter": {
    "hash": "82d4886fb6e59a395e372f5676d3557afabb2f31b19195290422cf477a06d47f"
   }
  }
 },
 "nbformat": 4,
 "nbformat_minor": 2
}
