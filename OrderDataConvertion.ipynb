{
 "cells": [
  {
   "cell_type": "code",
   "execution_count": 2,
   "metadata": {},
   "outputs": [],
   "source": [
    "import pandas as pd\n",
    "import numpy as np\n"
   ]
  },
  {
   "cell_type": "code",
   "execution_count": 3,
   "metadata": {},
   "outputs": [
    {
     "name": "stdout",
     "output_type": "stream",
     "text": [
      "/Users/kang/GitHub/Dissertation\n"
     ]
    }
   ],
   "source": [
    "!pwd"
   ]
  },
  {
   "cell_type": "code",
   "execution_count": 3,
   "metadata": {},
   "outputs": [
    {
     "name": "stderr",
     "output_type": "stream",
     "text": [
      "/var/folders/wm/hz1dg7s12290bq4v0lkczywc0000gn/T/ipykernel_4959/3233786883.py:1: DtypeWarning: Columns (6) have mixed types. Specify dtype option on import or set low_memory=False.\n",
      "  df = pd.read_csv(r\"Data/AMZN_2021-04-01_34200000_57600000_message_10.csv\")\n"
     ]
    }
   ],
   "source": [
    "df = pd.read_csv(r\"Data/AMZN_2021-04-01_34200000_57600000_message_10.csv\")"
   ]
  },
  {
   "cell_type": "code",
   "execution_count": 4,
   "metadata": {},
   "outputs": [
    {
     "data": {
      "text/html": [
       "<div>\n",
       "<style scoped>\n",
       "    .dataframe tbody tr th:only-of-type {\n",
       "        vertical-align: middle;\n",
       "    }\n",
       "\n",
       "    .dataframe tbody tr th {\n",
       "        vertical-align: top;\n",
       "    }\n",
       "\n",
       "    .dataframe thead th {\n",
       "        text-align: right;\n",
       "    }\n",
       "</style>\n",
       "<table border=\"1\" class=\"dataframe\">\n",
       "  <thead>\n",
       "    <tr style=\"text-align: right;\">\n",
       "      <th></th>\n",
       "      <th>34200.000241945</th>\n",
       "      <th>4</th>\n",
       "      <th>15080205</th>\n",
       "      <th>7</th>\n",
       "      <th>31163800</th>\n",
       "      <th>-1</th>\n",
       "      <th>null</th>\n",
       "    </tr>\n",
       "  </thead>\n",
       "  <tbody>\n",
       "    <tr>\n",
       "      <th>0</th>\n",
       "      <td>34200.007415</td>\n",
       "      <td>5</td>\n",
       "      <td>0</td>\n",
       "      <td>48</td>\n",
       "      <td>31178000</td>\n",
       "      <td>1</td>\n",
       "      <td>NaN</td>\n",
       "    </tr>\n",
       "    <tr>\n",
       "      <th>1</th>\n",
       "      <td>34200.012480</td>\n",
       "      <td>3</td>\n",
       "      <td>15069985</td>\n",
       "      <td>48</td>\n",
       "      <td>31180100</td>\n",
       "      <td>-1</td>\n",
       "      <td>NaN</td>\n",
       "    </tr>\n",
       "    <tr>\n",
       "      <th>2</th>\n",
       "      <td>34200.029034</td>\n",
       "      <td>5</td>\n",
       "      <td>0</td>\n",
       "      <td>1</td>\n",
       "      <td>31178000</td>\n",
       "      <td>1</td>\n",
       "      <td>NaN</td>\n",
       "    </tr>\n",
       "    <tr>\n",
       "      <th>3</th>\n",
       "      <td>34200.047196</td>\n",
       "      <td>1</td>\n",
       "      <td>15122125</td>\n",
       "      <td>28</td>\n",
       "      <td>31155000</td>\n",
       "      <td>1</td>\n",
       "      <td>NaN</td>\n",
       "    </tr>\n",
       "    <tr>\n",
       "      <th>4</th>\n",
       "      <td>34200.131106</td>\n",
       "      <td>5</td>\n",
       "      <td>0</td>\n",
       "      <td>1</td>\n",
       "      <td>31178000</td>\n",
       "      <td>1</td>\n",
       "      <td>NaN</td>\n",
       "    </tr>\n",
       "    <tr>\n",
       "      <th>...</th>\n",
       "      <td>...</td>\n",
       "      <td>...</td>\n",
       "      <td>...</td>\n",
       "      <td>...</td>\n",
       "      <td>...</td>\n",
       "      <td>...</td>\n",
       "      <td>...</td>\n",
       "    </tr>\n",
       "    <tr>\n",
       "      <th>361119</th>\n",
       "      <td>57599.912692</td>\n",
       "      <td>3</td>\n",
       "      <td>405461561</td>\n",
       "      <td>7</td>\n",
       "      <td>31620000</td>\n",
       "      <td>-1</td>\n",
       "      <td>NaN</td>\n",
       "    </tr>\n",
       "    <tr>\n",
       "      <th>361120</th>\n",
       "      <td>57599.912692</td>\n",
       "      <td>1</td>\n",
       "      <td>405469365</td>\n",
       "      <td>7</td>\n",
       "      <td>31616900</td>\n",
       "      <td>-1</td>\n",
       "      <td>NaN</td>\n",
       "    </tr>\n",
       "    <tr>\n",
       "      <th>361121</th>\n",
       "      <td>57599.917400</td>\n",
       "      <td>5</td>\n",
       "      <td>0</td>\n",
       "      <td>7</td>\n",
       "      <td>31616400</td>\n",
       "      <td>1</td>\n",
       "      <td>NaN</td>\n",
       "    </tr>\n",
       "    <tr>\n",
       "      <th>361122</th>\n",
       "      <td>57599.937481</td>\n",
       "      <td>1</td>\n",
       "      <td>405470961</td>\n",
       "      <td>25</td>\n",
       "      <td>31610800</td>\n",
       "      <td>1</td>\n",
       "      <td>NaN</td>\n",
       "    </tr>\n",
       "    <tr>\n",
       "      <th>361123</th>\n",
       "      <td>57599.988850</td>\n",
       "      <td>1</td>\n",
       "      <td>405478845</td>\n",
       "      <td>339</td>\n",
       "      <td>31604400</td>\n",
       "      <td>1</td>\n",
       "      <td>NaN</td>\n",
       "    </tr>\n",
       "  </tbody>\n",
       "</table>\n",
       "<p>361124 rows × 7 columns</p>\n",
       "</div>"
      ],
      "text/plain": [
       "        34200.000241945  4   15080205    7  31163800  -1 null\n",
       "0          34200.007415  5          0   48  31178000   1  NaN\n",
       "1          34200.012480  3   15069985   48  31180100  -1  NaN\n",
       "2          34200.029034  5          0    1  31178000   1  NaN\n",
       "3          34200.047196  1   15122125   28  31155000   1  NaN\n",
       "4          34200.131106  5          0    1  31178000   1  NaN\n",
       "...                 ... ..        ...  ...       ...  ..  ...\n",
       "361119     57599.912692  3  405461561    7  31620000  -1  NaN\n",
       "361120     57599.912692  1  405469365    7  31616900  -1  NaN\n",
       "361121     57599.917400  5          0    7  31616400   1  NaN\n",
       "361122     57599.937481  1  405470961   25  31610800   1  NaN\n",
       "361123     57599.988850  1  405478845  339  31604400   1  NaN\n",
       "\n",
       "[361124 rows x 7 columns]"
      ]
     },
     "execution_count": 4,
     "metadata": {},
     "output_type": "execute_result"
    }
   ],
   "source": [
    "df"
   ]
  },
  {
   "cell_type": "code",
   "execution_count": 5,
   "metadata": {},
   "outputs": [],
   "source": [
    "from Exchange import *"
   ]
  },
  {
   "cell_type": "code",
   "execution_count": null,
   "metadata": {},
   "outputs": [],
   "source": []
  }
 ],
 "metadata": {
  "kernelspec": {
   "display_name": "Python 3.9.12 64-bit",
   "language": "python",
   "name": "python3"
  },
  "language_info": {
   "codemirror_mode": {
    "name": "ipython",
    "version": 3
   },
   "file_extension": ".py",
   "mimetype": "text/x-python",
   "name": "python",
   "nbconvert_exporter": "python",
   "pygments_lexer": "ipython3",
   "version": "3.9.12"
  },
  "orig_nbformat": 4,
  "vscode": {
   "interpreter": {
    "hash": "b0fa6594d8f4cbf19f97940f81e996739fb7646882a419484c72d19e05852a7e"
   }
  }
 },
 "nbformat": 4,
 "nbformat_minor": 2
}
