{
 "cells": [
  {
   "cell_type": "code",
   "execution_count": 1,
   "id": "341e1b4a",
   "metadata": {},
   "outputs": [],
   "source": [
    "import jax.numpy as jnp\n",
    "import sys\n",
    "import jax\n",
    "from jax import lax\n",
    "from jax import jit\n",
    "import collections\n",
    "collections.OrderedDict\n",
    "sys.path.append('/Users/sasrey/NeuralLOB')"
   ]
  },
  {
   "cell_type": "code",
<<<<<<< HEAD:gym_exchange/jaxob/Orderbook-Jax.ipynb
   "execution_count": 80,
=======
   "execution_count": 2,
>>>>>>> 098df5e7ab97f6febf23ee20f9369bf3b38f4cbc:jaxen/jaxob/Orderbook-Jax.ipynb
   "id": "1721d0d8",
   "metadata": {},
   "outputs": [],
   "source": [
    "order_id_list = [15000000 + i for i in range(100)]\n",
    "timestamp = 34200.000000001\n",
    "trade_id = 000000\n",
    "\n",
    "\n",
<<<<<<< HEAD:gym_exchange/jaxob/Orderbook-Jax.ipynb
    "cancel_order=collections.OrderedDict({'type' : 2, #see LOBSTER definitions\n",
    "        'side' : 1, #1 is bid, -1 is ask \n",
    "          'quantity' : 19, #quant for a cancel order is the quant to cancel, not the new quant. \n",
    "          'price' : 10000,\n",
    "          'trade_id' : trade_id,\n",
    "          'order_id' : order_id_list[0],\n",
    "          \"timestamp\": timestamp+34458}) #This is a Dict, so a normal, fixed-size datastruct.\\)\n",
    "\n",
=======
>>>>>>> 098df5e7ab97f6febf23ee20f9369bf3b38f4cbc:jaxen/jaxob/Orderbook-Jax.ipynb
    "\n",
    "limit_order=collections.OrderedDict({'type' : 1, #see LOBSTER definitions\n",
    "        'side' : -1, #1 is bid, -1 is ask \n",
    "          'quantity' : 101, \n",
    "          'price' : 10000,\n",
    "          'trade_id' : trade_id,\n",
    "          'order_id' : order_id_list[44],\n",
    "          \"timestamp\": timestamp+34456}) #This is a Dict, so a normal, fixed-size datastruct.\\\n",
    "\n",
    "\n",
    "\n",
    "\n",
    "buy_1=collections.OrderedDict({'type' : 1, #see LOBSTER definitions\n",
    "        'side' : 1, #1 is bid, -1 is ask \n",
    "          'quantity' : 100, \n",
    "          'price' : 10000,\n",
    "          'trade_id' : trade_id,\n",
    "          'order_id' : order_id_list[0],\n",
    "          \"timestamp\": timestamp}) #This is a Dict, so a normal, fixed-size datastruct.\\\n",
    "\n",
    "buy_10=collections.OrderedDict({'type' : 1, #see LOBSTER definitions\n",
    "        'side' : 1, #1 is bid, -1 is ask \n",
    "          'quantity' : 100, \n",
    "          'price' : 10000,\n",
    "          'trade_id' : trade_id,\n",
    "          'order_id' : order_id_list[10],\n",
    "          \"timestamp\": timestamp+1}) #This is a Dict, so a normal, fixed-size datastruct.\\\n",
    "\n",
    "\n",
    "\n",
    "\n",
    "sell_1=collections.OrderedDict({'type' : 1, #see LOBSTER definitions\n",
    "        'side' : -1, #1 is bid, -1 is ask \n",
    "          'quantity' : 1, \n",
    "          'price' : 12000,\n",
    "          'trade_id' : trade_id,\n",
    "          'order_id' : order_id_list[1],\n",
    "          \"timestamp\": timestamp}) #This is a Dict, so a normal, fixed-size datastruct.\n",
    "\n",
    "sell_2=collections.OrderedDict({'type' : 1, #see LOBSTER definitions\n",
    "        'side' : -1, #1 is bid, -1 is ask \n",
    "          'quantity' : 10, \n",
    "          'price' : 14000,\n",
    "          'trade_id' : trade_id,\n",
    "          'order_id' : order_id_list[2],\n",
    "          \"timestamp\": timestamp}) #This is a Dict, so a normal, fixed-size datastruct.\n",
    "\n",
    "\n",
    "sell_3=collections.OrderedDict({'type' : 1, #see LOBSTER definitions\n",
    "        'side' : -1, #1 is bid, -1 is ask \n",
    "          'quantity' : 10, \n",
    "          'price' : 15000,\n",
    "          'trade_id' : trade_id,\n",
    "          'order_id' : order_id_list[3],\n",
    "          \"timestamp\": timestamp}) #This is a Dict, so a normal, fixed-size datastruct.\n",
    "\n",
    "sell_4=collections.OrderedDict({'type' : 1, #see LOBSTER definitions\n",
    "        'side' : -1, #1 is bid, -1 is ask \n",
    "          'quantity' : 10, \n",
    "          'price' : 15000,\n",
    "          'trade_id' : trade_id,\n",
    "          'order_id' : order_id_list[4],\n",
    "          \"timestamp\": timestamp+1}) #This is a Dict, so a normal, fixed-size datastruct.\n",
    "\n",
    "\n",
    "buy_2=collections.OrderedDict({'type' : 1, #see LOBSTER definitions\n",
    "        'side' : 1, #1 is bid, -1 is ask \n",
    "          'quantity' : 100, \n",
    "          'price' : 9000,\n",
    "          'trade_id' : trade_id,\n",
    "          'order_id' : order_id_list[5],\n",
    "          \"timestamp\": timestamp}) #This is a Dict, so a normal, fixed-size datastruct. \n",
    "\n",
    "buy_3=collections.OrderedDict({'type' : 1, #see LOBSTER definitions\n",
    "        'side' : 1, #1 is bid, -1 is ask \n",
    "          'quantity' : 100, \n",
    "          'price' : 9000,\n",
    "          'trade_id' : trade_id,\n",
    "          'order_id' : order_id_list[6],\n",
    "          \"timestamp\": timestamp+1}) #This is a Dict, so a normal, fixed-size datastruct. \n",
    "\n",
    "buy_4=collections.OrderedDict({'type' : 1, #see LOBSTER definitions\n",
    "        'side' : 1, #1 is bid, -1 is ask \n",
    "          'quantity' : 100, \n",
    "          'price' : 10001,\n",
    "          'trade_id' : trade_id,\n",
    "          'order_id' : order_id_list[7],\n",
    "          \"timestamp\": timestamp+0.1}) #This is a Dict, so a normal, fixed-size datastruct. "
   ]
  },
  {
   "cell_type": "code",
   "execution_count": 3,
   "id": "3e7dbb12",
   "metadata": {},
   "outputs": [],
   "source": [
    "@jax.jit\n",
    "def convertOrder(dictQuote:collections.OrderedDict):\n",
    "    order=jnp.array(list(dictQuote.values()))\n",
    "    return order"
   ]
  },
  {
   "cell_type": "code",
   "execution_count": 17,
   "id": "d6393ffc",
   "metadata": {},
   "outputs": [],
   "source": [
    "@jax.jit\n",
    "def addOrder(order,orderbook):\n",
    "    def nonZeroQuant(order,orderbook,idx,bidAsk):\n",
    "        def addPriceLevel(order,orderbook,idx,bidAsk):\n",
    "            def continueFunc(order,orderbook,idx,bidAsk,lstidx):\n",
    "                orderside=orderbook[bidAsk,:,:,:]\n",
    "                orderside=jnp.insert(orderside,lstidx,orderlist,axis=0)\n",
    "                orderside=jnp.delete(orderside,jnp.shape(orderside)[0]-1,axis=0)\n",
    "                orderbook=orderbook.at[bidAsk,:,:,:].set(orderside)\n",
    "                return orderbook\n",
    "            \n",
    "            #Create a new orderlist\n",
    "            orderlist=newPrice(order,orderbook)\n",
    "            lstidx=jnp.where((order[1]*orderbook[bidAsk,:,0,1]<order[3]*order[1])|(orderbook[bidAsk,:,0,1]==-1),size=1,fill_value=-1)[0][0]\n",
    "            orderbook=lax.cond(lstidx==-1,lambda order,orderbook,idx,bidAsk,lstidx: orderbook,continueFunc,*(order,orderbook,idx,bidAsk,lstidx))\n",
    "            return orderbook\n",
    "        \n",
    "        def extendPriceLevel(order,orderbook,idx,bidAsk):\n",
    "            #Add order to an existing orderlist\n",
    "            orderlist=add_to_orderlist(order,orderbook,idx,bidAsk)\n",
    "            orderbook=orderbook.at[bidAsk,idx,:,:].set(orderlist)\n",
    "            return orderbook\n",
    "        \n",
    "        orderbook=lax.cond(idx==-1,addPriceLevel,extendPriceLevel,*(order,orderbook,idx,bidAsk))\n",
    "        return orderbook\n",
    "    \n",
    "    bidAsk=((order[1]+1)/2).astype(int)#buy is 1, sell is 0\n",
    "    idx=jnp.where(orderbook[bidAsk,:,0,1]==order[3],size=1,fill_value=-1)[0][0]\n",
    "    orderbook=lax.cond(order[2]==0,lambda order,orderbook,idx,bidAsk: orderbook,nonZeroQuant,*(order,orderbook,idx,bidAsk))\n",
    "    return orderbook"
   ]
  },
  {
   "cell_type": "code",
   "execution_count": 5,
   "id": "eb6799c4",
   "metadata": {},
   "outputs": [],
   "source": [
    "@jax.jit\n",
    "def newPrice(order,orderbook):\n",
    "    orderlist=jnp.ones_like(orderbook[0,0,:,:])*-1\n",
    "    orderlist=orderlist.at[0,:].set(order[2:7])\n",
    "    return orderlist\n"
   ]
  },
  {
   "cell_type": "code",
   "execution_count": 6,
   "id": "65cb2dac",
   "metadata": {},
   "outputs": [],
   "source": [
    "@jax.jit\n",
    "def add_to_orderlist(order,orderbook,list_index,bidAskidx):\n",
    "    #Retrieve the appropriate list (Correct side / price)\n",
    "    orderlist=orderbook[bidAskidx,list_index,:,:]\n",
    "    #Find location in list where to add the order \n",
    "    try:\n",
    "        listLocation=jnp.where((orderlist[:,4]>order[6]) | (orderlist[:,4]==-1),size=1,fill_value=-1)[0][0]\n",
    "    except:\n",
    "        #most likely the list is full and nothing can be added. \n",
    "        return orderlist\n",
    "    #Insert at location\n",
    "    orderlist=jnp.insert(orderlist,jnp.array(listLocation),jnp.array(order[2:7]),axis=0)\n",
    "    #Remove last element\n",
    "    #TODO: if last element is non-null merge with penultimate order (or something else?)\n",
    "    orderlist=jnp.delete(orderlist,jnp.shape(orderlist)[0]-1,axis=0)\n",
    "    return orderlist"
   ]
  },
  {
   "cell_type": "code",
<<<<<<< HEAD:gym_exchange/jaxob/Orderbook-Jax.ipynb
   "execution_count": 54,
=======
   "execution_count": 7,
>>>>>>> 098df5e7ab97f6febf23ee20f9369bf3b38f4cbc:jaxen/jaxob/Orderbook-Jax.ipynb
   "id": "f71dcaef",
   "metadata": {},
   "outputs": [],
   "source": [
    "@jax.jit\n",
<<<<<<< HEAD:gym_exchange/jaxob/Orderbook-Jax.ipynb
    "def delOrder(order,orderbook):\n",
=======
    "def delOrder(orderID,orderbook):\n",
>>>>>>> 098df5e7ab97f6febf23ee20f9369bf3b38f4cbc:jaxen/jaxob/Orderbook-Jax.ipynb
    "    def emptyList(args):\n",
    "        orderside=delPrice(args[0],*args[1])\n",
    "        orderbook=args[0].at[args[1][0][0],:,:,:].set(orderside)\n",
    "        return orderbook\n",
    "    def nonEmptyList(args):\n",
    "        orderbook=args[0].at[args[1][0][0],args[1][1][0],:,:].set(args[2])\n",
    "        return orderbook\n",
<<<<<<< HEAD:gym_exchange/jaxob/Orderbook-Jax.ipynb
    "    orderID=order[5]\n",
=======
>>>>>>> 098df5e7ab97f6febf23ee20f9369bf3b38f4cbc:jaxen/jaxob/Orderbook-Jax.ipynb
    "    \n",
    "    idx=jnp.where(orderbook[:,:,:,3]==orderID,size=1,fill_value=-1)\n",
    "    orderlist=del_from_orderlist(orderID,orderbook,*idx)\n",
    "    \n",
    "    orderbook=lax.cond(orderlist[0,0]==-1,emptyList,nonEmptyList,(orderbook,idx,orderlist))\n",
    "    return orderbook"
   ]
  },
  {
   "cell_type": "code",
   "execution_count": 8,
   "id": "45495bdd",
   "metadata": {},
   "outputs": [],
   "source": [
    "@jax.jit\n",
    "def delPrice(orderbook,bidAskidx,list_idx,list_loc=0):\n",
    "    #Retrieve appropriate orderside\n",
    "    orderside=orderbook[bidAskidx[0],:,:,:]\n",
    "    \n",
    "    factor=lax.cond(bidAskidx[0]==0,lambda x: 1,lambda x: -1,bidAskidx[0]) #defines order to sort\n",
    "    \n",
    "    #Remove order by replacing with -1 fillers\n",
    "    orderside=orderside.at[list_idx,:,:].set(-1)\n",
    "    #Extract prices - which will be used to sort\n",
    "    prices=orderside[:,0,1]\n",
    "    #Replace -1 entries with inf time (move to end)\n",
    "    prices=jnp.where(prices==-1,sys.float_info.max,factor*prices)\n",
    "    #Get sorted indeces and use to sort orderlist.\n",
    "    out=jnp.argsort(prices,axis=0)\n",
    "    orderside=orderside[out,:,:]\n",
    "    \n",
    "    return orderside"
   ]
  },
  {
   "cell_type": "code",
   "execution_count": 9,
   "id": "7e3e97ba",
   "metadata": {},
   "outputs": [],
   "source": [
    "@jax.jit\n",
    "def del_from_orderlist(orderID,orderbook,bidAskidx,list_index,listLocation):\n",
    "    bidAskidx=bidAskidx[0]\n",
    "    list_index=list_index[0]\n",
    "    listLocation=listLocation[0]\n",
    "    #Retrieve the appropriate list (Correct side / price)\n",
    "    orderlist=orderbook[bidAskidx,list_index,:,:]\n",
    "    #Remove order by replacing with -1 fillers\n",
    "    orderlist=orderlist.at[listLocation,:].set(-1)\n",
    "    #Extract times - which will be used to sort\n",
    "    times=orderlist[:,4]\n",
    "    #Replace -1 entries with inf time (move to end)\n",
    "    times=jnp.where(times==-1,sys.float_info.max,times)\n",
    "    #Get sorted indeces and use to sort orderlist.\n",
    "    out=jnp.argsort(times,axis=0)\n",
    "    orderlist=orderlist[out,:]\n",
    "    return orderlist"
   ]
  },
  {
   "cell_type": "code",
<<<<<<< HEAD:gym_exchange/jaxob/Orderbook-Jax.ipynb
   "execution_count": 52,
=======
   "execution_count": 10,
>>>>>>> 098df5e7ab97f6febf23ee20f9369bf3b38f4cbc:jaxen/jaxob/Orderbook-Jax.ipynb
   "id": "86a1e12c",
   "metadata": {},
   "outputs": [],
   "source": [
    "@jax.jit\n",
<<<<<<< HEAD:gym_exchange/jaxob/Orderbook-Jax.ipynb
    "def cancelOrder(order,orderbook): \n",
    "\n",
    "    orderID=order[5]\n",
    "    cancelQuant=order[2]\n",
    "    #could theoretically also be used to increase the qunatity at the moment.\n",
    "    #TODO: add a check to make sure newquant<oldquant\n",
    "    #Basically just reducing the quantity posted in a given order. \n",
    "    orderArr=orderbook[jnp.where(orderbook[:,:,:,3]==orderID,size=1,fill_value=-1)][0]\n",
    "    newquant=orderArr[0]-cancelQuant #TODO implement a check to make sure that new quant>0\n",
    "    \n",
    "    def contCancel(order,orderbook):\n",
    "        orderArr=orderbook[jnp.where(orderbook[:,:,:,3]==orderID,size=1,fill_value=-1)][0]\n",
    "        newquant=orderArr[0]-cancelQuant #TODO implement a check to make sure that new quant>0\n",
    "        orderArr=orderArr.at[0].set(newquant)\n",
    "        orderbook=orderbook.at[jnp.where(orderbook[:,:,:,3]==orderID,size=1,fill_value=-1)].set(orderArr)\n",
    "        return orderbook\n",
    "    \n",
    "    \n",
    "    orderbook=lax.cond(newquant>0,contCancel,delOrder,order,orderbook)\n",
=======
    "def cancelOrder(orderID,newquant,orderbook): \n",
    "    #could theoretically also be used to increase the qunatity at the moment.\n",
    "    #TODO: add a check to make sure newquant<oldquant\n",
    "    #Basically just reducing the quantity posted in a given order. \n",
    "    order=orderbook[jnp.where(orderbook[:,:,:,3]==orderID,size=1,fill_value=-1)][0]\n",
    "    order=order.at[0].set(newquant)\n",
    "    orderbook=orderbook.at[jnp.where(orderbook[:,:,:,3]==orderID,size=1,fill_value=-1)].set(order)\n",
>>>>>>> 098df5e7ab97f6febf23ee20f9369bf3b38f4cbc:jaxen/jaxob/Orderbook-Jax.ipynb
    "    return orderbook"
   ]
  },
  {
   "cell_type": "code",
   "execution_count": 11,
   "id": "7ef4ccbd",
   "metadata": {},
   "outputs": [],
   "source": [
    "@jax.jit\n",
    "def processOrderList(toMatch):\n",
    "    \n",
    "    def while_cond(toMatch):\n",
    "        return (toMatch[0][0,0]!=-1) & (toMatch[1] >0)\n",
    "\n",
    "    def while_body(toMatch):\n",
    "        def matchTopOrder(toMatch):\n",
    "            quantToMatch=toMatch[1]-toMatch[0][0,0]\n",
    "            orderlist=jnp.delete(toMatch[0],0,axis=0)\n",
    "            orderlist=jnp.append(orderlist,jnp.ones([1,orderlist.shape[1]])*-1,axis=0)\n",
    "            return (orderlist,quantToMatch)\n",
    "\n",
    "        def partialMatchTopOrder(toMatch):\n",
    "            quantToMatch=jnp.float32(0)\n",
    "            orderlist=toMatch[0].at[0,0].set(toMatch[0][0,0]-toMatch[1])\n",
    "            return (orderlist,quantToMatch)\n",
    "    \n",
    "        #condition is: quant to match is bigger or equal to quant in first order. DO: remove the top order.\n",
    "        # else: quant to match is smaller than top order: just reduce the volume. \n",
    "        toMatch=lax.cond(toMatch[1]>=toMatch[0][0,0],matchTopOrder,partialMatchTopOrder,toMatch)\n",
    "        return toMatch\n",
    "    \n",
    "    #Aim: given a quantity left to match, run through the orderlist\n",
    "    #and remove the orders in question until the quant to match is 0 or the whole list is empty.\n",
    "    toMatch_ret=lax.while_loop(while_cond, while_body, toMatch)\n",
    "    return toMatch_ret"
   ]
  },
  {
   "cell_type": "code",
<<<<<<< HEAD:gym_exchange/jaxob/Orderbook-Jax.ipynb
   "execution_count": 67,
=======
   "execution_count": 12,
>>>>>>> 098df5e7ab97f6febf23ee20f9369bf3b38f4cbc:jaxen/jaxob/Orderbook-Jax.ipynb
   "id": "1bfd3411",
   "metadata": {},
   "outputs": [],
   "source": [
    "@jax.jit\n",
<<<<<<< HEAD:gym_exchange/jaxob/Orderbook-Jax.ipynb
    "def processMKTOrder(order,orderbook):\n",
=======
    "def processMKTOrder(quant,side,orderbook):\n",
>>>>>>> 098df5e7ab97f6febf23ee20f9369bf3b38f4cbc:jaxen/jaxob/Orderbook-Jax.ipynb
    "    def while_cond(toMatch):\n",
    "        #The best price must have some quant, and the mktorder must still want to match some quant. \n",
    "        return (toMatch[0][0,0,0]!=-1) & (toMatch[1] >0)\n",
    "    \n",
    "    def while_body(toMatch):\n",
    "        def list_empty(toMatch):\n",
    "            orderside=jnp.delete(toMatch[0][0],0,axis=0)\n",
    "            orderside=jnp.append(orderside,jnp.ones([1,orderside.shape[1],orderside.shape[2]])*-1,axis=0)\n",
    "            return (orderside,toMatch[1][1])\n",
    "        \n",
    "        def list_nonempty(toMatch):\n",
    "            orderside=toMatch[0][0].at[0,:,:].set(toMatch[1][0])\n",
    "            return (orderside,toMatch[1][1])\n",
    "        \n",
    "        ret=processOrderList((toMatch[0][0,:,:],toMatch[1])) #process top order list.\n",
    "        \n",
    "        toMatch=lax.cond(ret[0][0,0]==-1,list_empty,list_nonempty,(toMatch,ret))\n",
    "        return toMatch\n",
<<<<<<< HEAD:gym_exchange/jaxob/Orderbook-Jax.ipynb
    "    \n",
    "    side=order[1]\n",
    "    quant=order[2]\n",
=======
>>>>>>> 098df5e7ab97f6febf23ee20f9369bf3b38f4cbc:jaxen/jaxob/Orderbook-Jax.ipynb
    "        \n",
    "    side=((side+1)/2).astype(int)\n",
    "    orderside=orderbook[side,:,:,:]\n",
    "    \n",
    "    toMatch_ret=lax.while_loop(while_cond,while_body,(orderside,quant))\n",
    "    orderbook=orderbook.at[side,:,:,:].set(toMatch_ret[0])\n",
    "    return orderbook"
   ]
  },
  {
   "cell_type": "code",
<<<<<<< HEAD:gym_exchange/jaxob/Orderbook-Jax.ipynb
   "execution_count": 68,
=======
   "execution_count": 13,
>>>>>>> 098df5e7ab97f6febf23ee20f9369bf3b38f4cbc:jaxen/jaxob/Orderbook-Jax.ipynb
   "id": "849009a5",
   "metadata": {},
   "outputs": [],
   "source": [
    "@jax.jit\n",
    "def processLMTOrder(order,orderbook): #limside should be -1/1\n",
    "    def while_cond(toMatch):\n",
    "        #Condition to keep matching: remaining quant at best price, remaining quant to match, price better than lim price.\n",
    "        default=(toMatch[0][0,0,0]!=-1) & (toMatch[1] >0)\n",
    "        \n",
    "        #true: side is \n",
    "        cond=lax.cond(toMatch[3]==0,lambda x: x[0][0,0,1]>=x[2],lambda x: x[0][0,0,1]<=x[2],toMatch)\n",
    "        return default&cond\n",
    "    \n",
    "    def while_body(toMatch): #(args: orderside,quant,price,matchside)\n",
    "        def list_empty(toMatch):\n",
    "            orderside=jnp.delete(toMatch[0][0],0,axis=0)\n",
    "            orderside=jnp.append(orderside,jnp.ones([1,orderside.shape[1],orderside.shape[2]])*-1,axis=0)\n",
    "            return (orderside,toMatch[1][1],toMatch[0][2],toMatch[0][3])#returning orderside, quant,price,side\n",
    "        \n",
    "        def list_nonempty(toMatch):\n",
    "            orderside=toMatch[0][0].at[0,:,:].set(toMatch[1][0])\n",
    "            return (orderside,toMatch[1][1],toMatch[0][2],toMatch[0][3])\n",
    "        \n",
    "        ret=processOrderList((toMatch[0][0,:,:],toMatch[1])) #process top order list. (Args: orderlist, quant)\n",
    "        \n",
    "        return_val=lax.cond(ret[0][0,0]==-1,list_empty,list_nonempty,(toMatch,ret))\n",
    "        return return_val\n",
    "    \n",
    "    \n",
    "    \n",
    "    matchSide=((-order[1]+1)/2).astype(int)\n",
    "    limSide=((order[1]+1)/2).astype(int)\n",
    "    orderside=orderbook[matchSide,:,:,:]\n",
    "    \n",
    "    toMatch_ret=lax.while_loop(while_cond,while_body,(orderside,order[2],order[3],limSide))\n",
    "    orderbook=orderbook.at[matchSide,:,:,:].set(toMatch_ret[0])\n",
    "    \n",
    "    order=order.at[2].set(toMatch_ret[1])\n",
    "    \n",
    "    #orderbook=lax.cond(toMatch_ret[1]==0,lambda x,y: y,addOrder,*(order,orderbook))\n",
    "    orderbook=addOrder(order,orderbook)\n",
    "    \n",
    "    return orderbook"
   ]
  },
  {
   "cell_type": "code",
<<<<<<< HEAD:gym_exchange/jaxob/Orderbook-Jax.ipynb
   "execution_count": 78,
   "id": "47490ca2",
   "metadata": {},
   "outputs": [],
   "source": [
    "@jax.jit\n",
    "def processOrder(order,orderbook):\n",
    "    orderbook=lax.switch((order[0]-1).astype(int),[processLMTOrder,cancelOrder,delOrder,processMKTOrder],order,orderbook)\n",
    "    return orderbook"
   ]
  },
  {
   "cell_type": "code",
   "execution_count": 82,
   "id": "f33a3e9a",
   "metadata": {},
   "outputs": [
    {
     "name": "stdout",
     "output_type": "stream",
     "text": [
      "[[[[ 1.0000000e+00  1.2000000e+04  0.0000000e+00  1.5000001e+07\n",
      "     3.4200000e+04]\n",
      "   [-1.0000000e+00 -1.0000000e+00 -1.0000000e+00 -1.0000000e+00\n",
      "    -1.0000000e+00]\n",
      "   [-1.0000000e+00 -1.0000000e+00 -1.0000000e+00 -1.0000000e+00\n",
      "    -1.0000000e+00]]\n",
      "\n",
      "  [[ 1.0000000e+01  1.4000000e+04  0.0000000e+00  1.5000002e+07\n",
      "     3.4200000e+04]\n",
      "   [-1.0000000e+00 -1.0000000e+00 -1.0000000e+00 -1.0000000e+00\n",
      "    -1.0000000e+00]\n",
      "   [-1.0000000e+00 -1.0000000e+00 -1.0000000e+00 -1.0000000e+00\n",
      "    -1.0000000e+00]]\n",
      "\n",
      "  [[ 1.0000000e+01  1.5000000e+04  0.0000000e+00  1.5000003e+07\n",
      "     3.4200000e+04]\n",
      "   [ 1.0000000e+01  1.5000000e+04  0.0000000e+00  1.5000004e+07\n",
      "     3.4201000e+04]\n",
      "   [-1.0000000e+00 -1.0000000e+00 -1.0000000e+00 -1.0000000e+00\n",
      "    -1.0000000e+00]]]\n",
      "\n",
      "\n",
      " [[[ 1.0000000e+02  1.0000000e+04  0.0000000e+00  1.5000000e+07\n",
      "     3.4200000e+04]\n",
      "   [ 1.0000000e+02  1.0000000e+04  0.0000000e+00  1.5000010e+07\n",
      "     3.4201000e+04]\n",
      "   [-1.0000000e+00 -1.0000000e+00 -1.0000000e+00 -1.0000000e+00\n",
      "    -1.0000000e+00]]\n",
      "\n",
      "  [[ 1.0000000e+02  9.0000000e+03  0.0000000e+00  1.5000005e+07\n",
      "     3.4200000e+04]\n",
      "   [ 1.0000000e+02  9.0000000e+03  0.0000000e+00  1.5000006e+07\n",
      "     3.4201000e+04]\n",
      "   [-1.0000000e+00 -1.0000000e+00 -1.0000000e+00 -1.0000000e+00\n",
      "    -1.0000000e+00]]\n",
      "\n",
      "  [[-1.0000000e+00 -1.0000000e+00 -1.0000000e+00 -1.0000000e+00\n",
      "    -1.0000000e+00]\n",
      "   [-1.0000000e+00 -1.0000000e+00 -1.0000000e+00 -1.0000000e+00\n",
      "    -1.0000000e+00]\n",
      "   [-1.0000000e+00 -1.0000000e+00 -1.0000000e+00 -1.0000000e+00\n",
      "    -1.0000000e+00]]]]\n",
      "OrderedDict([('type', 2), ('side', 1), ('quantity', 19), ('price', 10000), ('trade_id', 0), ('order_id', 15000000), ('timestamp', 68658.00000000099)])\n"
     ]
    },
    {
     "data": {
      "text/plain": [
       "Array([[[[ 1.0000000e+00,  1.2000000e+04,  0.0000000e+00,\n",
       "           1.5000001e+07,  3.4200000e+04],\n",
       "         [-1.0000000e+00, -1.0000000e+00, -1.0000000e+00,\n",
       "          -1.0000000e+00, -1.0000000e+00],\n",
       "         [-1.0000000e+00, -1.0000000e+00, -1.0000000e+00,\n",
       "          -1.0000000e+00, -1.0000000e+00]],\n",
       "\n",
       "        [[ 1.0000000e+01,  1.4000000e+04,  0.0000000e+00,\n",
       "           1.5000002e+07,  3.4200000e+04],\n",
       "         [-1.0000000e+00, -1.0000000e+00, -1.0000000e+00,\n",
       "          -1.0000000e+00, -1.0000000e+00],\n",
       "         [-1.0000000e+00, -1.0000000e+00, -1.0000000e+00,\n",
       "          -1.0000000e+00, -1.0000000e+00]],\n",
       "\n",
       "        [[ 1.0000000e+01,  1.5000000e+04,  0.0000000e+00,\n",
       "           1.5000003e+07,  3.4200000e+04],\n",
       "         [ 1.0000000e+01,  1.5000000e+04,  0.0000000e+00,\n",
       "           1.5000004e+07,  3.4201000e+04],\n",
       "         [-1.0000000e+00, -1.0000000e+00, -1.0000000e+00,\n",
       "          -1.0000000e+00, -1.0000000e+00]]],\n",
       "\n",
       "\n",
       "       [[[ 8.1000000e+01,  1.0000000e+04,  0.0000000e+00,\n",
       "           1.5000000e+07,  3.4200000e+04],\n",
       "         [ 1.0000000e+02,  1.0000000e+04,  0.0000000e+00,\n",
       "           1.5000010e+07,  3.4201000e+04],\n",
       "         [-1.0000000e+00, -1.0000000e+00, -1.0000000e+00,\n",
       "          -1.0000000e+00, -1.0000000e+00]],\n",
       "\n",
       "        [[ 1.0000000e+02,  9.0000000e+03,  0.0000000e+00,\n",
       "           1.5000005e+07,  3.4200000e+04],\n",
       "         [ 1.0000000e+02,  9.0000000e+03,  0.0000000e+00,\n",
       "           1.5000006e+07,  3.4201000e+04],\n",
       "         [-1.0000000e+00, -1.0000000e+00, -1.0000000e+00,\n",
       "          -1.0000000e+00, -1.0000000e+00]],\n",
       "\n",
       "        [[-1.0000000e+00, -1.0000000e+00, -1.0000000e+00,\n",
       "          -1.0000000e+00, -1.0000000e+00],\n",
       "         [-1.0000000e+00, -1.0000000e+00, -1.0000000e+00,\n",
       "          -1.0000000e+00, -1.0000000e+00],\n",
       "         [-1.0000000e+00, -1.0000000e+00, -1.0000000e+00,\n",
       "          -1.0000000e+00, -1.0000000e+00]]]], dtype=float32)"
      ]
     },
     "execution_count": 82,
     "metadata": {},
     "output_type": "execute_result"
    }
   ],
   "source": [
    "processOrder(convertOrder(cancel_order),orderbook)"
   ]
  },
  {
   "cell_type": "code",
=======
>>>>>>> 098df5e7ab97f6febf23ee20f9369bf3b38f4cbc:jaxen/jaxob/Orderbook-Jax.ipynb
   "execution_count": 18,
   "id": "e086fa39",
   "metadata": {},
   "outputs": [],
   "source": [
    "orderbookDimension=[2,3,3,5]#Bid/Ask, Levels, Orders per level, Order data (ID, Price, Quant, Time,)"
   ]
  },
  {
   "cell_type": "code",
   "execution_count": 19,
   "id": "dd4bea69",
   "metadata": {},
   "outputs": [
    {
     "data": {
      "text/plain": [
       "Array([[[[ 1.0000000e+00,  1.2000000e+04,  0.0000000e+00,\n",
       "           1.5000001e+07,  3.4200000e+04],\n",
       "         [-1.0000000e+00, -1.0000000e+00, -1.0000000e+00,\n",
       "          -1.0000000e+00, -1.0000000e+00],\n",
       "         [-1.0000000e+00, -1.0000000e+00, -1.0000000e+00,\n",
       "          -1.0000000e+00, -1.0000000e+00]],\n",
       "\n",
       "        [[ 1.0000000e+01,  1.4000000e+04,  0.0000000e+00,\n",
       "           1.5000002e+07,  3.4200000e+04],\n",
       "         [-1.0000000e+00, -1.0000000e+00, -1.0000000e+00,\n",
       "          -1.0000000e+00, -1.0000000e+00],\n",
       "         [-1.0000000e+00, -1.0000000e+00, -1.0000000e+00,\n",
       "          -1.0000000e+00, -1.0000000e+00]],\n",
       "\n",
       "        [[ 1.0000000e+01,  1.5000000e+04,  0.0000000e+00,\n",
       "           1.5000003e+07,  3.4200000e+04],\n",
       "         [ 1.0000000e+01,  1.5000000e+04,  0.0000000e+00,\n",
       "           1.5000004e+07,  3.4201000e+04],\n",
       "         [-1.0000000e+00, -1.0000000e+00, -1.0000000e+00,\n",
       "          -1.0000000e+00, -1.0000000e+00]]],\n",
       "\n",
       "\n",
       "       [[[ 1.0000000e+02,  1.0000000e+04,  0.0000000e+00,\n",
       "           1.5000000e+07,  3.4200000e+04],\n",
       "         [ 1.0000000e+02,  1.0000000e+04,  0.0000000e+00,\n",
       "           1.5000010e+07,  3.4201000e+04],\n",
       "         [-1.0000000e+00, -1.0000000e+00, -1.0000000e+00,\n",
       "          -1.0000000e+00, -1.0000000e+00]],\n",
       "\n",
       "        [[ 1.0000000e+02,  9.0000000e+03,  0.0000000e+00,\n",
       "           1.5000005e+07,  3.4200000e+04],\n",
       "         [ 1.0000000e+02,  9.0000000e+03,  0.0000000e+00,\n",
       "           1.5000006e+07,  3.4201000e+04],\n",
       "         [-1.0000000e+00, -1.0000000e+00, -1.0000000e+00,\n",
       "          -1.0000000e+00, -1.0000000e+00]],\n",
       "\n",
       "        [[-1.0000000e+00, -1.0000000e+00, -1.0000000e+00,\n",
       "          -1.0000000e+00, -1.0000000e+00],\n",
       "         [-1.0000000e+00, -1.0000000e+00, -1.0000000e+00,\n",
       "          -1.0000000e+00, -1.0000000e+00],\n",
       "         [-1.0000000e+00, -1.0000000e+00, -1.0000000e+00,\n",
       "          -1.0000000e+00, -1.0000000e+00]]]], dtype=float32)"
      ]
     },
     "execution_count": 19,
     "metadata": {},
     "output_type": "execute_result"
    }
   ],
   "source": [
    "orderbook=jnp.ones(orderbookDimension)*-1\n",
    "orderbook=addOrder(convertOrder(buy_1),orderbook)\n",
    "orderbook=addOrder(convertOrder(buy_10),orderbook)\n",
    "orderbook=addOrder(convertOrder(buy_3),orderbook)\n",
    "orderbook=addOrder(convertOrder(buy_2),orderbook)\n",
    "orderbook=addOrder(convertOrder(sell_1),orderbook)\n",
    "orderbook=addOrder(convertOrder(sell_2),orderbook)\n",
    "orderbook=addOrder(convertOrder(sell_3),orderbook)\n",
    "orderbook=addOrder(convertOrder(sell_4),orderbook)\n",
    "orderbook"
   ]
  },
  {
   "cell_type": "code",
<<<<<<< HEAD:gym_exchange/jaxob/Orderbook-Jax.ipynb
   "execution_count": 87,
   "id": "b33b0090",
   "metadata": {},
=======
   "execution_count": 20,
   "id": "6751d16e",
   "metadata": {
    "scrolled": true
   },
>>>>>>> 098df5e7ab97f6febf23ee20f9369bf3b38f4cbc:jaxen/jaxob/Orderbook-Jax.ipynb
   "outputs": [
    {
     "data": {
      "text/plain": [
       "Array([[[[ 1.0000000e+00,  1.2000000e+04,  0.0000000e+00,\n",
       "           1.5000001e+07,  3.4200000e+04],\n",
       "         [-1.0000000e+00, -1.0000000e+00, -1.0000000e+00,\n",
       "          -1.0000000e+00, -1.0000000e+00],\n",
       "         [-1.0000000e+00, -1.0000000e+00, -1.0000000e+00,\n",
       "          -1.0000000e+00, -1.0000000e+00]],\n",
       "\n",
       "        [[ 1.0000000e+01,  1.4000000e+04,  0.0000000e+00,\n",
       "           1.5000002e+07,  3.4200000e+04],\n",
       "         [-1.0000000e+00, -1.0000000e+00, -1.0000000e+00,\n",
       "          -1.0000000e+00, -1.0000000e+00],\n",
       "         [-1.0000000e+00, -1.0000000e+00, -1.0000000e+00,\n",
       "          -1.0000000e+00, -1.0000000e+00]],\n",
       "\n",
       "        [[ 1.0000000e+01,  1.5000000e+04,  0.0000000e+00,\n",
       "           1.5000003e+07,  3.4200000e+04],\n",
       "         [ 1.0000000e+01,  1.5000000e+04,  0.0000000e+00,\n",
       "           1.5000004e+07,  3.4201000e+04],\n",
       "         [-1.0000000e+00, -1.0000000e+00, -1.0000000e+00,\n",
       "          -1.0000000e+00, -1.0000000e+00]]],\n",
       "\n",
       "\n",
       "       [[[ 9.9000000e+01,  1.0000000e+04,  0.0000000e+00,\n",
       "           1.5000010e+07,  3.4201000e+04],\n",
       "         [-1.0000000e+00, -1.0000000e+00, -1.0000000e+00,\n",
       "          -1.0000000e+00, -1.0000000e+00],\n",
       "         [-1.0000000e+00, -1.0000000e+00, -1.0000000e+00,\n",
       "          -1.0000000e+00, -1.0000000e+00]],\n",
       "\n",
       "        [[ 1.0000000e+02,  9.0000000e+03,  0.0000000e+00,\n",
       "           1.5000005e+07,  3.4200000e+04],\n",
       "         [ 1.0000000e+02,  9.0000000e+03,  0.0000000e+00,\n",
       "           1.5000006e+07,  3.4201000e+04],\n",
       "         [-1.0000000e+00, -1.0000000e+00, -1.0000000e+00,\n",
       "          -1.0000000e+00, -1.0000000e+00]],\n",
       "\n",
       "        [[-1.0000000e+00, -1.0000000e+00, -1.0000000e+00,\n",
       "          -1.0000000e+00, -1.0000000e+00],\n",
       "         [-1.0000000e+00, -1.0000000e+00, -1.0000000e+00,\n",
       "          -1.0000000e+00, -1.0000000e+00],\n",
       "         [-1.0000000e+00, -1.0000000e+00, -1.0000000e+00,\n",
       "          -1.0000000e+00, -1.0000000e+00]]]], dtype=float32)"
      ]
     },
<<<<<<< HEAD:gym_exchange/jaxob/Orderbook-Jax.ipynb
     "execution_count": 87,
=======
     "execution_count": 20,
>>>>>>> 098df5e7ab97f6febf23ee20f9369bf3b38f4cbc:jaxen/jaxob/Orderbook-Jax.ipynb
     "metadata": {},
     "output_type": "execute_result"
    }
   ],
   "source": [
<<<<<<< HEAD:gym_exchange/jaxob/Orderbook-Jax.ipynb
    "orderbook2=jnp.ones(orderbookDimension)*-1\n",
    "orderbook2=processOrder(convertOrder(buy_1),orderbook2)\n",
    "orderbook2=processOrder(convertOrder(buy_10),orderbook2)\n",
    "orderbook2=processOrder(convertOrder(buy_3),orderbook2)\n",
    "orderbook2=processOrder(convertOrder(buy_2),orderbook2)\n",
    "orderbook2=processOrder(convertOrder(sell_1),orderbook2)\n",
    "orderbook2=processOrder(convertOrder(sell_2),orderbook2)\n",
    "orderbook2=processOrder(convertOrder(sell_3),orderbook2)\n",
    "orderbook2=processOrder(convertOrder(sell_4),orderbook2)\n",
    "orderbook2=processOrder(convertOrder(limit_order),orderbook2)\n",
    "orderbook2"
=======
    "processLMTOrder(convertOrder(limit_order),orderbook)"
   ]
  },
  {
   "cell_type": "code",
   "execution_count": 21,
   "id": "abce3a44",
   "metadata": {},
   "outputs": [
    {
     "data": {
      "text/plain": [
       "Array([[[[ 1.0000000e+00,  1.2000000e+04,  0.0000000e+00,\n",
       "           1.5000001e+07,  3.4200000e+04],\n",
       "         [-1.0000000e+00, -1.0000000e+00, -1.0000000e+00,\n",
       "          -1.0000000e+00, -1.0000000e+00],\n",
       "         [-1.0000000e+00, -1.0000000e+00, -1.0000000e+00,\n",
       "          -1.0000000e+00, -1.0000000e+00]],\n",
       "\n",
       "        [[ 1.0000000e+01,  1.4000000e+04,  0.0000000e+00,\n",
       "           1.5000002e+07,  3.4200000e+04],\n",
       "         [-1.0000000e+00, -1.0000000e+00, -1.0000000e+00,\n",
       "          -1.0000000e+00, -1.0000000e+00],\n",
       "         [-1.0000000e+00, -1.0000000e+00, -1.0000000e+00,\n",
       "          -1.0000000e+00, -1.0000000e+00]],\n",
       "\n",
       "        [[ 1.0000000e+01,  1.5000000e+04,  0.0000000e+00,\n",
       "           1.5000003e+07,  3.4200000e+04],\n",
       "         [ 1.0000000e+01,  1.5000000e+04,  0.0000000e+00,\n",
       "           1.5000004e+07,  3.4201000e+04],\n",
       "         [-1.0000000e+00, -1.0000000e+00, -1.0000000e+00,\n",
       "          -1.0000000e+00, -1.0000000e+00]]],\n",
       "\n",
       "\n",
       "       [[[ 9.6000000e+01,  1.0000000e+04,  0.0000000e+00,\n",
       "           1.5000000e+07,  3.4200000e+04],\n",
       "         [ 1.0000000e+02,  1.0000000e+04,  0.0000000e+00,\n",
       "           1.5000010e+07,  3.4201000e+04],\n",
       "         [-1.0000000e+00, -1.0000000e+00, -1.0000000e+00,\n",
       "          -1.0000000e+00, -1.0000000e+00]],\n",
       "\n",
       "        [[ 1.0000000e+02,  9.0000000e+03,  0.0000000e+00,\n",
       "           1.5000005e+07,  3.4200000e+04],\n",
       "         [ 1.0000000e+02,  9.0000000e+03,  0.0000000e+00,\n",
       "           1.5000006e+07,  3.4201000e+04],\n",
       "         [-1.0000000e+00, -1.0000000e+00, -1.0000000e+00,\n",
       "          -1.0000000e+00, -1.0000000e+00]],\n",
       "\n",
       "        [[-1.0000000e+00, -1.0000000e+00, -1.0000000e+00,\n",
       "          -1.0000000e+00, -1.0000000e+00],\n",
       "         [-1.0000000e+00, -1.0000000e+00, -1.0000000e+00,\n",
       "          -1.0000000e+00, -1.0000000e+00],\n",
       "         [-1.0000000e+00, -1.0000000e+00, -1.0000000e+00,\n",
       "          -1.0000000e+00, -1.0000000e+00]]]], dtype=float32)"
      ]
     },
     "execution_count": 21,
     "metadata": {},
     "output_type": "execute_result"
    }
   ],
   "source": [
    "processMKTOrder(4,1,orderbook)"
   ]
  },
  {
   "cell_type": "code",
   "execution_count": 22,
   "id": "2c7ef840",
   "metadata": {},
   "outputs": [
    {
     "data": {
      "text/plain": [
       "Array([[[[ 1.0000000e+00,  1.2000000e+04,  0.0000000e+00,\n",
       "           1.5000001e+07,  3.4200000e+04],\n",
       "         [-1.0000000e+00, -1.0000000e+00, -1.0000000e+00,\n",
       "          -1.0000000e+00, -1.0000000e+00],\n",
       "         [-1.0000000e+00, -1.0000000e+00, -1.0000000e+00,\n",
       "          -1.0000000e+00, -1.0000000e+00]],\n",
       "\n",
       "        [[ 1.0000000e+01,  1.5000000e+04,  0.0000000e+00,\n",
       "           1.5000003e+07,  3.4200000e+04],\n",
       "         [ 1.0000000e+01,  1.5000000e+04,  0.0000000e+00,\n",
       "           1.5000004e+07,  3.4201000e+04],\n",
       "         [-1.0000000e+00, -1.0000000e+00, -1.0000000e+00,\n",
       "          -1.0000000e+00, -1.0000000e+00]],\n",
       "\n",
       "        [[-1.0000000e+00, -1.0000000e+00, -1.0000000e+00,\n",
       "          -1.0000000e+00, -1.0000000e+00],\n",
       "         [-1.0000000e+00, -1.0000000e+00, -1.0000000e+00,\n",
       "          -1.0000000e+00, -1.0000000e+00],\n",
       "         [-1.0000000e+00, -1.0000000e+00, -1.0000000e+00,\n",
       "          -1.0000000e+00, -1.0000000e+00]]],\n",
       "\n",
       "\n",
       "       [[[ 1.0000000e+02,  1.0000000e+04,  0.0000000e+00,\n",
       "           1.5000000e+07,  3.4200000e+04],\n",
       "         [ 1.0000000e+02,  1.0000000e+04,  0.0000000e+00,\n",
       "           1.5000010e+07,  3.4201000e+04],\n",
       "         [-1.0000000e+00, -1.0000000e+00, -1.0000000e+00,\n",
       "          -1.0000000e+00, -1.0000000e+00]],\n",
       "\n",
       "        [[ 1.0000000e+02,  9.0000000e+03,  0.0000000e+00,\n",
       "           1.5000005e+07,  3.4200000e+04],\n",
       "         [ 1.0000000e+02,  9.0000000e+03,  0.0000000e+00,\n",
       "           1.5000006e+07,  3.4201000e+04],\n",
       "         [-1.0000000e+00, -1.0000000e+00, -1.0000000e+00,\n",
       "          -1.0000000e+00, -1.0000000e+00]],\n",
       "\n",
       "        [[-1.0000000e+00, -1.0000000e+00, -1.0000000e+00,\n",
       "          -1.0000000e+00, -1.0000000e+00],\n",
       "         [-1.0000000e+00, -1.0000000e+00, -1.0000000e+00,\n",
       "          -1.0000000e+00, -1.0000000e+00],\n",
       "         [-1.0000000e+00, -1.0000000e+00, -1.0000000e+00,\n",
       "          -1.0000000e+00, -1.0000000e+00]]]], dtype=float32)"
      ]
     },
     "execution_count": 22,
     "metadata": {},
     "output_type": "execute_result"
    }
   ],
   "source": [
    "delOrder(order_id_list[2],orderbook)"
>>>>>>> 098df5e7ab97f6febf23ee20f9369bf3b38f4cbc:jaxen/jaxob/Orderbook-Jax.ipynb
   ]
  },
  {
   "cell_type": "code",
   "execution_count": null,
<<<<<<< HEAD:gym_exchange/jaxob/Orderbook-Jax.ipynb
   "id": "6ae874da",
   "metadata": {},
   "outputs": [],
   "source": []
  },
  {
   "cell_type": "code",
   "execution_count": null,
   "id": "2b234764",
=======
   "id": "5f5a617d",
>>>>>>> 098df5e7ab97f6febf23ee20f9369bf3b38f4cbc:jaxen/jaxob/Orderbook-Jax.ipynb
   "metadata": {},
   "outputs": [],
   "source": []
  }
 ],
 "metadata": {
  "kernelspec": {
   "display_name": "Python 3.10.5 64-bit ('project-RL4ABM': venv)",
   "language": "python",
   "name": "python3105jvsc74a57bd0fe8764737fd002e5c238d058ac040ae3d087631310ec561041f7cdd5a6f98401"
  },
  "language_info": {
   "codemirror_mode": {
    "name": "ipython",
    "version": 3
   },
   "file_extension": ".py",
   "mimetype": "text/x-python",
   "name": "python",
   "nbconvert_exporter": "python",
   "pygments_lexer": "ipython3",
   "version": "3.10.5"
  }
 },
 "nbformat": 4,
 "nbformat_minor": 5
}
