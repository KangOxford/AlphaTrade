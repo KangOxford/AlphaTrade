{
 "cells": [
  {
   "cell_type": "code",
   "execution_count": 4,
   "id": "d99bcef1",
   "metadata": {},
   "outputs": [],
   "source": [
    "#System and standard inputs\n",
    "import sys\n",
    "import importlib\n",
    "import timeit\n",
    "import collections\n",
    "\n",
    "#Adding correct paths to custom modules\n",
    "sys.path.append('/Users/sasrey/AlphaTrade/gym_exchange')\n",
    "sys.path.append('/Users/sasrey/AlphaTrade')\n",
    "sys.path.append('/Users/sasrey/AlphaTrade/jaxen')"
   ]
  },
  {
   "cell_type": "code",
   "execution_count": 5,
   "id": "3147fe9e",
   "metadata": {},
   "outputs": [],
   "source": [
    "#Relevant Jax Imports\n",
    "import jax.numpy as jnp\n",
    "from jax import lax\n",
    "import jax"
   ]
  },
  {
   "cell_type": "code",
   "execution_count": 6,
   "id": "29a0a122",
   "metadata": {},
   "outputs": [],
   "source": [
    "#Direct Import of the Orderbook functions \n",
    "import jaxob.JaxOrderbook as job \n",
    "#OrderBook class import as written by Kang\n",
    "from orderbook import OrderBook as cpuOrderBook\n",
    "#Import (and reload for debugging) of the OrderBook class with jax backend (SF) should behave in the same way.\n",
    "import jorderbook\n",
    "importlib.reload(jorderbook)\n",
    "from jorderbook import OrderBook as JaxOrderBook\n",
    "\n",
    "#Import Data Mgt and Encoding/Decoding tools\n",
    "#(The aim of these is to adjust for the case where no message is received but data ends up in the L2 data)\n",
    "import gym_exchange.data_orderbook_adapter.data_pipeline as dpl\n",
    "from gym_exchange.data_orderbook_adapter.decoder import Decoder\n",
    "from gym_exchange.data_orderbook_adapter.encoder import Encoder"
   ]
  },
  {
   "cell_type": "code",
   "execution_count": 7,
   "id": "c4ee145f",
   "metadata": {},
   "outputs": [],
   "source": [
    "#Attempt at using the data pipeline tools and the encoder/decoder, doesn't really work well. \n",
    "\n",
    "dplOBJ=dpl.DataPipeline()\n",
    "decodeddata=Decoder(10,40,dplOBJ.historical_data,dplOBJ.data_loader)\n",
    "#Decoder Functionality: Takes the message data (dataloader) and the orderbook data (historical data).\n",
    "#Creates and maintains an orderbook as implemented in the CPU version.\n",
    "#Creates and maintains a \"DataAdjuster\" object, which considers the historical data (orderbook) to be the \"true\" state\n",
    "#Inits the orderbook with the first state in the orderbook data (hist) gives imaginary list of IDs to the orders created:\n",
    "#            each entry in the orderbook is considered to be from a single order. \n",
    "output=decodeddata.process()\n",
    "#Process function for Decoder: goes through N (horizon) messages to ascertain whether there are adidtional messages to consider. \n",
    "\n",
    "enc=Encoder(decodeddata)\n",
    "#enc()"
   ]
  },
  {
   "cell_type": "code",
   "execution_count": 8,
   "id": "b5cfed55",
   "metadata": {},
   "outputs": [],
   "source": [
    "import pandas as pd\n",
    "df_msg = pd.read_csv(\"/Users/sasrey/project-RL4ABM/data_tqap/TSLA_2015-01-01_2015-01-31_10/TSLA_2015-01-02_34200000_57600000_message_10.csv\", header=None)\n",
    "df_ob = pd.read_csv(\"/Users/sasrey/project-RL4ABM/data_tqap/TSLA_2015-01-01_2015-01-31_10/TSLA_2015-01-02_34200000_57600000_orderbook_10.csv\", header=None)"
   ]
  },
  {
   "cell_type": "code",
   "execution_count": 17,
   "id": "b27f08fd",
   "metadata": {},
   "outputs": [
    {
     "data": {
      "text/plain": [
       "(212966, 7)"
      ]
     },
     "execution_count": 17,
     "metadata": {},
     "output_type": "execute_result"
    }
   ],
   "source": [
    "data=jnp.array(df_ob.iloc[0,:]).reshape(20,2)\n",
    "newarr=jnp.zeros((20,7))\n",
    "initOB=newarr.at[:,3].set(data[:,0]).at[:,2].set(data[:,1]).at[:,0].set(1).at[0:40:2,1].set(-1).at[1:40:2,1].set(1).at[:,4].set(0).at[:,5].set(job.INITID).at[:,6].set(34200.00000000)\n",
    "\n",
    "\n",
    "df_orders=df_msg.rename(columns={1:'Type',5:'Side',3:'Quantity',4:'Price',2:'OrderID',0:'Time'})\n",
    "df_orders['TradeID']=0\n",
    "col_order=['Type','Side','Quantity','Price','TradeID','OrderID','Time']\n",
    "df_orders=df_orders[col_order]\n",
    "df_orders_simple=df_orders[(df_orders['Type']!=6)&(df_orders['Type']!=7)&(df_orders['Type']!=5)]\n",
    "\n",
    "ordersJNP=jnp.array(df_orders_simple)\n",
    "print(ordersJNP.shape)"
   ]
  },
  {
   "cell_type": "code",
   "execution_count": 13,
   "id": "ccd55ca5",
   "metadata": {},
   "outputs": [
    {
     "data": {
      "text/plain": [
       "(216711, 7)"
      ]
     },
     "execution_count": 13,
     "metadata": {},
     "output_type": "execute_result"
    }
   ],
   "source": []
  },
  {
   "cell_type": "code",
   "execution_count": 16,
   "id": "210f8389",
   "metadata": {},
   "outputs": [],
   "source": [
    "orderbook=JaxOrderBook()\n",
    "trades_init=orderbook.process_orders_array(initOB)\n",
    "trades_msgs=orderbook.process_orders_array(ordersJNP[0:35])"
   ]
  },
  {
   "cell_type": "code",
   "execution_count": null,
   "id": "09bea80c",
   "metadata": {},
   "outputs": [],
   "source": []
  }
 ],
 "metadata": {
  "kernelspec": {
   "display_name": "Python 3.10.5 64-bit ('project-RL4ABM': venv)",
   "language": "python",
   "name": "python3105jvsc74a57bd0fe8764737fd002e5c238d058ac040ae3d087631310ec561041f7cdd5a6f98401"
  },
  "language_info": {
   "codemirror_mode": {
    "name": "ipython",
    "version": 3
   },
   "file_extension": ".py",
   "mimetype": "text/x-python",
   "name": "python",
   "nbconvert_exporter": "python",
   "pygments_lexer": "ipython3",
   "version": "3.10.5"
  }
 },
 "nbformat": 4,
 "nbformat_minor": 5
}
