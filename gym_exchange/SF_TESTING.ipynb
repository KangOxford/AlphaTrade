{
 "cells": [
  {
   "cell_type": "code",
   "execution_count": 1,
   "metadata": {},
   "outputs": [
    {
     "name": "stderr",
     "output_type": "stream",
     "text": [
      "2023-07-21 15:21:56.448059: I tensorflow/core/platform/cpu_feature_guard.cc:182] This TensorFlow binary is optimized to use available CPU instructions in performance-critical operations.\n",
      "To enable the following instructions: AVX2 FMA, in other operations, rebuild TensorFlow with the appropriate compiler flags.\n",
      "2023-07-21 15:21:58.825621: W tensorflow/compiler/tf2tensorrt/utils/py_utils.cc:38] TF-TRT Warning: Could not find TensorRT\n"
     ]
    }
   ],
   "source": [
    "from gym_exchange.environment.training_env.train_env import TrainEnv \n",
    "from gym_exchange.more_features.action import Action"
   ]
  },
  {
   "cell_type": "code",
   "execution_count": 7,
   "metadata": {},
   "outputs": [
    {
     "name": "stdout",
     "output_type": "stream",
     "text": [
      "*** horizon_length: 523\n",
      "*** raw_horizon: 52823\n"
     ]
    }
   ],
   "source": [
    "from gym_exchange import Config\n",
    "\n",
    "from gym_exchange.data_orderbook_adapter.raw_encoder import RawDecoder,RawEncoder\n",
    "from gym_exchange.data_orderbook_adapter.decoder import Decoder\n",
    "from gym_exchange.data_orderbook_adapter.encoder import Encoder\n",
    "from gym_exchange.data_orderbook_adapter.data_pipeline import DataPipeline\n",
    "def to_order_flow_lists(flow_lists):\n",
    "    '''change side format from bid/ask to 1/-1\n",
    "    side = -1 if item.side == 'ask' else 1'''\n",
    "    for flow_list in flow_lists:\n",
    "        for item in flow_list:\n",
    "            side = -1 if item.side == 'ask' else 1\n",
    "            item.side = side\n",
    "    return flow_lists\n",
    "def flow_lists_initialization():\n",
    "    if Config.exchange_data_source == \"encoder\":\n",
    "        decoder = Decoder(**DataPipeline()())\n",
    "        encoder = Encoder(decoder)\n",
    "    elif Config.exchange_data_source == \"raw_encoder\":\n",
    "        decoder = RawDecoder(**DataPipeline()())\n",
    "        encoder = RawEncoder(decoder)\n",
    "    else:\n",
    "        raise NotImplementedError\n",
    "    flow_lists = encoder()\n",
    "    flow_lists = to_order_flow_lists(flow_lists)\n",
    "    return flow_lists\n",
    "\n",
    "flow_lists_initialized = flow_lists_initialization()"
   ]
  },
  {
   "cell_type": "code",
   "execution_count": 3,
   "metadata": {},
   "outputs": [
    {
     "name": "stdout",
     "output_type": "stream",
     "text": [
      "===TimewindowEnv===\n",
      "*** horizon_length: 523\n",
      "*** raw_horizon: 52823\n",
      "env reset\n"
     ]
    }
   ],
   "source": [
    "env=TrainEnv(flow_lists_initialized)\n",
    "state=env.reset()"
   ]
  },
  {
   "cell_type": "code",
   "execution_count": 9,
   "metadata": {},
   "outputs": [
    {
     "name": "stdout",
     "output_type": "stream",
     "text": [
      "\n"
     ]
    },
    {
     "ename": "ValueError",
     "evalue": "setting an array element with a sequence. The requested array has an inhomogeneous shape after 1 dimensions. The detected shape was (2,) + inhomogeneous part.",
     "output_type": "error",
     "traceback": [
      "\u001b[0;31m---------------------------------------------------------------------------\u001b[0m",
      "\u001b[0;31mValueError\u001b[0m                                Traceback (most recent call last)",
      "Cell \u001b[0;32mIn[9], line 1\u001b[0m\n\u001b[0;32m----> 1\u001b[0m env\u001b[39m.\u001b[39;49mstep([\u001b[39m1\u001b[39;49m,\u001b[39m1\u001b[39;49m,\u001b[39m0\u001b[39;49m])\n",
      "File \u001b[0;32m~/AlphaTrade/gym_exchange/environment/timewindow_env/timewindow_env.py:57\u001b[0m, in \u001b[0;36mTimewindowEnv.step\u001b[0;34m(self, action)\u001b[0m\n\u001b[1;32m     54\u001b[0m \u001b[39mdef\u001b[39;00m \u001b[39mstep\u001b[39m(\u001b[39mself\u001b[39m, action):\n\u001b[1;32m     55\u001b[0m \u001b[39m    \u001b[39m\u001b[39m'''input : action\u001b[39;00m\n\u001b[1;32m     56\u001b[0m \u001b[39m       return: observation, reward, done, info'''\u001b[39;00m\n\u001b[0;32m---> 57\u001b[0m     state, reward, done, info \u001b[39m=\u001b[39m \u001b[39msuper\u001b[39;49m()\u001b[39m.\u001b[39;49mstep(action)\n\u001b[1;32m     58\u001b[0m     \u001b[39mreturn\u001b[39;00m state, reward, done, info\n",
      "File \u001b[0;32m~/AlphaTrade/gym_exchange/environment/base_env/base_env.py:85\u001b[0m, in \u001b[0;36mBaseEnv.step\u001b[0;34m(self, delta_action)\u001b[0m\n\u001b[1;32m     82\u001b[0m \u001b[39m\u001b[39m\u001b[39m'''input : action\u001b[39;00m\n\u001b[1;32m     83\u001b[0m \u001b[39m   return: observation, reward, done, info'''\u001b[39;00m\n\u001b[1;32m     84\u001b[0m \u001b[39m# print(f\"delta_action {delta_action}\") #$\u001b[39;00m\n\u001b[0;32m---> 85\u001b[0m state, reward, done, info \u001b[39m=\u001b[39m \u001b[39mself\u001b[39m\u001b[39m.\u001b[39mstate(delta_action), \u001b[39mself\u001b[39m\u001b[39m.\u001b[39mreward, \u001b[39mself\u001b[39m\u001b[39m.\u001b[39mdone, \u001b[39mself\u001b[39;49m\u001b[39m.\u001b[39;49minfo\n\u001b[1;32m     86\u001b[0m \u001b[39mreturn\u001b[39;00m state, reward, done, info\n",
      "File \u001b[0;32m~/AlphaTrade/gym_exchange/environment/basic_env/basic_env.py:35\u001b[0m, in \u001b[0;36mBasicEnv.info\u001b[0;34m(self)\u001b[0m\n\u001b[1;32m     32\u001b[0m \u001b[39m@property\u001b[39m\n\u001b[1;32m     33\u001b[0m \u001b[39mdef\u001b[39;00m \u001b[39minfo\u001b[39m(\u001b[39mself\u001b[39m):\n\u001b[1;32m     34\u001b[0m     super_info \u001b[39m=\u001b[39m \u001b[39msuper\u001b[39m()\u001b[39m.\u001b[39minfo\n\u001b[0;32m---> 35\u001b[0m     returned_info \u001b[39m=\u001b[39m \u001b[39mself\u001b[39;49m\u001b[39m.\u001b[39;49minfo_generator\u001b[39m.\u001b[39;49mstep(\u001b[39mself\u001b[39;49m)\n\u001b[1;32m     36\u001b[0m     \u001b[39mreturn\u001b[39;00m returned_info\n",
      "File \u001b[0;32m~/AlphaTrade/gym_exchange/environment/basic_env/assets/info.py:23\u001b[0m, in \u001b[0;36mInfoGenerator.step\u001b[0;34m(self, Self)\u001b[0m\n\u001b[1;32m     20\u001b[0m residual_action_dict \u001b[39m=\u001b[39m{\u001b[39m\"\u001b[39m\u001b[39mResidual_action/Quantity\u001b[39m\u001b[39m\"\u001b[39m: Self\u001b[39m.\u001b[39morder_flow_generator\u001b[39m.\u001b[39mresidual_action}\n\u001b[1;32m     21\u001b[0m \u001b[39m# actual_action_dict = {\"Actual_action/Price\":Self.wrapped_order_flow.price,\u001b[39;00m\n\u001b[1;32m     22\u001b[0m \u001b[39m#                       \"Actual_action/Quantity\":Self.wrapped_order_flow.quantity}\u001b[39;00m\n\u001b[0;32m---> 23\u001b[0m orderbook_distance_dict \u001b[39m=\u001b[39m {\u001b[39m\"\u001b[39m\u001b[39mOrderbook/Distance\u001b[39m\u001b[39m\"\u001b[39m: Self\u001b[39m.\u001b[39;49morderbook_distance\u001b[39m.\u001b[39;49mget_distance(Self)}\n\u001b[1;32m     24\u001b[0m epoch_task_dict \u001b[39m=\u001b[39m {\u001b[39m\"\u001b[39m\u001b[39mEpoch/Num_hold\u001b[39m\u001b[39m\"\u001b[39m: step_num_hold_dict[\u001b[39m\"\u001b[39m\u001b[39mStep/Current_num_hold\u001b[39m\u001b[39m\"\u001b[39m] \u001b[39mif\u001b[39;00m Self\u001b[39m.\u001b[39mdone \u001b[39melse\u001b[39;00m \u001b[39mNone\u001b[39;00m,\n\u001b[1;32m     25\u001b[0m                    \u001b[39m\"\u001b[39m\u001b[39mEpoch/Num_left\u001b[39m\u001b[39m\"\u001b[39m: Self\u001b[39m.\u001b[39mnum_left_processor\u001b[39m.\u001b[39mnum_left  \u001b[39mif\u001b[39;00m Self\u001b[39m.\u001b[39mdone \u001b[39melse\u001b[39;00m \u001b[39mNone\u001b[39;00m}\n\u001b[1;32m     26\u001b[0m returned_info \u001b[39m=\u001b[39m {\n\u001b[1;32m     27\u001b[0m     \u001b[39m*\u001b[39m\u001b[39m*\u001b[39morderbook_distance_dict,\n\u001b[1;32m     28\u001b[0m     \u001b[39m# **actual_action_dict,\u001b[39;00m\n\u001b[0;32m   (...)\u001b[0m\n\u001b[1;32m     32\u001b[0m     \u001b[39m*\u001b[39m\u001b[39m*\u001b[39mepoch_task_dict\n\u001b[1;32m     33\u001b[0m     }\n",
      "File \u001b[0;32m~/AlphaTrade/gym_exchange/environment/basic_env/assets/measure.py:31\u001b[0m, in \u001b[0;36mOrderbookDistance.get_distance\u001b[0;34m(self, Self)\u001b[0m\n\u001b[1;32m     29\u001b[0m generated_orderbook_ask \u001b[39m=\u001b[39m [[generated_orderbook_ask[\u001b[39m2\u001b[39m \u001b[39m*\u001b[39m i], generated_orderbook_ask[\u001b[39m2\u001b[39m \u001b[39m*\u001b[39m i \u001b[39m+\u001b[39m \u001b[39m1\u001b[39m]] \u001b[39mfor\u001b[39;00m i \u001b[39min\u001b[39;00m \u001b[39mrange\u001b[39m(\u001b[39mlen\u001b[39m(generated_orderbook_ask) \u001b[39m/\u001b[39m\u001b[39m/\u001b[39m \u001b[39m2\u001b[39m)]\n\u001b[1;32m     30\u001b[0m generated_orderbook_bid \u001b[39m=\u001b[39m [[generated_orderbook_bid[\u001b[39m2\u001b[39m \u001b[39m*\u001b[39m i], generated_orderbook_bid[\u001b[39m2\u001b[39m \u001b[39m*\u001b[39m i \u001b[39m+\u001b[39m \u001b[39m1\u001b[39m]] \u001b[39mfor\u001b[39;00m i \u001b[39min\u001b[39;00m \u001b[39mrange\u001b[39m(\u001b[39mlen\u001b[39m(generated_orderbook_bid) \u001b[39m/\u001b[39m\u001b[39m/\u001b[39m \u001b[39m2\u001b[39m)]\n\u001b[0;32m---> 31\u001b[0m generated_orderbook \u001b[39m=\u001b[39m np\u001b[39m.\u001b[39;49marray([generated_orderbook_ask, generated_orderbook_bid])\n\u001b[1;32m     32\u001b[0m generated_orderbook \u001b[39m=\u001b[39m generated_orderbook\u001b[39m.\u001b[39mflatten()\u001b[39m.\u001b[39mreshape(\u001b[39m-\u001b[39m\u001b[39m1\u001b[39m,\u001b[39m2\u001b[39m)  \u001b[39m# sequence/order doesn't matter\u001b[39;00m\n\u001b[1;32m     33\u001b[0m result \u001b[39m=\u001b[39m distance(generated_orderbook, data_orderbook)\n",
      "\u001b[0;31mValueError\u001b[0m: setting an array element with a sequence. The requested array has an inhomogeneous shape after 1 dimensions. The detected shape was (2,) + inhomogeneous part."
     ]
    }
   ],
   "source": [
    "env.step([1,1,0])"
   ]
  },
  {
   "cell_type": "code",
   "execution_count": null,
   "metadata": {},
   "outputs": [],
   "source": []
  }
 ],
 "metadata": {
  "kernelspec": {
   "display_name": "alphatrade",
   "language": "python",
   "name": "python3"
  },
  "language_info": {
   "codemirror_mode": {
    "name": "ipython",
    "version": 3
   },
   "file_extension": ".py",
   "mimetype": "text/x-python",
   "name": "python",
   "nbconvert_exporter": "python",
   "pygments_lexer": "ipython3",
   "version": "3.10.11"
  },
  "orig_nbformat": 4
 },
 "nbformat": 4,
 "nbformat_minor": 2
}
