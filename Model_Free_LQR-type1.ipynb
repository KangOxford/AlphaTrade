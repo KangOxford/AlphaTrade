{
 "cells": [
  {
   "cell_type": "code",
   "execution_count": 1,
   "metadata": {},
   "outputs": [],
   "source": [
    "import os\n",
    "import pandas as pd\n",
    "import glob\n",
    "from os import walk\n",
    "import numpy as np\n",
    "import random"
   ]
  },
  {
   "cell_type": "code",
   "execution_count": 2,
   "metadata": {},
   "outputs": [],
   "source": [
    "from bisect import bisect_left \n",
    "from bisect import bisect_right"
   ]
  },
  {
   "cell_type": "code",
   "execution_count": 3,
   "metadata": {},
   "outputs": [],
   "source": [
    "import numpy as np\n",
    "import pandas as pd\n",
    "import matplotlib.pyplot as plt\n",
    "%matplotlib inline\n",
    "import seaborn as sns; sns.set()\n",
    "import statsmodels.api as sm"
   ]
  },
  {
   "cell_type": "markdown",
   "metadata": {},
   "source": [
    "# Functions"
   ]
  },
  {
   "cell_type": "code",
   "execution_count": 6,
   "metadata": {},
   "outputs": [],
   "source": [
    "def Cost_Fun(K,ind,total,lambda_):\n",
    "    lens = 59\n",
    "    left = total\n",
    "    cost = 0\n",
    "    for i in range(lens):\n",
    "        curr_data = process_data[ind,i,:]\n",
    "        mid_pr = curr_data[0]/10000\n",
    "        quantity = -K[i,0]*mid_pr -K[i,1]*left\n",
    "        left -= quantity\n",
    "        qt = np.array([curr_data[2], curr_data[4], curr_data[6], curr_data[8]])\n",
    "        qt_cum = np.cumsum(qt)\n",
    "        posi = int(np.min([int(np.sum(qt_cum<=quantity)),4]))\n",
    "        qt_tr = np.zeros(5)\n",
    "        qt_tr[:4] = qt*np.array(qt_cum<=quantity).astype(float)\n",
    "        qt_tr[posi] = np.max([quantity,0])-np.sum(qt_tr)\n",
    "        pr = np.array([curr_data[1], curr_data[3], curr_data[5], curr_data[7],curr_data[7]-10000])/10000\n",
    "        cost += -qt_tr.dot(pr) + 200*np.max([-quantity,0]) + lambda_ *(left)**2\n",
    "    \n",
    "    curr_data = process_data[ind,-1,:]\n",
    "    qt = np.array([curr_data[2], curr_data[4], curr_data[6], curr_data[8]])\n",
    "    qt_cum = np.cumsum(qt)\n",
    "    posi = int(np.min([int(np.sum(qt_cum<=left)),4]))\n",
    "    qt_tr = qt*np.array(qt_cum<=quantity).astype(float)\n",
    "    qt_tr[posi] = np.max([quantity,0])-np.sum(qt_tr)\n",
    "    pr = np.array([curr_data[1], curr_data[3], curr_data[5], curr_data[7]-10000])/10000\n",
    "    cost+=  -qt_tr.dot(pr) + 200*np.max([-left,0]) + lambda_ *(left)**2\n",
    "    \n",
    "    return cost/total"
   ]
  },
  {
   "cell_type": "code",
   "execution_count": 7,
   "metadata": {},
   "outputs": [],
   "source": [
    "def inventory_visualizaton(K,pri,total):\n",
    "    mid_pr = pri/10000\n",
    "    inventory = np.zeros(61)\n",
    "    inventory[0] = total\n",
    "    for t in range(59):\n",
    "        quantity = -K[t,0]*mid_pr[t] - K[t,1]*inventory[t]\n",
    "        inventory[t+1] = inventory[t]- quantity\n",
    "    return inventory"
   ]
  },
  {
   "cell_type": "code",
   "execution_count": null,
   "metadata": {},
   "outputs": [],
   "source": []
  },
  {
   "cell_type": "markdown",
   "metadata": {},
   "source": [
    "# Data Input"
   ]
  },
  {
   "cell_type": "code",
   "execution_count": 8,
   "metadata": {},
   "outputs": [],
   "source": [
    "data = pd.read_csv('IBM2018_10-11AM_1MIN.csv')"
   ]
  },
  {
   "cell_type": "code",
   "execution_count": 9,
   "metadata": {},
   "outputs": [],
   "source": [
    "trading_lens = 60 # trading period\n",
    "total_dates = 251 # trading day in 2018"
   ]
  },
  {
   "cell_type": "code",
   "execution_count": 10,
   "metadata": {},
   "outputs": [],
   "source": [
    "# first column: different dates over\n",
    "# one-minute time bin during 10:00am-11:am\n",
    "# last column: mid-price; (ask price on level i, ask size on level i) i=1,2,3,4\n",
    "process_data = np.array(data['0']).reshape((251,60,9))"
   ]
  },
  {
   "cell_type": "code",
   "execution_count": 11,
   "metadata": {},
   "outputs": [
    {
     "data": {
      "text/plain": [
       "array([1.54665e+06, 1.54610e+06, 2.00000e+02, 1.54580e+06, 1.00000e+02,\n",
       "       1.54570e+06, 1.01000e+02, 1.54550e+06, 1.00000e+02])"
      ]
     },
     "execution_count": 11,
     "metadata": {},
     "output_type": "execute_result"
    }
   ],
   "source": [
    "process_data[0,0,:]"
   ]
  },
  {
   "cell_type": "markdown",
   "metadata": {},
   "source": [
    "# Initialization "
   ]
  },
  {
   "cell_type": "code",
   "execution_count": 14,
   "metadata": {},
   "outputs": [],
   "source": [
    "# coefficients\n",
    "N = 50\n",
    "T = 60\n",
    "#K0 = -0.05*np.ones((T, 2)) #initial policy K_0\n",
    "#K0[:,:2] *=0.001\n",
    "K0 = np.ones((60,2))\n",
    "K0[:,0] *=-0.01\n",
    "K0[:,1] *=-0.1\n",
    "r = 0.4#smoothing parameter\n",
    "D = 2 #dimension\n",
    "m = 50 #number of trajectories\n",
    "nsample_mf = 1\n",
    "eta_mf = 10**-4\n",
    "CK_mf = np.zeros((N,nsample_mf)) #cost history of the model-free framework\n",
    "np.random.seed(125)\n",
    "shares= 5000\n",
    "K_store = np.ones((N,60,2))\n",
    "lambda_ = 0.01"
   ]
  },
  {
   "cell_type": "code",
   "execution_count": 15,
   "metadata": {},
   "outputs": [
    {
     "data": {
      "text/plain": [
       "[<matplotlib.lines.Line2D at 0x7f321ee538d0>]"
      ]
     },
     "execution_count": 15,
     "metadata": {},
     "output_type": "execute_result"
    },
    {
     "data": {
      "image/png": "[encoded data removed]",
      "text/plain": [
       "<Figure size 432x288 with 1 Axes>"
      ]
     },
     "metadata": {},
     "output_type": "display_data"
    }
   ],
   "source": [
    "plt.plot(inventory_visualizaton(K0,process_data[3,:,0],shares))"
   ]
  },
  {
   "cell_type": "code",
   "execution_count": 16,
   "metadata": {
    "scrolled": true
   },
   "outputs": [
    {
     "name": "stdout",
     "output_type": "stream",
     "text": [
      "0\n",
      "0.7205052795432119 7.167689203311449\n",
      "1\n",
      "0.33519821719150333 7.39564631104269\n",
      "2\n",
      "0.3773830680029541 7.57321119466996\n",
      "3\n",
      "0.4370111038943225 7.729466266816052\n",
      "4\n",
      "0.4229539988568515 7.81125766317091\n",
      "5\n",
      "0.46126522216799704 7.869353422741616\n",
      "6\n",
      "0.4760774871107873 7.913652909820025\n",
      "7\n",
      "0.45216496036958975 7.915946356145673\n",
      "8\n",
      "0.44039939206297696 7.944190089390601\n",
      "9\n",
      "0.5220291731506399 8.08035125006404\n",
      "10\n",
      "0.4736409789460871 8.129031989791148\n",
      "11\n",
      "0.5157044445090484 8.268036724276623\n",
      "12\n",
      "0.5188960721492595 8.291080858557248\n",
      "13\n",
      "0.5429823308727533 8.334728518775858\n",
      "14\n",
      "0.5540214951481623 8.369420524431384\n",
      "15\n",
      "0.5376817370991762 8.405195071085917\n",
      "16\n",
      "0.5521438277650895 8.505517551885886\n",
      "17\n",
      "0.5218149389118188 8.383555803083699\n",
      "18\n",
      "0.519011313597151 8.379244844076709\n",
      "19\n",
      "0.6737136054311017 8.467938800422836\n",
      "20\n",
      "0.5745030766894754 8.436107110231916\n",
      "21\n",
      "0.5370642954471501 8.461708207343628\n",
      "22\n",
      "0.6596773412144987 8.469452116383582\n",
      "23\n",
      "0.5605130394829677 8.446550642369058\n",
      "24\n",
      "0.6977911285379056 8.49523520599957\n",
      "25\n",
      "0.5821077986660383 8.541293944875289\n",
      "26\n",
      "0.5246160693730362 8.508569753121325\n",
      "27\n",
      "0.6530277201289125 8.541963868324782\n",
      "28\n",
      "0.5716866862319009 8.506706098213577\n",
      "29\n",
      "0.605664037999385 8.63191922552594\n",
      "30\n",
      "0.556038909612955 8.6708452389406\n",
      "31\n",
      "0.49558933756122525 8.71365732908409\n",
      "32\n",
      "0.615301136236078 8.633802569231541\n",
      "33\n",
      "0.5852587116191931 8.677867431997043\n",
      "34\n",
      "0.6560260622608365 8.811939385518048\n",
      "35\n",
      "0.5810337198988489 8.844106055531682\n",
      "36\n",
      "0.6357069122129202 8.72933102773581\n",
      "37\n",
      "0.5836893438989715 8.734218745616413\n",
      "38\n",
      "0.6077322517215209 8.857508362185062\n",
      "39\n",
      "0.5641981037211448 8.936987333631183\n",
      "40\n",
      "0.5517365761330731 9.012228184066345\n",
      "41\n",
      "0.5830702167501991 9.11114567649837\n",
      "42\n",
      "0.653307985770602 9.156757434393672\n",
      "43\n",
      "0.5639929490466612 9.095826354822844\n",
      "44\n",
      "0.6769688245518779 9.194719684430568\n",
      "45\n",
      "0.6300202407921092 9.236051321709361\n",
      "46\n",
      "0.5399681695877766 9.300998103624806\n",
      "47\n",
      "0.5823107971408198 9.36563879643088\n",
      "48\n",
      "0.6325254315228466 9.301424501486444\n",
      "49\n",
      "0.6421208231665311 9.385255512888927\n"
     ]
    }
   ],
   "source": [
    "for k in range(nsample_mf):\n",
    "    K = np.matrix(K0) #current policy\n",
    "    for i in range(N):\n",
    "        print(i)\n",
    "        \n",
    "        \n",
    "        nablaCK_hat = np.matrix(np.zeros((T, 2)))\n",
    "        for j in range(m):\n",
    "            \n",
    "            ind  = random.randint(0, 250)\n",
    "            for j in range(250):\n",
    "                CK_mf[i,k] += Cost_Fun(K,j,shares,lambda_)\n",
    "            CK_mf[i,k]/= 250\n",
    "            \n",
    "            for t in range(T):\n",
    "                a = np.random.uniform(low=-0.1, high=0.1,size=(1,1))[0,0]\n",
    "                b = np.random.uniform(low=-1, high=1,size=(1,1))[0,0]\n",
    "                Uti = np.matrix(np.array([a,b]))\n",
    "                Uti = r*Uti/np.linalg.norm(Uti,'fro')\n",
    "                pertK = np.matrix(K) #perturbed policy K\n",
    "                pertK[t,:] = pertK[t,:] + Uti\n",
    "                #print(\"==\")\n",
    "                #print(Uti)\n",
    "                #print(pertK[t,:] + Uti)\n",
    "                #print(pertK)\n",
    "                ind  = random.randint(0, 250)\n",
    "                CK_sig = Cost_Fun(pertK,ind,shares,lambda_)\n",
    "                nablaCK_hat[t,:] = nablaCK_hat[t,:] + (D/r**2)*CK_sig*Uti\n",
    "        nablaCK_hat = nablaCK_hat/m\n",
    "        K = K-eta_mf*nablaCK_hat\n",
    "        print(np.sum(np.abs(eta_mf*nablaCK_hat)),np.sum(np.abs(K)))\n",
    "        K_store[i,:] = K"
   ]
  },
  {
   "cell_type": "code",
   "execution_count": 17,
   "metadata": {},
   "outputs": [
    {
     "data": {
      "text/plain": [
       "[<matplotlib.lines.Line2D at 0x7f321edbec50>]"
      ]
     },
     "execution_count": 17,
     "metadata": {},
     "output_type": "execute_result"
    },
    {
     "data": {
      "image/png": "[encoded data removed]",
      "text/plain": [
       "<Figure size 432x288 with 1 Axes>"
      ]
     },
     "metadata": {},
     "output_type": "display_data"
    }
   ],
   "source": [
    "plt.plot(CK_mf)"
   ]
  },
  {
   "cell_type": "code",
   "execution_count": 18,
   "metadata": {},
   "outputs": [
    {
     "data": {
      "text/plain": [
       "[<matplotlib.lines.Line2D at 0x7f321ed7db00>]"
      ]
     },
     "execution_count": 18,
     "metadata": {},
     "output_type": "execute_result"
    },
    {
     "data": {
      "image/png": "[encoded data removed]",
      "text/plain": [
       "<Figure size 432x288 with 1 Axes>"
      ]
     },
     "metadata": {},
     "output_type": "display_data"
    }
   ],
   "source": [
    "plt.plot(inventory_visualizaton(K_store[0,:],process_data[3,:,0],5000))\n",
    "plt.plot(inventory_visualizaton(K_store[-1,:],process_data[3,:,0],5000))"
   ]
  },
  {
   "cell_type": "code",
   "execution_count": null,
   "metadata": {},
   "outputs": [],
   "source": []
  }
 ],
 "metadata": {
  "kernelspec": {
   "display_name": "Python 3",
   "language": "python",
   "name": "python3"
  },
  "language_info": {
   "codemirror_mode": {
    "name": "ipython",
    "version": 3
   },
   "file_extension": ".py",
   "mimetype": "text/x-python",
   "name": "python",
   "nbconvert_exporter": "python",
   "pygments_lexer": "ipython3",
   "version": "3.6.9"
  }
 },
 "nbformat": 4,
 "nbformat_minor": 4
}
